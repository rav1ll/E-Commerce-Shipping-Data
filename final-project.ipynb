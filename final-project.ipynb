{
 "metadata": {
  "kernelspec": {
   "language": "python",
   "display_name": "Python 3",
   "name": "python3"
  },
  "language_info": {
   "name": "python",
   "version": "3.7.12",
   "mimetype": "text/x-python",
   "codemirror_mode": {
    "name": "ipython",
    "version": 3
   },
   "pygments_lexer": "ipython3",
   "nbconvert_exporter": "python",
   "file_extension": ".py"
  }
 },
 "nbformat_minor": 4,
 "nbformat": 4,
 "cells": [
  {
   "cell_type": "code",
   "source": "import pandas as pd\nimport numpy as np\nimport seaborn as sns\nsns.set_style(\"whitegrid\")",
   "metadata": {
    "_uuid": "8f2839f25d086af736a60e9eeb907d3b93b6e0e5",
    "_cell_guid": "b1076dfc-b9ad-4769-8c92-a6c4dae69d19",
    "execution": {
     "iopub.status.busy": "2022-12-22T08:41:38.934866Z",
     "iopub.execute_input": "2022-12-22T08:41:38.935274Z",
     "iopub.status.idle": "2022-12-22T08:41:38.939975Z",
     "shell.execute_reply.started": "2022-12-22T08:41:38.935240Z",
     "shell.execute_reply": "2022-12-22T08:41:38.939091Z"
    },
    "trusted": true
   },
   "execution_count": 63,
   "outputs": []
  },
  {
   "cell_type": "markdown",
   "source": "## Загрузим датасет",
   "metadata": {}
  },
  {
   "cell_type": "code",
   "source": "dataset = pd.read_csv(r\"../input/customer-analytics/Train.csv\")",
   "metadata": {
    "execution": {
     "iopub.status.busy": "2022-12-22T08:41:38.963663Z",
     "iopub.execute_input": "2022-12-22T08:41:38.964327Z",
     "iopub.status.idle": "2022-12-22T08:41:38.985863Z",
     "shell.execute_reply.started": "2022-12-22T08:41:38.964289Z",
     "shell.execute_reply": "2022-12-22T08:41:38.985105Z"
    },
    "trusted": true
   },
   "execution_count": 64,
   "outputs": []
  },
  {
   "cell_type": "code",
   "source": "dataset.head()",
   "metadata": {
    "execution": {
     "iopub.status.busy": "2022-12-22T08:41:38.996699Z",
     "iopub.execute_input": "2022-12-22T08:41:38.997033Z",
     "iopub.status.idle": "2022-12-22T08:41:39.014722Z",
     "shell.execute_reply.started": "2022-12-22T08:41:38.997005Z",
     "shell.execute_reply": "2022-12-22T08:41:39.013829Z"
    },
    "trusted": true
   },
   "execution_count": 65,
   "outputs": [
    {
     "execution_count": 65,
     "output_type": "execute_result",
     "data": {
      "text/plain": "   ID Warehouse_block Mode_of_Shipment  Customer_care_calls  Customer_rating  \\\n0   1               D           Flight                    4                2   \n1   2               F           Flight                    4                5   \n2   3               A           Flight                    2                2   \n3   4               B           Flight                    3                3   \n4   5               C           Flight                    2                2   \n\n   Cost_of_the_Product  Prior_purchases Product_importance Gender  \\\n0                  177                3                low      F   \n1                  216                2                low      M   \n2                  183                4                low      M   \n3                  176                4             medium      M   \n4                  184                3             medium      F   \n\n   Discount_offered  Weight_in_gms  Reached.on.Time_Y.N  \n0                44           1233                    1  \n1                59           3088                    1  \n2                48           3374                    1  \n3                10           1177                    1  \n4                46           2484                    1  ",
      "text/html": "<div>\n<style scoped>\n    .dataframe tbody tr th:only-of-type {\n        vertical-align: middle;\n    }\n\n    .dataframe tbody tr th {\n        vertical-align: top;\n    }\n\n    .dataframe thead th {\n        text-align: right;\n    }\n</style>\n<table border=\"1\" class=\"dataframe\">\n  <thead>\n    <tr style=\"text-align: right;\">\n      <th></th>\n      <th>ID</th>\n      <th>Warehouse_block</th>\n      <th>Mode_of_Shipment</th>\n      <th>Customer_care_calls</th>\n      <th>Customer_rating</th>\n      <th>Cost_of_the_Product</th>\n      <th>Prior_purchases</th>\n      <th>Product_importance</th>\n      <th>Gender</th>\n      <th>Discount_offered</th>\n      <th>Weight_in_gms</th>\n      <th>Reached.on.Time_Y.N</th>\n    </tr>\n  </thead>\n  <tbody>\n    <tr>\n      <th>0</th>\n      <td>1</td>\n      <td>D</td>\n      <td>Flight</td>\n      <td>4</td>\n      <td>2</td>\n      <td>177</td>\n      <td>3</td>\n      <td>low</td>\n      <td>F</td>\n      <td>44</td>\n      <td>1233</td>\n      <td>1</td>\n    </tr>\n    <tr>\n      <th>1</th>\n      <td>2</td>\n      <td>F</td>\n      <td>Flight</td>\n      <td>4</td>\n      <td>5</td>\n      <td>216</td>\n      <td>2</td>\n      <td>low</td>\n      <td>M</td>\n      <td>59</td>\n      <td>3088</td>\n      <td>1</td>\n    </tr>\n    <tr>\n      <th>2</th>\n      <td>3</td>\n      <td>A</td>\n      <td>Flight</td>\n      <td>2</td>\n      <td>2</td>\n      <td>183</td>\n      <td>4</td>\n      <td>low</td>\n      <td>M</td>\n      <td>48</td>\n      <td>3374</td>\n      <td>1</td>\n    </tr>\n    <tr>\n      <th>3</th>\n      <td>4</td>\n      <td>B</td>\n      <td>Flight</td>\n      <td>3</td>\n      <td>3</td>\n      <td>176</td>\n      <td>4</td>\n      <td>medium</td>\n      <td>M</td>\n      <td>10</td>\n      <td>1177</td>\n      <td>1</td>\n    </tr>\n    <tr>\n      <th>4</th>\n      <td>5</td>\n      <td>C</td>\n      <td>Flight</td>\n      <td>2</td>\n      <td>2</td>\n      <td>184</td>\n      <td>3</td>\n      <td>medium</td>\n      <td>F</td>\n      <td>46</td>\n      <td>2484</td>\n      <td>1</td>\n    </tr>\n  </tbody>\n</table>\n</div>"
     },
     "metadata": {}
    }
   ]
  },
  {
   "cell_type": "code",
   "source": "dataset.describe()",
   "metadata": {
    "execution": {
     "iopub.status.busy": "2022-12-22T08:41:39.027644Z",
     "iopub.execute_input": "2022-12-22T08:41:39.028965Z",
     "iopub.status.idle": "2022-12-22T08:41:39.066901Z",
     "shell.execute_reply.started": "2022-12-22T08:41:39.028915Z",
     "shell.execute_reply": "2022-12-22T08:41:39.065746Z"
    },
    "trusted": true
   },
   "execution_count": 66,
   "outputs": [
    {
     "execution_count": 66,
     "output_type": "execute_result",
     "data": {
      "text/plain": "                ID  Customer_care_calls  Customer_rating  Cost_of_the_Product  \\\ncount  10999.00000         10999.000000     10999.000000         10999.000000   \nmean    5500.00000             4.054459         2.990545           210.196836   \nstd     3175.28214             1.141490         1.413603            48.063272   \nmin        1.00000             2.000000         1.000000            96.000000   \n25%     2750.50000             3.000000         2.000000           169.000000   \n50%     5500.00000             4.000000         3.000000           214.000000   \n75%     8249.50000             5.000000         4.000000           251.000000   \nmax    10999.00000             7.000000         5.000000           310.000000   \n\n       Prior_purchases  Discount_offered  Weight_in_gms  Reached.on.Time_Y.N  \ncount     10999.000000      10999.000000   10999.000000         10999.000000  \nmean          3.567597         13.373216    3634.016729             0.596691  \nstd           1.522860         16.205527    1635.377251             0.490584  \nmin           2.000000          1.000000    1001.000000             0.000000  \n25%           3.000000          4.000000    1839.500000             0.000000  \n50%           3.000000          7.000000    4149.000000             1.000000  \n75%           4.000000         10.000000    5050.000000             1.000000  \nmax          10.000000         65.000000    7846.000000             1.000000  ",
      "text/html": "<div>\n<style scoped>\n    .dataframe tbody tr th:only-of-type {\n        vertical-align: middle;\n    }\n\n    .dataframe tbody tr th {\n        vertical-align: top;\n    }\n\n    .dataframe thead th {\n        text-align: right;\n    }\n</style>\n<table border=\"1\" class=\"dataframe\">\n  <thead>\n    <tr style=\"text-align: right;\">\n      <th></th>\n      <th>ID</th>\n      <th>Customer_care_calls</th>\n      <th>Customer_rating</th>\n      <th>Cost_of_the_Product</th>\n      <th>Prior_purchases</th>\n      <th>Discount_offered</th>\n      <th>Weight_in_gms</th>\n      <th>Reached.on.Time_Y.N</th>\n    </tr>\n  </thead>\n  <tbody>\n    <tr>\n      <th>count</th>\n      <td>10999.00000</td>\n      <td>10999.000000</td>\n      <td>10999.000000</td>\n      <td>10999.000000</td>\n      <td>10999.000000</td>\n      <td>10999.000000</td>\n      <td>10999.000000</td>\n      <td>10999.000000</td>\n    </tr>\n    <tr>\n      <th>mean</th>\n      <td>5500.00000</td>\n      <td>4.054459</td>\n      <td>2.990545</td>\n      <td>210.196836</td>\n      <td>3.567597</td>\n      <td>13.373216</td>\n      <td>3634.016729</td>\n      <td>0.596691</td>\n    </tr>\n    <tr>\n      <th>std</th>\n      <td>3175.28214</td>\n      <td>1.141490</td>\n      <td>1.413603</td>\n      <td>48.063272</td>\n      <td>1.522860</td>\n      <td>16.205527</td>\n      <td>1635.377251</td>\n      <td>0.490584</td>\n    </tr>\n    <tr>\n      <th>min</th>\n      <td>1.00000</td>\n      <td>2.000000</td>\n      <td>1.000000</td>\n      <td>96.000000</td>\n      <td>2.000000</td>\n      <td>1.000000</td>\n      <td>1001.000000</td>\n      <td>0.000000</td>\n    </tr>\n    <tr>\n      <th>25%</th>\n      <td>2750.50000</td>\n      <td>3.000000</td>\n      <td>2.000000</td>\n      <td>169.000000</td>\n      <td>3.000000</td>\n      <td>4.000000</td>\n      <td>1839.500000</td>\n      <td>0.000000</td>\n    </tr>\n    <tr>\n      <th>50%</th>\n      <td>5500.00000</td>\n      <td>4.000000</td>\n      <td>3.000000</td>\n      <td>214.000000</td>\n      <td>3.000000</td>\n      <td>7.000000</td>\n      <td>4149.000000</td>\n      <td>1.000000</td>\n    </tr>\n    <tr>\n      <th>75%</th>\n      <td>8249.50000</td>\n      <td>5.000000</td>\n      <td>4.000000</td>\n      <td>251.000000</td>\n      <td>4.000000</td>\n      <td>10.000000</td>\n      <td>5050.000000</td>\n      <td>1.000000</td>\n    </tr>\n    <tr>\n      <th>max</th>\n      <td>10999.00000</td>\n      <td>7.000000</td>\n      <td>5.000000</td>\n      <td>310.000000</td>\n      <td>10.000000</td>\n      <td>65.000000</td>\n      <td>7846.000000</td>\n      <td>1.000000</td>\n    </tr>\n  </tbody>\n</table>\n</div>"
     },
     "metadata": {}
    }
   ]
  },
  {
   "cell_type": "markdown",
   "source": "## Уберем столбец с ID, он нам не нужен",
   "metadata": {}
  },
  {
   "cell_type": "code",
   "source": "dataset.drop(columns=['ID'], inplace=True)",
   "metadata": {
    "execution": {
     "iopub.status.busy": "2022-12-22T08:41:39.068822Z",
     "iopub.execute_input": "2022-12-22T08:41:39.069163Z",
     "iopub.status.idle": "2022-12-22T08:41:39.076757Z",
     "shell.execute_reply.started": "2022-12-22T08:41:39.069122Z",
     "shell.execute_reply": "2022-12-22T08:41:39.075535Z"
    },
    "trusted": true
   },
   "execution_count": 67,
   "outputs": []
  },
  {
   "cell_type": "code",
   "source": "dataset.info()",
   "metadata": {
    "execution": {
     "iopub.status.busy": "2022-12-22T08:41:39.123938Z",
     "iopub.execute_input": "2022-12-22T08:41:39.124944Z",
     "iopub.status.idle": "2022-12-22T08:41:39.140470Z",
     "shell.execute_reply.started": "2022-12-22T08:41:39.124903Z",
     "shell.execute_reply": "2022-12-22T08:41:39.139349Z"
    },
    "trusted": true
   },
   "execution_count": 68,
   "outputs": [
    {
     "name": "stdout",
     "text": "<class 'pandas.core.frame.DataFrame'>\nRangeIndex: 10999 entries, 0 to 10998\nData columns (total 11 columns):\n #   Column               Non-Null Count  Dtype \n---  ------               --------------  ----- \n 0   Warehouse_block      10999 non-null  object\n 1   Mode_of_Shipment     10999 non-null  object\n 2   Customer_care_calls  10999 non-null  int64 \n 3   Customer_rating      10999 non-null  int64 \n 4   Cost_of_the_Product  10999 non-null  int64 \n 5   Prior_purchases      10999 non-null  int64 \n 6   Product_importance   10999 non-null  object\n 7   Gender               10999 non-null  object\n 8   Discount_offered     10999 non-null  int64 \n 9   Weight_in_gms        10999 non-null  int64 \n 10  Reached.on.Time_Y.N  10999 non-null  int64 \ndtypes: int64(7), object(4)\nmemory usage: 945.4+ KB\n",
     "output_type": "stream"
    }
   ]
  },
  {
   "cell_type": "markdown",
   "source": "## Посмотрим доставки, которые выполнены без задержек\n\n## Столбец reached on time дает 0 если доставка осуществлена вовремя",
   "metadata": {}
  },
  {
   "cell_type": "code",
   "source": "dataset[dataset['Reached.on.Time_Y.N'] == 0].describe().T",
   "metadata": {
    "execution": {
     "iopub.status.busy": "2022-12-22T08:41:39.158222Z",
     "iopub.execute_input": "2022-12-22T08:41:39.159576Z",
     "iopub.status.idle": "2022-12-22T08:41:39.198588Z",
     "shell.execute_reply.started": "2022-12-22T08:41:39.159534Z",
     "shell.execute_reply": "2022-12-22T08:41:39.197671Z"
    },
    "trusted": true
   },
   "execution_count": 69,
   "outputs": [
    {
     "execution_count": 69,
     "output_type": "execute_result",
     "data": {
      "text/plain": "                      count         mean          std     min     25%     50%  \\\nCustomer_care_calls  4436.0     4.147656     1.162771     2.0     3.0     4.0   \nCustomer_rating      4436.0     2.967989     1.414808     1.0     2.0     3.0   \nCost_of_the_Product  4436.0   214.498647    47.757432    97.0   174.0   222.0   \nPrior_purchases      4436.0     3.670424     1.525444     2.0     3.0     3.0   \nDiscount_offered     4436.0     5.545987     2.877727     1.0     3.0     6.0   \nWeight_in_gms        4436.0  4168.668395  1573.954178  1001.0  4043.5  4674.0   \nReached.on.Time_Y.N  4436.0     0.000000     0.000000     0.0     0.0     0.0   \n\n                        75%     max  \nCustomer_care_calls     5.0     7.0  \nCustomer_rating         4.0     5.0  \nCost_of_the_Product   254.0   310.0  \nPrior_purchases         4.0    10.0  \nDiscount_offered        8.0    10.0  \nWeight_in_gms        5337.0  6000.0  \nReached.on.Time_Y.N     0.0     0.0  ",
      "text/html": "<div>\n<style scoped>\n    .dataframe tbody tr th:only-of-type {\n        vertical-align: middle;\n    }\n\n    .dataframe tbody tr th {\n        vertical-align: top;\n    }\n\n    .dataframe thead th {\n        text-align: right;\n    }\n</style>\n<table border=\"1\" class=\"dataframe\">\n  <thead>\n    <tr style=\"text-align: right;\">\n      <th></th>\n      <th>count</th>\n      <th>mean</th>\n      <th>std</th>\n      <th>min</th>\n      <th>25%</th>\n      <th>50%</th>\n      <th>75%</th>\n      <th>max</th>\n    </tr>\n  </thead>\n  <tbody>\n    <tr>\n      <th>Customer_care_calls</th>\n      <td>4436.0</td>\n      <td>4.147656</td>\n      <td>1.162771</td>\n      <td>2.0</td>\n      <td>3.0</td>\n      <td>4.0</td>\n      <td>5.0</td>\n      <td>7.0</td>\n    </tr>\n    <tr>\n      <th>Customer_rating</th>\n      <td>4436.0</td>\n      <td>2.967989</td>\n      <td>1.414808</td>\n      <td>1.0</td>\n      <td>2.0</td>\n      <td>3.0</td>\n      <td>4.0</td>\n      <td>5.0</td>\n    </tr>\n    <tr>\n      <th>Cost_of_the_Product</th>\n      <td>4436.0</td>\n      <td>214.498647</td>\n      <td>47.757432</td>\n      <td>97.0</td>\n      <td>174.0</td>\n      <td>222.0</td>\n      <td>254.0</td>\n      <td>310.0</td>\n    </tr>\n    <tr>\n      <th>Prior_purchases</th>\n      <td>4436.0</td>\n      <td>3.670424</td>\n      <td>1.525444</td>\n      <td>2.0</td>\n      <td>3.0</td>\n      <td>3.0</td>\n      <td>4.0</td>\n      <td>10.0</td>\n    </tr>\n    <tr>\n      <th>Discount_offered</th>\n      <td>4436.0</td>\n      <td>5.545987</td>\n      <td>2.877727</td>\n      <td>1.0</td>\n      <td>3.0</td>\n      <td>6.0</td>\n      <td>8.0</td>\n      <td>10.0</td>\n    </tr>\n    <tr>\n      <th>Weight_in_gms</th>\n      <td>4436.0</td>\n      <td>4168.668395</td>\n      <td>1573.954178</td>\n      <td>1001.0</td>\n      <td>4043.5</td>\n      <td>4674.0</td>\n      <td>5337.0</td>\n      <td>6000.0</td>\n    </tr>\n    <tr>\n      <th>Reached.on.Time_Y.N</th>\n      <td>4436.0</td>\n      <td>0.000000</td>\n      <td>0.000000</td>\n      <td>0.0</td>\n      <td>0.0</td>\n      <td>0.0</td>\n      <td>0.0</td>\n      <td>0.0</td>\n    </tr>\n  </tbody>\n</table>\n</div>"
     },
     "metadata": {}
    }
   ]
  },
  {
   "cell_type": "markdown",
   "source": "## А теперь те, что с задержкой\n",
   "metadata": {}
  },
  {
   "cell_type": "code",
   "source": "dataset[dataset['Reached.on.Time_Y.N'] == 1].describe().T",
   "metadata": {
    "execution": {
     "iopub.status.busy": "2022-12-22T08:41:39.200326Z",
     "iopub.execute_input": "2022-12-22T08:41:39.201478Z",
     "iopub.status.idle": "2022-12-22T08:41:39.236477Z",
     "shell.execute_reply.started": "2022-12-22T08:41:39.201433Z",
     "shell.execute_reply": "2022-12-22T08:41:39.235262Z"
    },
    "trusted": true
   },
   "execution_count": 70,
   "outputs": [
    {
     "execution_count": 70,
     "output_type": "execute_result",
     "data": {
      "text/plain": "                      count         mean          std     min     25%     50%  \\\nCustomer_care_calls  6563.0     3.991467     1.122592     2.0     3.0     4.0   \nCustomer_rating      6563.0     3.005790     1.412692     1.0     2.0     3.0   \nCost_of_the_Product  6563.0   207.289197    48.054876    96.0   167.0   209.0   \nPrior_purchases      6563.0     3.498095     1.517285     2.0     3.0     3.0   \nDiscount_offered     6563.0    18.663721    19.108797     1.0     5.0     9.0   \nWeight_in_gms        6563.0  3272.640104  1576.148391  1001.0  1735.5  3231.0   \nReached.on.Time_Y.N  6563.0     1.000000     0.000000     1.0     1.0     1.0   \n\n                        75%     max  \nCustomer_care_calls     5.0     7.0  \nCustomer_rating         4.0     5.0  \nCost_of_the_Product   249.0   310.0  \nPrior_purchases         4.0    10.0  \nDiscount_offered       32.0    65.0  \nWeight_in_gms        4696.5  7846.0  \nReached.on.Time_Y.N     1.0     1.0  ",
      "text/html": "<div>\n<style scoped>\n    .dataframe tbody tr th:only-of-type {\n        vertical-align: middle;\n    }\n\n    .dataframe tbody tr th {\n        vertical-align: top;\n    }\n\n    .dataframe thead th {\n        text-align: right;\n    }\n</style>\n<table border=\"1\" class=\"dataframe\">\n  <thead>\n    <tr style=\"text-align: right;\">\n      <th></th>\n      <th>count</th>\n      <th>mean</th>\n      <th>std</th>\n      <th>min</th>\n      <th>25%</th>\n      <th>50%</th>\n      <th>75%</th>\n      <th>max</th>\n    </tr>\n  </thead>\n  <tbody>\n    <tr>\n      <th>Customer_care_calls</th>\n      <td>6563.0</td>\n      <td>3.991467</td>\n      <td>1.122592</td>\n      <td>2.0</td>\n      <td>3.0</td>\n      <td>4.0</td>\n      <td>5.0</td>\n      <td>7.0</td>\n    </tr>\n    <tr>\n      <th>Customer_rating</th>\n      <td>6563.0</td>\n      <td>3.005790</td>\n      <td>1.412692</td>\n      <td>1.0</td>\n      <td>2.0</td>\n      <td>3.0</td>\n      <td>4.0</td>\n      <td>5.0</td>\n    </tr>\n    <tr>\n      <th>Cost_of_the_Product</th>\n      <td>6563.0</td>\n      <td>207.289197</td>\n      <td>48.054876</td>\n      <td>96.0</td>\n      <td>167.0</td>\n      <td>209.0</td>\n      <td>249.0</td>\n      <td>310.0</td>\n    </tr>\n    <tr>\n      <th>Prior_purchases</th>\n      <td>6563.0</td>\n      <td>3.498095</td>\n      <td>1.517285</td>\n      <td>2.0</td>\n      <td>3.0</td>\n      <td>3.0</td>\n      <td>4.0</td>\n      <td>10.0</td>\n    </tr>\n    <tr>\n      <th>Discount_offered</th>\n      <td>6563.0</td>\n      <td>18.663721</td>\n      <td>19.108797</td>\n      <td>1.0</td>\n      <td>5.0</td>\n      <td>9.0</td>\n      <td>32.0</td>\n      <td>65.0</td>\n    </tr>\n    <tr>\n      <th>Weight_in_gms</th>\n      <td>6563.0</td>\n      <td>3272.640104</td>\n      <td>1576.148391</td>\n      <td>1001.0</td>\n      <td>1735.5</td>\n      <td>3231.0</td>\n      <td>4696.5</td>\n      <td>7846.0</td>\n    </tr>\n    <tr>\n      <th>Reached.on.Time_Y.N</th>\n      <td>6563.0</td>\n      <td>1.000000</td>\n      <td>0.000000</td>\n      <td>1.0</td>\n      <td>1.0</td>\n      <td>1.0</td>\n      <td>1.0</td>\n      <td>1.0</td>\n    </tr>\n  </tbody>\n</table>\n</div>"
     },
     "metadata": {}
    }
   ]
  },
  {
   "cell_type": "markdown",
   "source": "### Общий процент просроченных доставок",
   "metadata": {}
  },
  {
   "cell_type": "code",
   "source": "dataset['Reached.on.Time_Y.N'].mean()",
   "metadata": {
    "execution": {
     "iopub.status.busy": "2022-12-22T08:41:39.238711Z",
     "iopub.execute_input": "2022-12-22T08:41:39.239005Z",
     "iopub.status.idle": "2022-12-22T08:41:39.247215Z",
     "shell.execute_reply.started": "2022-12-22T08:41:39.238977Z",
     "shell.execute_reply": "2022-12-22T08:41:39.245541Z"
    },
    "trusted": true
   },
   "execution_count": 71,
   "outputs": [
    {
     "execution_count": 71,
     "output_type": "execute_result",
     "data": {
      "text/plain": "0.5966906082371125"
     },
     "metadata": {}
    }
   ]
  },
  {
   "cell_type": "code",
   "source": "dataset.nunique()",
   "metadata": {
    "execution": {
     "iopub.status.busy": "2022-12-22T08:41:39.248764Z",
     "iopub.execute_input": "2022-12-22T08:41:39.249260Z",
     "iopub.status.idle": "2022-12-22T08:41:39.269304Z",
     "shell.execute_reply.started": "2022-12-22T08:41:39.249231Z",
     "shell.execute_reply": "2022-12-22T08:41:39.268287Z"
    },
    "trusted": true
   },
   "execution_count": 72,
   "outputs": [
    {
     "execution_count": 72,
     "output_type": "execute_result",
     "data": {
      "text/plain": "Warehouse_block           5\nMode_of_Shipment          3\nCustomer_care_calls       6\nCustomer_rating           5\nCost_of_the_Product     215\nPrior_purchases           8\nProduct_importance        3\nGender                    2\nDiscount_offered         65\nWeight_in_gms          4034\nReached.on.Time_Y.N       2\ndtype: int64"
     },
     "metadata": {}
    }
   ]
  },
  {
   "cell_type": "code",
   "source": "\nimport matplotlib.pyplot as plt\ncorrmat = dataset.corr(method='kendall')\nplt.subplots(figsize=(12,9))\n\nsns.heatmap(corrmat, vmax=0.9, square=True)",
   "metadata": {
    "execution": {
     "iopub.status.busy": "2022-12-22T08:41:39.272882Z",
     "iopub.execute_input": "2022-12-22T08:41:39.274924Z",
     "iopub.status.idle": "2022-12-22T08:41:39.605170Z",
     "shell.execute_reply.started": "2022-12-22T08:41:39.274875Z",
     "shell.execute_reply": "2022-12-22T08:41:39.603758Z"
    },
    "trusted": true
   },
   "execution_count": 73,
   "outputs": [
    {
     "execution_count": 73,
     "output_type": "execute_result",
     "data": {
      "text/plain": "<AxesSubplot:>"
     },
     "metadata": {}
    },
    {
     "output_type": "display_data",
     "data": {
      "text/plain": "<Figure size 864x648 with 2 Axes>",
      "image/png": "[encoded data removed]"
     },
     "metadata": {}
    }
   ]
  },
  {
   "cell_type": "markdown",
   "source": "### Видим, что: \n### есть корреляция скидки на товар и того, вовремя ли пришла посылка\n### чуть меньше коррелируют цена продукта и обращения в поддержку, а также предыдущие покупки и стоимость продукта",
   "metadata": {}
  },
  {
   "cell_type": "markdown",
   "source": "## EDA",
   "metadata": {}
  },
  {
   "cell_type": "markdown",
   "source": "## теперь покажем, что корреляции действительно имеют место\n## подготовим датафрейм для визуализации",
   "metadata": {}
  },
  {
   "cell_type": "code",
   "source": "cols = dataset.columns.drop(['Cost_of_the_Product', \n                             'Discount_offered', \n                             'Weight_in_gms', \n                             'Reached.on.Time_Y.N'])\n\ncols2 = ['Cost_of_the_Product', \n         'Discount_offered', \n         'Weight_in_gms']\n\n\ntarget_col = dataset.columns[-1]\ntarget_col\ndfs = []\n\nfor i in cols:\n\n    df = pd.DataFrame(dataset.groupby(i)[target_col].mean())\n    df['value_count'] = dataset.groupby(i)[target_col].count()\n    df['value_count_%_of_total'] = (dataset.groupby(i)[target_col].count()/len(dataset))\n    \n    df.rename(columns={'Reached.on.Time_Y.N' : '%_of_shipments_delayed'}, inplace=True)\n\n    df = (df.style\n        .bar(subset=[df.columns[0]], color='#e87d8f')\n        .bar(subset=['value_count'], color='#a4dba8')\n        .bar(subset=['value_count_%_of_total'], color='#9ad7e3')\n        .format(formatter={(df.columns[0]): '{:,.1%}',\n                           ('value_count_%_of_total'): '{:,.1%}'\n                              }))\n    \n    dfs.append(df)\n\nfor i in cols2:\n\n    bins = pd.cut(dataset[i], 10)\n\n    df = pd.DataFrame(dataset.groupby(bins)[target_col].mean())\n    df['value_count'] = dataset.groupby(bins)[target_col].count()\n    df['value_count_%_of_total'] = (dataset.groupby(bins)[target_col].count()/len(dataset))\n    \n    df.rename(columns={'Reached.on.Time_Y.N' : '%_of_shipments_delayed'}, inplace=True)\n    \n    df = (df.style\n        .bar(subset=[df.columns[0]], color='#e87d8f')\n        .bar(subset=['value_count'], color='#a4dba8')\n        .bar(subset=['value_count_%_of_total'], color='#9ad7e3')\n        .format(formatter={(df.columns[0]): '{:,.1%}',\n                           ('value_count_%_of_total'): '{:,.1%}'\n                              }))\n\n    dfs.append(df)\n\n",
   "metadata": {
    "execution": {
     "iopub.status.busy": "2022-12-22T08:41:39.607365Z",
     "iopub.execute_input": "2022-12-22T08:41:39.608325Z",
     "iopub.status.idle": "2022-12-22T08:41:39.704709Z",
     "shell.execute_reply.started": "2022-12-22T08:41:39.608265Z",
     "shell.execute_reply": "2022-12-22T08:41:39.703298Z"
    },
    "trusted": true
   },
   "execution_count": 74,
   "outputs": []
  },
  {
   "cell_type": "markdown",
   "source": "## Видим, что большая часть доставок осуществлена кораблями",
   "metadata": {}
  },
  {
   "cell_type": "code",
   "source": "dfs[1]",
   "metadata": {
    "execution": {
     "iopub.status.busy": "2022-12-22T08:41:39.706847Z",
     "iopub.execute_input": "2022-12-22T08:41:39.707567Z",
     "iopub.status.idle": "2022-12-22T08:41:39.726743Z",
     "shell.execute_reply.started": "2022-12-22T08:41:39.707524Z",
     "shell.execute_reply": "2022-12-22T08:41:39.725124Z"
    },
    "trusted": true
   },
   "execution_count": 75,
   "outputs": [
    {
     "execution_count": 75,
     "output_type": "execute_result",
     "data": {
      "text/plain": "<pandas.io.formats.style.Styler at 0x7fe03d6753d0>",
      "text/html": "<style type=\"text/css\">\n#T_f6cf8_row0_col0 {\n  width: 10em;\n  height: 80%;\n  background: linear-gradient(90deg,#e87d8f 100.0%, transparent 100.0%);\n}\n#T_f6cf8_row0_col1 {\n  width: 10em;\n  height: 80%;\n  background: linear-gradient(90deg,#a4dba8 0.3%, transparent 0.3%);\n}\n#T_f6cf8_row0_col2 {\n  width: 10em;\n  height: 80%;\n  background: linear-gradient(90deg,#9ad7e3 0.3%, transparent 0.3%);\n}\n#T_f6cf8_row1_col0, #T_f6cf8_row1_col1, #T_f6cf8_row1_col2 {\n  width: 10em;\n  height: 80%;\n}\n#T_f6cf8_row2_col0 {\n  width: 10em;\n  height: 80%;\n  background: linear-gradient(90deg,#e87d8f 70.3%, transparent 70.3%);\n}\n#T_f6cf8_row2_col1 {\n  width: 10em;\n  height: 80%;\n  background: linear-gradient(90deg,#a4dba8 100.0%, transparent 100.0%);\n}\n#T_f6cf8_row2_col2 {\n  width: 10em;\n  height: 80%;\n  background: linear-gradient(90deg,#9ad7e3 100.0%, transparent 100.0%);\n}\n</style>\n<table id=\"T_f6cf8_\">\n  <thead>\n    <tr>\n      <th class=\"blank level0\" >&nbsp;</th>\n      <th class=\"col_heading level0 col0\" >%_of_shipments_delayed</th>\n      <th class=\"col_heading level0 col1\" >value_count</th>\n      <th class=\"col_heading level0 col2\" >value_count_%_of_total</th>\n    </tr>\n    <tr>\n      <th class=\"index_name level0\" >Mode_of_Shipment</th>\n      <th class=\"blank col0\" >&nbsp;</th>\n      <th class=\"blank col1\" >&nbsp;</th>\n      <th class=\"blank col2\" >&nbsp;</th>\n    </tr>\n  </thead>\n  <tbody>\n    <tr>\n      <th id=\"T_f6cf8_level0_row0\" class=\"row_heading level0 row0\" >Flight</th>\n      <td id=\"T_f6cf8_row0_col0\" class=\"data row0 col0\" >60.2%</td>\n      <td id=\"T_f6cf8_row0_col1\" class=\"data row0 col1\" >1777</td>\n      <td id=\"T_f6cf8_row0_col2\" class=\"data row0 col2\" >16.2%</td>\n    </tr>\n    <tr>\n      <th id=\"T_f6cf8_level0_row1\" class=\"row_heading level0 row1\" >Road</th>\n      <td id=\"T_f6cf8_row1_col0\" class=\"data row1 col0\" >58.8%</td>\n      <td id=\"T_f6cf8_row1_col1\" class=\"data row1 col1\" >1760</td>\n      <td id=\"T_f6cf8_row1_col2\" class=\"data row1 col2\" >16.0%</td>\n    </tr>\n    <tr>\n      <th id=\"T_f6cf8_level0_row2\" class=\"row_heading level0 row2\" >Ship</th>\n      <td id=\"T_f6cf8_row2_col0\" class=\"data row2 col0\" >59.8%</td>\n      <td id=\"T_f6cf8_row2_col1\" class=\"data row2 col1\" >7462</td>\n      <td id=\"T_f6cf8_row2_col2\" class=\"data row2 col2\" >67.8%</td>\n    </tr>\n  </tbody>\n</table>\n"
     },
     "metadata": {}
    }
   ]
  },
  {
   "cell_type": "markdown",
   "source": "## С ростом стоимости продукта процент задержки доставки снижается",
   "metadata": {}
  },
  {
   "cell_type": "code",
   "source": "dfs[7]",
   "metadata": {
    "execution": {
     "iopub.status.busy": "2022-12-22T08:41:39.729583Z",
     "iopub.execute_input": "2022-12-22T08:41:39.729967Z",
     "iopub.status.idle": "2022-12-22T08:41:39.758271Z",
     "shell.execute_reply.started": "2022-12-22T08:41:39.729935Z",
     "shell.execute_reply": "2022-12-22T08:41:39.756933Z"
    },
    "trusted": true
   },
   "execution_count": 76,
   "outputs": [
    {
     "execution_count": 76,
     "output_type": "execute_result",
     "data": {
      "text/plain": "<pandas.io.formats.style.Styler at 0x7fe03d581ed0>",
      "text/html": "<style type=\"text/css\">\n#T_96d58_row0_col0 {\n  width: 10em;\n  height: 80%;\n  background: linear-gradient(90deg,#e87d8f 99.3%, transparent 99.3%);\n}\n#T_96d58_row0_col1, #T_96d58_row0_col2, #T_96d58_row9_col0 {\n  width: 10em;\n  height: 80%;\n}\n#T_96d58_row1_col0 {\n  width: 10em;\n  height: 80%;\n  background: linear-gradient(90deg,#e87d8f 100.0%, transparent 100.0%);\n}\n#T_96d58_row1_col1 {\n  width: 10em;\n  height: 80%;\n  background: linear-gradient(90deg,#a4dba8 18.2%, transparent 18.2%);\n}\n#T_96d58_row1_col2 {\n  width: 10em;\n  height: 80%;\n  background: linear-gradient(90deg,#9ad7e3 18.2%, transparent 18.2%);\n}\n#T_96d58_row2_col0 {\n  width: 10em;\n  height: 80%;\n  background: linear-gradient(90deg,#e87d8f 83.6%, transparent 83.6%);\n}\n#T_96d58_row2_col1 {\n  width: 10em;\n  height: 80%;\n  background: linear-gradient(90deg,#a4dba8 70.1%, transparent 70.1%);\n}\n#T_96d58_row2_col2 {\n  width: 10em;\n  height: 80%;\n  background: linear-gradient(90deg,#9ad7e3 70.1%, transparent 70.1%);\n}\n#T_96d58_row3_col0 {\n  width: 10em;\n  height: 80%;\n  background: linear-gradient(90deg,#e87d8f 82.6%, transparent 82.6%);\n}\n#T_96d58_row3_col1 {\n  width: 10em;\n  height: 80%;\n  background: linear-gradient(90deg,#a4dba8 65.0%, transparent 65.0%);\n}\n#T_96d58_row3_col2 {\n  width: 10em;\n  height: 80%;\n  background: linear-gradient(90deg,#9ad7e3 65.0%, transparent 65.0%);\n}\n#T_96d58_row4_col0 {\n  width: 10em;\n  height: 80%;\n  background: linear-gradient(90deg,#e87d8f 78.7%, transparent 78.7%);\n}\n#T_96d58_row4_col1 {\n  width: 10em;\n  height: 80%;\n  background: linear-gradient(90deg,#a4dba8 67.0%, transparent 67.0%);\n}\n#T_96d58_row4_col2 {\n  width: 10em;\n  height: 80%;\n  background: linear-gradient(90deg,#9ad7e3 67.0%, transparent 67.0%);\n}\n#T_96d58_row5_col0 {\n  width: 10em;\n  height: 80%;\n  background: linear-gradient(90deg,#e87d8f 61.7%, transparent 61.7%);\n}\n#T_96d58_row5_col1 {\n  width: 10em;\n  height: 80%;\n  background: linear-gradient(90deg,#a4dba8 63.6%, transparent 63.6%);\n}\n#T_96d58_row5_col2 {\n  width: 10em;\n  height: 80%;\n  background: linear-gradient(90deg,#9ad7e3 63.6%, transparent 63.6%);\n}\n#T_96d58_row6_col0 {\n  width: 10em;\n  height: 80%;\n  background: linear-gradient(90deg,#e87d8f 54.9%, transparent 54.9%);\n}\n#T_96d58_row6_col1 {\n  width: 10em;\n  height: 80%;\n  background: linear-gradient(90deg,#a4dba8 82.6%, transparent 82.6%);\n}\n#T_96d58_row6_col2 {\n  width: 10em;\n  height: 80%;\n  background: linear-gradient(90deg,#9ad7e3 82.6%, transparent 82.6%);\n}\n#T_96d58_row7_col0 {\n  width: 10em;\n  height: 80%;\n  background: linear-gradient(90deg,#e87d8f 47.5%, transparent 47.5%);\n}\n#T_96d58_row7_col1 {\n  width: 10em;\n  height: 80%;\n  background: linear-gradient(90deg,#a4dba8 100.0%, transparent 100.0%);\n}\n#T_96d58_row7_col2 {\n  width: 10em;\n  height: 80%;\n  background: linear-gradient(90deg,#9ad7e3 100.0%, transparent 100.0%);\n}\n#T_96d58_row8_col0 {\n  width: 10em;\n  height: 80%;\n  background: linear-gradient(90deg,#e87d8f 53.0%, transparent 53.0%);\n}\n#T_96d58_row8_col1 {\n  width: 10em;\n  height: 80%;\n  background: linear-gradient(90deg,#a4dba8 42.9%, transparent 42.9%);\n}\n#T_96d58_row8_col2 {\n  width: 10em;\n  height: 80%;\n  background: linear-gradient(90deg,#9ad7e3 42.9%, transparent 42.9%);\n}\n#T_96d58_row9_col1 {\n  width: 10em;\n  height: 80%;\n  background: linear-gradient(90deg,#a4dba8 5.5%, transparent 5.5%);\n}\n#T_96d58_row9_col2 {\n  width: 10em;\n  height: 80%;\n  background: linear-gradient(90deg,#9ad7e3 5.5%, transparent 5.5%);\n}\n</style>\n<table id=\"T_96d58_\">\n  <thead>\n    <tr>\n      <th class=\"blank level0\" >&nbsp;</th>\n      <th class=\"col_heading level0 col0\" >%_of_shipments_delayed</th>\n      <th class=\"col_heading level0 col1\" >value_count</th>\n      <th class=\"col_heading level0 col2\" >value_count_%_of_total</th>\n    </tr>\n    <tr>\n      <th class=\"index_name level0\" >Cost_of_the_Product</th>\n      <th class=\"blank col0\" >&nbsp;</th>\n      <th class=\"blank col1\" >&nbsp;</th>\n      <th class=\"blank col2\" >&nbsp;</th>\n    </tr>\n  </thead>\n  <tbody>\n    <tr>\n      <th id=\"T_96d58_level0_row0\" class=\"row_heading level0 row0\" >(95.786, 117.4]</th>\n      <td id=\"T_96d58_row0_col0\" class=\"data row0 col0\" >66.2%</td>\n      <td id=\"T_96d58_row0_col1\" class=\"data row0 col1\" >222</td>\n      <td id=\"T_96d58_row0_col2\" class=\"data row0 col2\" >2.0%</td>\n    </tr>\n    <tr>\n      <th id=\"T_96d58_level0_row1\" class=\"row_heading level0 row1\" >(117.4, 138.8]</th>\n      <td id=\"T_96d58_row1_col0\" class=\"data row1 col0\" >66.4%</td>\n      <td id=\"T_96d58_row1_col1\" class=\"data row1 col1\" >532</td>\n      <td id=\"T_96d58_row1_col2\" class=\"data row1 col2\" >4.8%</td>\n    </tr>\n    <tr>\n      <th id=\"T_96d58_level0_row2\" class=\"row_heading level0 row2\" >(138.8, 160.2]</th>\n      <td id=\"T_96d58_row2_col0\" class=\"data row2 col0\" >63.2%</td>\n      <td id=\"T_96d58_row2_col1\" class=\"data row2 col1\" >1417</td>\n      <td id=\"T_96d58_row2_col2\" class=\"data row2 col2\" >12.9%</td>\n    </tr>\n    <tr>\n      <th id=\"T_96d58_level0_row3\" class=\"row_heading level0 row3\" >(160.2, 181.6]</th>\n      <td id=\"T_96d58_row3_col0\" class=\"data row3 col0\" >63.0%</td>\n      <td id=\"T_96d58_row3_col1\" class=\"data row3 col1\" >1331</td>\n      <td id=\"T_96d58_row3_col2\" class=\"data row3 col2\" >12.1%</td>\n    </tr>\n    <tr>\n      <th id=\"T_96d58_level0_row4\" class=\"row_heading level0 row4\" >(181.6, 203.0]</th>\n      <td id=\"T_96d58_row4_col0\" class=\"data row4 col0\" >62.2%</td>\n      <td id=\"T_96d58_row4_col1\" class=\"data row4 col1\" >1365</td>\n      <td id=\"T_96d58_row4_col2\" class=\"data row4 col2\" >12.4%</td>\n    </tr>\n    <tr>\n      <th id=\"T_96d58_level0_row5\" class=\"row_heading level0 row5\" >(203.0, 224.4]</th>\n      <td id=\"T_96d58_row5_col0\" class=\"data row5 col0\" >58.9%</td>\n      <td id=\"T_96d58_row5_col1\" class=\"data row5 col1\" >1306</td>\n      <td id=\"T_96d58_row5_col2\" class=\"data row5 col2\" >11.9%</td>\n    </tr>\n    <tr>\n      <th id=\"T_96d58_level0_row6\" class=\"row_heading level0 row6\" >(224.4, 245.8]</th>\n      <td id=\"T_96d58_row6_col0\" class=\"data row6 col0\" >57.5%</td>\n      <td id=\"T_96d58_row6_col1\" class=\"data row6 col1\" >1630</td>\n      <td id=\"T_96d58_row6_col2\" class=\"data row6 col2\" >14.8%</td>\n    </tr>\n    <tr>\n      <th id=\"T_96d58_level0_row7\" class=\"row_heading level0 row7\" >(245.8, 267.2]</th>\n      <td id=\"T_96d58_row7_col0\" class=\"data row7 col0\" >56.1%</td>\n      <td id=\"T_96d58_row7_col1\" class=\"data row7 col1\" >1927</td>\n      <td id=\"T_96d58_row7_col2\" class=\"data row7 col2\" >17.5%</td>\n    </tr>\n    <tr>\n      <th id=\"T_96d58_level0_row8\" class=\"row_heading level0 row8\" >(267.2, 288.6]</th>\n      <td id=\"T_96d58_row8_col0\" class=\"data row8 col0\" >57.2%</td>\n      <td id=\"T_96d58_row8_col1\" class=\"data row8 col1\" >953</td>\n      <td id=\"T_96d58_row8_col2\" class=\"data row8 col2\" >8.7%</td>\n    </tr>\n    <tr>\n      <th id=\"T_96d58_level0_row9\" class=\"row_heading level0 row9\" >(288.6, 310.0]</th>\n      <td id=\"T_96d58_row9_col0\" class=\"data row9 col0\" >46.8%</td>\n      <td id=\"T_96d58_row9_col1\" class=\"data row9 col1\" >316</td>\n      <td id=\"T_96d58_row9_col2\" class=\"data row9 col2\" >2.9%</td>\n    </tr>\n  </tbody>\n</table>\n"
     },
     "metadata": {}
    }
   ]
  },
  {
   "cell_type": "markdown",
   "source": "## При наличии скидки на товар растет вероятность задержки доставки, причем при скидке от 14 процентов доставки всегда задерживаются",
   "metadata": {}
  },
  {
   "cell_type": "code",
   "source": "dfs[8]",
   "metadata": {
    "execution": {
     "iopub.status.busy": "2022-12-22T08:41:39.760103Z",
     "iopub.execute_input": "2022-12-22T08:41:39.760468Z",
     "iopub.status.idle": "2022-12-22T08:41:39.787327Z",
     "shell.execute_reply.started": "2022-12-22T08:41:39.760436Z",
     "shell.execute_reply": "2022-12-22T08:41:39.786309Z"
    },
    "trusted": true
   },
   "execution_count": 77,
   "outputs": [
    {
     "execution_count": 77,
     "output_type": "execute_result",
     "data": {
      "text/plain": "<pandas.io.formats.style.Styler at 0x7fe03d675450>",
      "text/html": "<style type=\"text/css\">\n#T_07bde_row0_col0, #T_07bde_row3_col1, #T_07bde_row3_col2 {\n  width: 10em;\n  height: 80%;\n}\n#T_07bde_row0_col1 {\n  width: 10em;\n  height: 80%;\n  background: linear-gradient(90deg,#a4dba8 100.0%, transparent 100.0%);\n}\n#T_07bde_row0_col2 {\n  width: 10em;\n  height: 80%;\n  background: linear-gradient(90deg,#9ad7e3 100.0%, transparent 100.0%);\n}\n#T_07bde_row1_col0 {\n  width: 10em;\n  height: 80%;\n  background: linear-gradient(90deg,#e87d8f 3.6%, transparent 3.6%);\n}\n#T_07bde_row1_col1 {\n  width: 10em;\n  height: 80%;\n  background: linear-gradient(90deg,#a4dba8 43.0%, transparent 43.0%);\n}\n#T_07bde_row1_col2 {\n  width: 10em;\n  height: 80%;\n  background: linear-gradient(90deg,#9ad7e3 43.0%, transparent 43.0%);\n}\n#T_07bde_row2_col0, #T_07bde_row3_col0, #T_07bde_row4_col0, #T_07bde_row5_col0, #T_07bde_row6_col0, #T_07bde_row7_col0, #T_07bde_row8_col0, #T_07bde_row9_col0 {\n  width: 10em;\n  height: 80%;\n  background: linear-gradient(90deg,#e87d8f 100.0%, transparent 100.0%);\n}\n#T_07bde_row2_col1 {\n  width: 10em;\n  height: 80%;\n  background: linear-gradient(90deg,#a4dba8 1.2%, transparent 1.2%);\n}\n#T_07bde_row2_col2 {\n  width: 10em;\n  height: 80%;\n  background: linear-gradient(90deg,#9ad7e3 1.2%, transparent 1.2%);\n}\n#T_07bde_row4_col1 {\n  width: 10em;\n  height: 80%;\n  background: linear-gradient(90deg,#a4dba8 0.8%, transparent 0.8%);\n}\n#T_07bde_row4_col2 {\n  width: 10em;\n  height: 80%;\n  background: linear-gradient(90deg,#9ad7e3 0.8%, transparent 0.8%);\n}\n#T_07bde_row5_col1 {\n  width: 10em;\n  height: 80%;\n  background: linear-gradient(90deg,#a4dba8 0.5%, transparent 0.5%);\n}\n#T_07bde_row5_col2 {\n  width: 10em;\n  height: 80%;\n  background: linear-gradient(90deg,#9ad7e3 0.5%, transparent 0.5%);\n}\n#T_07bde_row6_col1 {\n  width: 10em;\n  height: 80%;\n  background: linear-gradient(90deg,#a4dba8 0.3%, transparent 0.3%);\n}\n#T_07bde_row6_col2 {\n  width: 10em;\n  height: 80%;\n  background: linear-gradient(90deg,#9ad7e3 0.3%, transparent 0.3%);\n}\n#T_07bde_row7_col1 {\n  width: 10em;\n  height: 80%;\n  background: linear-gradient(90deg,#a4dba8 1.9%, transparent 1.9%);\n}\n#T_07bde_row7_col2 {\n  width: 10em;\n  height: 80%;\n  background: linear-gradient(90deg,#9ad7e3 1.9%, transparent 1.9%);\n}\n#T_07bde_row8_col1 {\n  width: 10em;\n  height: 80%;\n  background: linear-gradient(90deg,#a4dba8 0.4%, transparent 0.4%);\n}\n#T_07bde_row8_col2 {\n  width: 10em;\n  height: 80%;\n  background: linear-gradient(90deg,#9ad7e3 0.4%, transparent 0.4%);\n}\n#T_07bde_row9_col1 {\n  width: 10em;\n  height: 80%;\n  background: linear-gradient(90deg,#a4dba8 1.3%, transparent 1.3%);\n}\n#T_07bde_row9_col2 {\n  width: 10em;\n  height: 80%;\n  background: linear-gradient(90deg,#9ad7e3 1.3%, transparent 1.3%);\n}\n</style>\n<table id=\"T_07bde_\">\n  <thead>\n    <tr>\n      <th class=\"blank level0\" >&nbsp;</th>\n      <th class=\"col_heading level0 col0\" >%_of_shipments_delayed</th>\n      <th class=\"col_heading level0 col1\" >value_count</th>\n      <th class=\"col_heading level0 col2\" >value_count_%_of_total</th>\n    </tr>\n    <tr>\n      <th class=\"index_name level0\" >Discount_offered</th>\n      <th class=\"blank col0\" >&nbsp;</th>\n      <th class=\"blank col1\" >&nbsp;</th>\n      <th class=\"blank col2\" >&nbsp;</th>\n    </tr>\n  </thead>\n  <tbody>\n    <tr>\n      <th id=\"T_07bde_level0_row0\" class=\"row_heading level0 row0\" >(0.936, 7.4]</th>\n      <td id=\"T_07bde_row0_col0\" class=\"data row0 col0\" >47.3%</td>\n      <td id=\"T_07bde_row0_col1\" class=\"data row0 col1\" >5846</td>\n      <td id=\"T_07bde_row0_col2\" class=\"data row0 col2\" >53.2%</td>\n    </tr>\n    <tr>\n      <th id=\"T_07bde_level0_row1\" class=\"row_heading level0 row1\" >(7.4, 13.8]</th>\n      <td id=\"T_07bde_row1_col0\" class=\"data row1 col0\" >49.2%</td>\n      <td id=\"T_07bde_row1_col1\" class=\"data row1 col1\" >2668</td>\n      <td id=\"T_07bde_row1_col2\" class=\"data row1 col2\" >24.3%</td>\n    </tr>\n    <tr>\n      <th id=\"T_07bde_level0_row2\" class=\"row_heading level0 row2\" >(13.8, 20.2]</th>\n      <td id=\"T_07bde_row2_col0\" class=\"data row2 col0\" >100.0%</td>\n      <td id=\"T_07bde_row2_col1\" class=\"data row2 col1\" >334</td>\n      <td id=\"T_07bde_row2_col2\" class=\"data row2 col2\" >3.0%</td>\n    </tr>\n    <tr>\n      <th id=\"T_07bde_level0_row3\" class=\"row_heading level0 row3\" >(20.2, 26.6]</th>\n      <td id=\"T_07bde_row3_col0\" class=\"data row3 col0\" >100.0%</td>\n      <td id=\"T_07bde_row3_col1\" class=\"data row3 col1\" >266</td>\n      <td id=\"T_07bde_row3_col2\" class=\"data row3 col2\" >2.4%</td>\n    </tr>\n    <tr>\n      <th id=\"T_07bde_level0_row4\" class=\"row_heading level0 row4\" >(26.6, 33.0]</th>\n      <td id=\"T_07bde_row4_col0\" class=\"data row4 col0\" >100.0%</td>\n      <td id=\"T_07bde_row4_col1\" class=\"data row4 col1\" >310</td>\n      <td id=\"T_07bde_row4_col2\" class=\"data row4 col2\" >2.8%</td>\n    </tr>\n    <tr>\n      <th id=\"T_07bde_level0_row5\" class=\"row_heading level0 row5\" >(33.0, 39.4]</th>\n      <td id=\"T_07bde_row5_col0\" class=\"data row5 col0\" >100.0%</td>\n      <td id=\"T_07bde_row5_col1\" class=\"data row5 col1\" >295</td>\n      <td id=\"T_07bde_row5_col2\" class=\"data row5 col2\" >2.7%</td>\n    </tr>\n    <tr>\n      <th id=\"T_07bde_level0_row6\" class=\"row_heading level0 row6\" >(39.4, 45.8]</th>\n      <td id=\"T_07bde_row6_col0\" class=\"data row6 col0\" >100.0%</td>\n      <td id=\"T_07bde_row6_col1\" class=\"data row6 col1\" >281</td>\n      <td id=\"T_07bde_row6_col2\" class=\"data row6 col2\" >2.6%</td>\n    </tr>\n    <tr>\n      <th id=\"T_07bde_level0_row7\" class=\"row_heading level0 row7\" >(45.8, 52.2]</th>\n      <td id=\"T_07bde_row7_col0\" class=\"data row7 col0\" >100.0%</td>\n      <td id=\"T_07bde_row7_col1\" class=\"data row7 col1\" >373</td>\n      <td id=\"T_07bde_row7_col2\" class=\"data row7 col2\" >3.4%</td>\n    </tr>\n    <tr>\n      <th id=\"T_07bde_level0_row8\" class=\"row_heading level0 row8\" >(52.2, 58.6]</th>\n      <td id=\"T_07bde_row8_col0\" class=\"data row8 col0\" >100.0%</td>\n      <td id=\"T_07bde_row8_col1\" class=\"data row8 col1\" >289</td>\n      <td id=\"T_07bde_row8_col2\" class=\"data row8 col2\" >2.6%</td>\n    </tr>\n    <tr>\n      <th id=\"T_07bde_level0_row9\" class=\"row_heading level0 row9\" >(58.6, 65.0]</th>\n      <td id=\"T_07bde_row9_col0\" class=\"data row9 col0\" >100.0%</td>\n      <td id=\"T_07bde_row9_col1\" class=\"data row9 col1\" >337</td>\n      <td id=\"T_07bde_row9_col2\" class=\"data row9 col2\" >3.1%</td>\n    </tr>\n  </tbody>\n</table>\n"
     },
     "metadata": {}
    }
   ]
  },
  {
   "cell_type": "markdown",
   "source": "## Можно увидеть, что доставки с определенным весом имеют 100% шанс задержаться",
   "metadata": {}
  },
  {
   "cell_type": "code",
   "source": "dfs[9]",
   "metadata": {
    "execution": {
     "iopub.status.busy": "2022-12-22T08:41:39.788729Z",
     "iopub.execute_input": "2022-12-22T08:41:39.789046Z",
     "iopub.status.idle": "2022-12-22T08:41:39.811546Z",
     "shell.execute_reply.started": "2022-12-22T08:41:39.789016Z",
     "shell.execute_reply": "2022-12-22T08:41:39.810659Z"
    },
    "trusted": true
   },
   "execution_count": 78,
   "outputs": [
    {
     "execution_count": 78,
     "output_type": "execute_result",
     "data": {
      "text/plain": "<pandas.io.formats.style.Styler at 0x7fe03d4ef910>",
      "text/html": "<style type=\"text/css\">\n#T_08607_row0_col0 {\n  width: 10em;\n  height: 80%;\n  background: linear-gradient(90deg,#e87d8f 45.0%, transparent 45.0%);\n}\n#T_08607_row0_col1 {\n  width: 10em;\n  height: 80%;\n  background: linear-gradient(90deg,#a4dba8 100.0%, transparent 100.0%);\n}\n#T_08607_row0_col2 {\n  width: 10em;\n  height: 80%;\n  background: linear-gradient(90deg,#9ad7e3 100.0%, transparent 100.0%);\n}\n#T_08607_row1_col0 {\n  width: 10em;\n  height: 80%;\n  background: linear-gradient(90deg,#e87d8f 59.2%, transparent 59.2%);\n}\n#T_08607_row1_col1 {\n  width: 10em;\n  height: 80%;\n  background: linear-gradient(90deg,#a4dba8 60.8%, transparent 60.8%);\n}\n#T_08607_row1_col2 {\n  width: 10em;\n  height: 80%;\n  background: linear-gradient(90deg,#9ad7e3 60.8%, transparent 60.8%);\n}\n#T_08607_row2_col0, #T_08607_row3_col0, #T_08607_row8_col0, #T_08607_row9_col0 {\n  width: 10em;\n  height: 80%;\n  background: linear-gradient(90deg,#e87d8f 100.0%, transparent 100.0%);\n}\n#T_08607_row2_col1 {\n  width: 10em;\n  height: 80%;\n  background: linear-gradient(90deg,#a4dba8 27.0%, transparent 27.0%);\n}\n#T_08607_row2_col2 {\n  width: 10em;\n  height: 80%;\n  background: linear-gradient(90deg,#9ad7e3 27.0%, transparent 27.0%);\n}\n#T_08607_row3_col1 {\n  width: 10em;\n  height: 80%;\n  background: linear-gradient(90deg,#a4dba8 28.0%, transparent 28.0%);\n}\n#T_08607_row3_col2 {\n  width: 10em;\n  height: 80%;\n  background: linear-gradient(90deg,#9ad7e3 28.0%, transparent 28.0%);\n}\n#T_08607_row4_col0 {\n  width: 10em;\n  height: 80%;\n  background: linear-gradient(90deg,#e87d8f 21.5%, transparent 21.5%);\n}\n#T_08607_row4_col1 {\n  width: 10em;\n  height: 80%;\n  background: linear-gradient(90deg,#a4dba8 69.0%, transparent 69.0%);\n}\n#T_08607_row4_col2 {\n  width: 10em;\n  height: 80%;\n  background: linear-gradient(90deg,#9ad7e3 69.0%, transparent 69.0%);\n}\n#T_08607_row5_col0 {\n  width: 10em;\n  height: 80%;\n  background: linear-gradient(90deg,#e87d8f 1.8%, transparent 1.8%);\n}\n#T_08607_row5_col1 {\n  width: 10em;\n  height: 80%;\n  background: linear-gradient(90deg,#a4dba8 93.0%, transparent 93.0%);\n}\n#T_08607_row5_col2 {\n  width: 10em;\n  height: 80%;\n  background: linear-gradient(90deg,#9ad7e3 93.0%, transparent 93.0%);\n}\n#T_08607_row6_col0 {\n  width: 10em;\n  height: 80%;\n  background: linear-gradient(90deg,#e87d8f 3.3%, transparent 3.3%);\n}\n#T_08607_row6_col1 {\n  width: 10em;\n  height: 80%;\n  background: linear-gradient(90deg,#a4dba8 89.9%, transparent 89.9%);\n}\n#T_08607_row6_col2 {\n  width: 10em;\n  height: 80%;\n  background: linear-gradient(90deg,#9ad7e3 89.9%, transparent 89.9%);\n}\n#T_08607_row7_col0, #T_08607_row8_col1, #T_08607_row8_col2 {\n  width: 10em;\n  height: 80%;\n}\n#T_08607_row7_col1 {\n  width: 10em;\n  height: 80%;\n  background: linear-gradient(90deg,#a4dba8 26.0%, transparent 26.0%);\n}\n#T_08607_row7_col2 {\n  width: 10em;\n  height: 80%;\n  background: linear-gradient(90deg,#9ad7e3 26.0%, transparent 26.0%);\n}\n#T_08607_row9_col1 {\n  width: 10em;\n  height: 80%;\n  background: linear-gradient(90deg,#a4dba8 0.2%, transparent 0.2%);\n}\n#T_08607_row9_col2 {\n  width: 10em;\n  height: 80%;\n  background: linear-gradient(90deg,#9ad7e3 0.2%, transparent 0.2%);\n}\n</style>\n<table id=\"T_08607_\">\n  <thead>\n    <tr>\n      <th class=\"blank level0\" >&nbsp;</th>\n      <th class=\"col_heading level0 col0\" >%_of_shipments_delayed</th>\n      <th class=\"col_heading level0 col1\" >value_count</th>\n      <th class=\"col_heading level0 col2\" >value_count_%_of_total</th>\n    </tr>\n    <tr>\n      <th class=\"index_name level0\" >Weight_in_gms</th>\n      <th class=\"blank col0\" >&nbsp;</th>\n      <th class=\"blank col1\" >&nbsp;</th>\n      <th class=\"blank col2\" >&nbsp;</th>\n    </tr>\n  </thead>\n  <tbody>\n    <tr>\n      <th id=\"T_08607_level0_row0\" class=\"row_heading level0 row0\" >(994.155, 1685.5]</th>\n      <td id=\"T_08607_row0_col0\" class=\"data row0 col0\" >67.6%</td>\n      <td id=\"T_08607_row0_col1\" class=\"data row0 col1\" >2226</td>\n      <td id=\"T_08607_row0_col2\" class=\"data row0 col2\" >20.2%</td>\n    </tr>\n    <tr>\n      <th id=\"T_08607_level0_row1\" class=\"row_heading level0 row1\" >(1685.5, 2370.0]</th>\n      <td id=\"T_08607_row1_col0\" class=\"data row1 col0\" >76.0%</td>\n      <td id=\"T_08607_row1_col1\" class=\"data row1 col1\" >1353</td>\n      <td id=\"T_08607_row1_col2\" class=\"data row1 col2\" >12.3%</td>\n    </tr>\n    <tr>\n      <th id=\"T_08607_level0_row2\" class=\"row_heading level0 row2\" >(2370.0, 3054.5]</th>\n      <td id=\"T_08607_row2_col0\" class=\"data row2 col0\" >100.0%</td>\n      <td id=\"T_08607_row2_col1\" class=\"data row2 col1\" >602</td>\n      <td id=\"T_08607_row2_col2\" class=\"data row2 col2\" >5.5%</td>\n    </tr>\n    <tr>\n      <th id=\"T_08607_level0_row3\" class=\"row_heading level0 row3\" >(3054.5, 3739.0]</th>\n      <td id=\"T_08607_row3_col0\" class=\"data row3 col0\" >100.0%</td>\n      <td id=\"T_08607_row3_col1\" class=\"data row3 col1\" >624</td>\n      <td id=\"T_08607_row3_col2\" class=\"data row3 col2\" >5.7%</td>\n    </tr>\n    <tr>\n      <th id=\"T_08607_level0_row4\" class=\"row_heading level0 row4\" >(3739.0, 4423.5]</th>\n      <td id=\"T_08607_row4_col0\" class=\"data row4 col0\" >53.7%</td>\n      <td id=\"T_08607_row4_col1\" class=\"data row4 col1\" >1537</td>\n      <td id=\"T_08607_row4_col2\" class=\"data row4 col2\" >14.0%</td>\n    </tr>\n    <tr>\n      <th id=\"T_08607_level0_row5\" class=\"row_heading level0 row5\" >(4423.5, 5108.0]</th>\n      <td id=\"T_08607_row5_col0\" class=\"data row5 col0\" >42.2%</td>\n      <td id=\"T_08607_row5_col1\" class=\"data row5 col1\" >2071</td>\n      <td id=\"T_08607_row5_col2\" class=\"data row5 col2\" >18.8%</td>\n    </tr>\n    <tr>\n      <th id=\"T_08607_level0_row6\" class=\"row_heading level0 row6\" >(5108.0, 5792.5]</th>\n      <td id=\"T_08607_row6_col0\" class=\"data row6 col0\" >43.0%</td>\n      <td id=\"T_08607_row6_col1\" class=\"data row6 col1\" >2001</td>\n      <td id=\"T_08607_row6_col2\" class=\"data row6 col2\" >18.2%</td>\n    </tr>\n    <tr>\n      <th id=\"T_08607_level0_row7\" class=\"row_heading level0 row7\" >(5792.5, 6477.0]</th>\n      <td id=\"T_08607_row7_col0\" class=\"data row7 col0\" >41.1%</td>\n      <td id=\"T_08607_row7_col1\" class=\"data row7 col1\" >579</td>\n      <td id=\"T_08607_row7_col2\" class=\"data row7 col2\" >5.3%</td>\n    </tr>\n    <tr>\n      <th id=\"T_08607_level0_row8\" class=\"row_heading level0 row8\" >(6477.0, 7161.5]</th>\n      <td id=\"T_08607_row8_col0\" class=\"data row8 col0\" >100.0%</td>\n      <td id=\"T_08607_row8_col1\" class=\"data row8 col1\" >1</td>\n      <td id=\"T_08607_row8_col2\" class=\"data row8 col2\" >0.0%</td>\n    </tr>\n    <tr>\n      <th id=\"T_08607_level0_row9\" class=\"row_heading level0 row9\" >(7161.5, 7846.0]</th>\n      <td id=\"T_08607_row9_col0\" class=\"data row9 col0\" >100.0%</td>\n      <td id=\"T_08607_row9_col1\" class=\"data row9 col1\" >5</td>\n      <td id=\"T_08607_row9_col2\" class=\"data row9 col2\" >0.0%</td>\n    </tr>\n  </tbody>\n</table>\n"
     },
     "metadata": {}
    }
   ]
  },
  {
   "cell_type": "markdown",
   "source": "## Важные товары с большей вероятностью задерживаются",
   "metadata": {}
  },
  {
   "cell_type": "code",
   "source": "dfs[5]",
   "metadata": {
    "execution": {
     "iopub.status.busy": "2022-12-22T08:41:39.812918Z",
     "iopub.execute_input": "2022-12-22T08:41:39.813431Z",
     "iopub.status.idle": "2022-12-22T08:41:39.835191Z",
     "shell.execute_reply.started": "2022-12-22T08:41:39.813399Z",
     "shell.execute_reply": "2022-12-22T08:41:39.833891Z"
    },
    "trusted": true
   },
   "execution_count": 79,
   "outputs": [
    {
     "execution_count": 79,
     "output_type": "execute_result",
     "data": {
      "text/plain": "<pandas.io.formats.style.Styler at 0x7fe03d4efbd0>",
      "text/html": "<style type=\"text/css\">\n#T_72026_row0_col0 {\n  width: 10em;\n  height: 80%;\n  background: linear-gradient(90deg,#e87d8f 100.0%, transparent 100.0%);\n}\n#T_72026_row0_col1, #T_72026_row0_col2, #T_72026_row2_col0 {\n  width: 10em;\n  height: 80%;\n}\n#T_72026_row1_col0 {\n  width: 10em;\n  height: 80%;\n  background: linear-gradient(90deg,#e87d8f 3.9%, transparent 3.9%);\n}\n#T_72026_row1_col1 {\n  width: 10em;\n  height: 80%;\n  background: linear-gradient(90deg,#a4dba8 100.0%, transparent 100.0%);\n}\n#T_72026_row1_col2 {\n  width: 10em;\n  height: 80%;\n  background: linear-gradient(90deg,#9ad7e3 100.0%, transparent 100.0%);\n}\n#T_72026_row2_col1 {\n  width: 10em;\n  height: 80%;\n  background: linear-gradient(90deg,#a4dba8 87.5%, transparent 87.5%);\n}\n#T_72026_row2_col2 {\n  width: 10em;\n  height: 80%;\n  background: linear-gradient(90deg,#9ad7e3 87.5%, transparent 87.5%);\n}\n</style>\n<table id=\"T_72026_\">\n  <thead>\n    <tr>\n      <th class=\"blank level0\" >&nbsp;</th>\n      <th class=\"col_heading level0 col0\" >%_of_shipments_delayed</th>\n      <th class=\"col_heading level0 col1\" >value_count</th>\n      <th class=\"col_heading level0 col2\" >value_count_%_of_total</th>\n    </tr>\n    <tr>\n      <th class=\"index_name level0\" >Product_importance</th>\n      <th class=\"blank col0\" >&nbsp;</th>\n      <th class=\"blank col1\" >&nbsp;</th>\n      <th class=\"blank col2\" >&nbsp;</th>\n    </tr>\n  </thead>\n  <tbody>\n    <tr>\n      <th id=\"T_72026_level0_row0\" class=\"row_heading level0 row0\" >high</th>\n      <td id=\"T_72026_row0_col0\" class=\"data row0 col0\" >65.0%</td>\n      <td id=\"T_72026_row0_col1\" class=\"data row0 col1\" >948</td>\n      <td id=\"T_72026_row0_col2\" class=\"data row0 col2\" >8.6%</td>\n    </tr>\n    <tr>\n      <th id=\"T_72026_level0_row1\" class=\"row_heading level0 row1\" >low</th>\n      <td id=\"T_72026_row1_col0\" class=\"data row1 col0\" >59.3%</td>\n      <td id=\"T_72026_row1_col1\" class=\"data row1 col1\" >5297</td>\n      <td id=\"T_72026_row1_col2\" class=\"data row1 col2\" >48.2%</td>\n    </tr>\n    <tr>\n      <th id=\"T_72026_level0_row2\" class=\"row_heading level0 row2\" >medium</th>\n      <td id=\"T_72026_row2_col0\" class=\"data row2 col0\" >59.0%</td>\n      <td id=\"T_72026_row2_col1\" class=\"data row2 col1\" >4754</td>\n      <td id=\"T_72026_row2_col2\" class=\"data row2 col2\" >43.2%</td>\n    </tr>\n  </tbody>\n</table>\n"
     },
     "metadata": {}
    }
   ]
  },
  {
   "cell_type": "markdown",
   "source": "# Применение алгоритмов ML\n",
   "metadata": {}
  },
  {
   "cell_type": "code",
   "source": "from sklearn.model_selection import train_test_split\nfrom sklearn.preprocessing import StandardScaler\n\nfrom sklearn.metrics import confusion_matrix, accuracy_score\nfrom sklearn.model_selection import cross_val_score",
   "metadata": {
    "execution": {
     "iopub.status.busy": "2022-12-22T08:41:39.836548Z",
     "iopub.execute_input": "2022-12-22T08:41:39.837112Z",
     "iopub.status.idle": "2022-12-22T08:41:39.894235Z",
     "shell.execute_reply.started": "2022-12-22T08:41:39.837067Z",
     "shell.execute_reply": "2022-12-22T08:41:39.893391Z"
    },
    "trusted": true
   },
   "execution_count": 80,
   "outputs": []
  },
  {
   "cell_type": "markdown",
   "source": "## Сделаем так, чтобы сначала отображались фиктивные переменные ( числовые переменные, используемые для представления категориальных данных)",
   "metadata": {}
  },
  {
   "cell_type": "code",
   "source": "dataset = pd.get_dummies(dataset)",
   "metadata": {
    "execution": {
     "iopub.status.busy": "2022-12-22T08:41:39.895576Z",
     "iopub.execute_input": "2022-12-22T08:41:39.896095Z",
     "iopub.status.idle": "2022-12-22T08:41:39.912424Z",
     "shell.execute_reply.started": "2022-12-22T08:41:39.896062Z",
     "shell.execute_reply": "2022-12-22T08:41:39.910988Z"
    },
    "trusted": true
   },
   "execution_count": 81,
   "outputs": []
  },
  {
   "cell_type": "code",
   "source": "dataset.head()",
   "metadata": {
    "execution": {
     "iopub.status.busy": "2022-12-22T08:41:39.914643Z",
     "iopub.execute_input": "2022-12-22T08:41:39.915388Z",
     "iopub.status.idle": "2022-12-22T08:41:39.934202Z",
     "shell.execute_reply.started": "2022-12-22T08:41:39.915348Z",
     "shell.execute_reply": "2022-12-22T08:41:39.932443Z"
    },
    "trusted": true
   },
   "execution_count": 82,
   "outputs": [
    {
     "execution_count": 82,
     "output_type": "execute_result",
     "data": {
      "text/plain": "   Customer_care_calls  Customer_rating  Cost_of_the_Product  Prior_purchases  \\\n0                    4                2                  177                3   \n1                    4                5                  216                2   \n2                    2                2                  183                4   \n3                    3                3                  176                4   \n4                    2                2                  184                3   \n\n   Discount_offered  Weight_in_gms  Reached.on.Time_Y.N  Warehouse_block_A  \\\n0                44           1233                    1                  0   \n1                59           3088                    1                  0   \n2                48           3374                    1                  1   \n3                10           1177                    1                  0   \n4                46           2484                    1                  0   \n\n   Warehouse_block_B  Warehouse_block_C  Warehouse_block_D  Warehouse_block_F  \\\n0                  0                  0                  1                  0   \n1                  0                  0                  0                  1   \n2                  0                  0                  0                  0   \n3                  1                  0                  0                  0   \n4                  0                  1                  0                  0   \n\n   Mode_of_Shipment_Flight  Mode_of_Shipment_Road  Mode_of_Shipment_Ship  \\\n0                        1                      0                      0   \n1                        1                      0                      0   \n2                        1                      0                      0   \n3                        1                      0                      0   \n4                        1                      0                      0   \n\n   Product_importance_high  Product_importance_low  Product_importance_medium  \\\n0                        0                       1                          0   \n1                        0                       1                          0   \n2                        0                       1                          0   \n3                        0                       0                          1   \n4                        0                       0                          1   \n\n   Gender_F  Gender_M  \n0         1         0  \n1         0         1  \n2         0         1  \n3         0         1  \n4         1         0  ",
      "text/html": "<div>\n<style scoped>\n    .dataframe tbody tr th:only-of-type {\n        vertical-align: middle;\n    }\n\n    .dataframe tbody tr th {\n        vertical-align: top;\n    }\n\n    .dataframe thead th {\n        text-align: right;\n    }\n</style>\n<table border=\"1\" class=\"dataframe\">\n  <thead>\n    <tr style=\"text-align: right;\">\n      <th></th>\n      <th>Customer_care_calls</th>\n      <th>Customer_rating</th>\n      <th>Cost_of_the_Product</th>\n      <th>Prior_purchases</th>\n      <th>Discount_offered</th>\n      <th>Weight_in_gms</th>\n      <th>Reached.on.Time_Y.N</th>\n      <th>Warehouse_block_A</th>\n      <th>Warehouse_block_B</th>\n      <th>Warehouse_block_C</th>\n      <th>Warehouse_block_D</th>\n      <th>Warehouse_block_F</th>\n      <th>Mode_of_Shipment_Flight</th>\n      <th>Mode_of_Shipment_Road</th>\n      <th>Mode_of_Shipment_Ship</th>\n      <th>Product_importance_high</th>\n      <th>Product_importance_low</th>\n      <th>Product_importance_medium</th>\n      <th>Gender_F</th>\n      <th>Gender_M</th>\n    </tr>\n  </thead>\n  <tbody>\n    <tr>\n      <th>0</th>\n      <td>4</td>\n      <td>2</td>\n      <td>177</td>\n      <td>3</td>\n      <td>44</td>\n      <td>1233</td>\n      <td>1</td>\n      <td>0</td>\n      <td>0</td>\n      <td>0</td>\n      <td>1</td>\n      <td>0</td>\n      <td>1</td>\n      <td>0</td>\n      <td>0</td>\n      <td>0</td>\n      <td>1</td>\n      <td>0</td>\n      <td>1</td>\n      <td>0</td>\n    </tr>\n    <tr>\n      <th>1</th>\n      <td>4</td>\n      <td>5</td>\n      <td>216</td>\n      <td>2</td>\n      <td>59</td>\n      <td>3088</td>\n      <td>1</td>\n      <td>0</td>\n      <td>0</td>\n      <td>0</td>\n      <td>0</td>\n      <td>1</td>\n      <td>1</td>\n      <td>0</td>\n      <td>0</td>\n      <td>0</td>\n      <td>1</td>\n      <td>0</td>\n      <td>0</td>\n      <td>1</td>\n    </tr>\n    <tr>\n      <th>2</th>\n      <td>2</td>\n      <td>2</td>\n      <td>183</td>\n      <td>4</td>\n      <td>48</td>\n      <td>3374</td>\n      <td>1</td>\n      <td>1</td>\n      <td>0</td>\n      <td>0</td>\n      <td>0</td>\n      <td>0</td>\n      <td>1</td>\n      <td>0</td>\n      <td>0</td>\n      <td>0</td>\n      <td>1</td>\n      <td>0</td>\n      <td>0</td>\n      <td>1</td>\n    </tr>\n    <tr>\n      <th>3</th>\n      <td>3</td>\n      <td>3</td>\n      <td>176</td>\n      <td>4</td>\n      <td>10</td>\n      <td>1177</td>\n      <td>1</td>\n      <td>0</td>\n      <td>1</td>\n      <td>0</td>\n      <td>0</td>\n      <td>0</td>\n      <td>1</td>\n      <td>0</td>\n      <td>0</td>\n      <td>0</td>\n      <td>0</td>\n      <td>1</td>\n      <td>0</td>\n      <td>1</td>\n    </tr>\n    <tr>\n      <th>4</th>\n      <td>2</td>\n      <td>2</td>\n      <td>184</td>\n      <td>3</td>\n      <td>46</td>\n      <td>2484</td>\n      <td>1</td>\n      <td>0</td>\n      <td>0</td>\n      <td>1</td>\n      <td>0</td>\n      <td>0</td>\n      <td>1</td>\n      <td>0</td>\n      <td>0</td>\n      <td>0</td>\n      <td>0</td>\n      <td>1</td>\n      <td>1</td>\n      <td>0</td>\n    </tr>\n  </tbody>\n</table>\n</div>"
     },
     "metadata": {}
    }
   ]
  },
  {
   "cell_type": "markdown",
   "source": "### Поместим столбец \"reached on time\" в конец",
   "metadata": {}
  },
  {
   "cell_type": "code",
   "source": "\ncols = list(dataset.columns.values)\ncols.pop(cols.index('Reached.on.Time_Y.N'))\ndataset = dataset[cols+['Reached.on.Time_Y.N']]\nX = dataset.iloc[:, :-1].values\ny = dataset.iloc[:, -1].values",
   "metadata": {
    "execution": {
     "iopub.status.busy": "2022-12-22T08:41:39.935735Z",
     "iopub.execute_input": "2022-12-22T08:41:39.936441Z",
     "iopub.status.idle": "2022-12-22T08:41:39.944546Z",
     "shell.execute_reply.started": "2022-12-22T08:41:39.936409Z",
     "shell.execute_reply": "2022-12-22T08:41:39.943293Z"
    },
    "trusted": true
   },
   "execution_count": 83,
   "outputs": []
  },
  {
   "cell_type": "markdown",
   "source": "## Разделим датасет на тестовую и тренировочную выборки",
   "metadata": {}
  },
  {
   "cell_type": "code",
   "source": "X_train, X_test, y_train, y_test = train_test_split(X, y, test_size = 0.2, random_state = 0)",
   "metadata": {
    "execution": {
     "iopub.status.busy": "2022-12-22T08:41:39.948438Z",
     "iopub.execute_input": "2022-12-22T08:41:39.948992Z",
     "iopub.status.idle": "2022-12-22T08:41:39.959079Z",
     "shell.execute_reply.started": "2022-12-22T08:41:39.948960Z",
     "shell.execute_reply": "2022-12-22T08:41:39.958139Z"
    },
    "trusted": true
   },
   "execution_count": 84,
   "outputs": []
  },
  {
   "cell_type": "markdown",
   "source": "### Проведем стандартизацию входящих значений",
   "metadata": {}
  },
  {
   "cell_type": "code",
   "source": "sc = StandardScaler()\nX_train = sc.fit_transform(X_train)\nX_test = sc.transform(X_test)",
   "metadata": {
    "execution": {
     "iopub.status.busy": "2022-12-22T08:41:39.960165Z",
     "iopub.execute_input": "2022-12-22T08:41:39.961537Z",
     "iopub.status.idle": "2022-12-22T08:41:39.974700Z",
     "shell.execute_reply.started": "2022-12-22T08:41:39.961471Z",
     "shell.execute_reply": "2022-12-22T08:41:39.973342Z"
    },
    "trusted": true
   },
   "execution_count": 85,
   "outputs": []
  },
  {
   "cell_type": "markdown",
   "source": "### Создадим даатфрейм summary - в него будем помещать данные об эффективности алгоритмов для последующего сравнения",
   "metadata": {}
  },
  {
   "cell_type": "code",
   "source": "\nalgo_summary = pd.DataFrame()\n\n\nalgos = ['Logistic Regression',\n         'Decision Tree',\n         'Random Forest',\n         'XGBoost',\n         'CatBoost']\nconf_matrixes = pd.DataFrame(\n    index=pd.MultiIndex.from_product([algos, ['1', '0']], \n                                     names=['Model:', 'Actual:']),\n                                     columns=pd.Index(['1', '0'], \n                                     name='Predicted:')\n)",
   "metadata": {
    "execution": {
     "iopub.status.busy": "2022-12-22T08:41:39.976525Z",
     "iopub.execute_input": "2022-12-22T08:41:39.977422Z",
     "iopub.status.idle": "2022-12-22T08:41:39.990475Z",
     "shell.execute_reply.started": "2022-12-22T08:41:39.977376Z",
     "shell.execute_reply": "2022-12-22T08:41:39.989565Z"
    },
    "trusted": true
   },
   "execution_count": 86,
   "outputs": []
  },
  {
   "cell_type": "code",
   "source": "print(conf_matrixes)",
   "metadata": {
    "execution": {
     "iopub.status.busy": "2022-12-22T08:41:39.992161Z",
     "iopub.execute_input": "2022-12-22T08:41:39.993455Z",
     "iopub.status.idle": "2022-12-22T08:41:40.001929Z",
     "shell.execute_reply.started": "2022-12-22T08:41:39.993411Z",
     "shell.execute_reply": "2022-12-22T08:41:40.000854Z"
    },
    "trusted": true
   },
   "execution_count": 87,
   "outputs": [
    {
     "name": "stdout",
     "text": "Predicted:                     1    0\nModel:              Actual:          \nLogistic Regression 1        NaN  NaN\n                    0        NaN  NaN\nDecision Tree       1        NaN  NaN\n                    0        NaN  NaN\nRandom Forest       1        NaN  NaN\n                    0        NaN  NaN\nXGBoost             1        NaN  NaN\n                    0        NaN  NaN\nCatBoost            1        NaN  NaN\n                    0        NaN  NaN\n",
     "output_type": "stream"
    }
   ]
  },
  {
   "cell_type": "markdown",
   "source": "## Лог. Регрессия",
   "metadata": {}
  },
  {
   "cell_type": "markdown",
   "source": "# Тренируем лог.регрессию на тренировочном наборе",
   "metadata": {}
  },
  {
   "cell_type": "code",
   "source": "from sklearn.linear_model import LogisticRegression\nclassifier = LogisticRegression(random_state = 0)\nclassifier.fit(X_train, y_train)",
   "metadata": {
    "execution": {
     "iopub.status.busy": "2022-12-22T08:41:40.003544Z",
     "iopub.execute_input": "2022-12-22T08:41:40.004456Z",
     "iopub.status.idle": "2022-12-22T08:41:40.046408Z",
     "shell.execute_reply.started": "2022-12-22T08:41:40.004411Z",
     "shell.execute_reply": "2022-12-22T08:41:40.045467Z"
    },
    "trusted": true
   },
   "execution_count": 88,
   "outputs": [
    {
     "execution_count": 88,
     "output_type": "execute_result",
     "data": {
      "text/plain": "LogisticRegression(random_state=0)"
     },
     "metadata": {}
    }
   ]
  },
  {
   "cell_type": "markdown",
   "source": "## Decision tree",
   "metadata": {}
  },
  {
   "cell_type": "code",
   "source": "from sklearn.tree import DecisionTreeClassifier\nclassifier = DecisionTreeClassifier(criterion = 'entropy', random_state = 0)\nclassifier.fit(X_train, y_train)",
   "metadata": {
    "execution": {
     "iopub.status.busy": "2022-12-22T08:41:40.047886Z",
     "iopub.execute_input": "2022-12-22T08:41:40.048455Z",
     "iopub.status.idle": "2022-12-22T08:41:40.150393Z",
     "shell.execute_reply.started": "2022-12-22T08:41:40.048418Z",
     "shell.execute_reply": "2022-12-22T08:41:40.149435Z"
    },
    "trusted": true
   },
   "execution_count": 89,
   "outputs": [
    {
     "execution_count": 89,
     "output_type": "execute_result",
     "data": {
      "text/plain": "DecisionTreeClassifier(criterion='entropy', random_state=0)"
     },
     "metadata": {}
    }
   ]
  },
  {
   "cell_type": "markdown",
   "source": "### Создадим матрицы ошибок - таблицу с 4 различными комбинациями сочетаний прогнозируемых и фактических значений ( false negative, false positive, true positive, true negative)",
   "metadata": {}
  },
  {
   "cell_type": "code",
   "source": "y_pred = classifier.predict(X_test)\ncm = confusion_matrix(y_test, y_pred)\n\nconf_matrixes.loc['Decision Tree'] = cm\n\nprint(cm)\naccuracy_score(y_test, y_pred)",
   "metadata": {
    "execution": {
     "iopub.status.busy": "2022-12-22T08:41:40.151830Z",
     "iopub.execute_input": "2022-12-22T08:41:40.152426Z",
     "iopub.status.idle": "2022-12-22T08:41:40.163045Z",
     "shell.execute_reply.started": "2022-12-22T08:41:40.152391Z",
     "shell.execute_reply": "2022-12-22T08:41:40.162325Z"
    },
    "trusted": true
   },
   "execution_count": 90,
   "outputs": [
    {
     "name": "stdout",
     "text": "[[522 386]\n [398 894]]\n",
     "output_type": "stream"
    },
    {
     "execution_count": 90,
     "output_type": "execute_result",
     "data": {
      "text/plain": "0.6436363636363637"
     },
     "metadata": {}
    }
   ]
  },
  {
   "cell_type": "markdown",
   "source": "## оценим модель при помощи кросс-валидации",
   "metadata": {}
  },
  {
   "cell_type": "code",
   "source": "accuracies = cross_val_score(estimator = classifier, X = X_train, y = y_train, cv = 10)\n\nalgo_summary.loc['Decision Tree', 'accuracy'] = accuracies.mean()\nalgo_summary.loc['Decision Tree', 'stdev'] = accuracies.std()\n\nprint(\"Accuracy: {:.2f} %\".format(accuracies.mean()*100))\nprint(\"Standard Deviation: {:.2f} %\".format(accuracies.std()*100))",
   "metadata": {
    "execution": {
     "iopub.status.busy": "2022-12-22T08:41:40.164145Z",
     "iopub.execute_input": "2022-12-22T08:41:40.164541Z",
     "iopub.status.idle": "2022-12-22T08:41:40.755272Z",
     "shell.execute_reply.started": "2022-12-22T08:41:40.164516Z",
     "shell.execute_reply": "2022-12-22T08:41:40.754300Z"
    },
    "trusted": true
   },
   "execution_count": 91,
   "outputs": [
    {
     "name": "stdout",
     "text": "Accuracy: 64.78 %\nStandard Deviation: 1.02 %\n",
     "output_type": "stream"
    }
   ]
  },
  {
   "cell_type": "markdown",
   "source": "## Random Forest Classification",
   "metadata": {}
  },
  {
   "cell_type": "markdown",
   "source": "### Обучение модели Random Forest",
   "metadata": {}
  },
  {
   "cell_type": "code",
   "source": "from sklearn.ensemble import RandomForestClassifier\nclassifier = RandomForestClassifier(n_estimators = 10, criterion = 'entropy', random_state = 0)\nclassifier.fit(X_train, y_train)",
   "metadata": {
    "execution": {
     "iopub.status.busy": "2022-12-22T08:41:40.756341Z",
     "iopub.execute_input": "2022-12-22T08:41:40.756615Z",
     "iopub.status.idle": "2022-12-22T08:41:40.894083Z",
     "shell.execute_reply.started": "2022-12-22T08:41:40.756573Z",
     "shell.execute_reply": "2022-12-22T08:41:40.893287Z"
    },
    "trusted": true
   },
   "execution_count": 92,
   "outputs": [
    {
     "execution_count": 92,
     "output_type": "execute_result",
     "data": {
      "text/plain": "RandomForestClassifier(criterion='entropy', n_estimators=10, random_state=0)"
     },
     "metadata": {}
    }
   ]
  },
  {
   "cell_type": "markdown",
   "source": "### Создадим матрицы ошибок",
   "metadata": {}
  },
  {
   "cell_type": "code",
   "source": "y_pred = classifier.predict(X_test)\ncm = confusion_matrix(y_test, y_pred)\n\nconf_matrixes.loc['Random Forest'] = cm\n\nprint(cm)\naccuracy_score(y_test, y_pred)",
   "metadata": {
    "execution": {
     "iopub.status.busy": "2022-12-22T08:41:40.895219Z",
     "iopub.execute_input": "2022-12-22T08:41:40.895734Z",
     "iopub.status.idle": "2022-12-22T08:41:40.912982Z",
     "shell.execute_reply.started": "2022-12-22T08:41:40.895703Z",
     "shell.execute_reply": "2022-12-22T08:41:40.912036Z"
    },
    "trusted": true
   },
   "execution_count": 93,
   "outputs": [
    {
     "name": "stdout",
     "text": "[[650 258]\n [492 800]]\n",
     "output_type": "stream"
    },
    {
     "execution_count": 93,
     "output_type": "execute_result",
     "data": {
      "text/plain": "0.6590909090909091"
     },
     "metadata": {}
    }
   ]
  },
  {
   "cell_type": "markdown",
   "source": "### Оценим модель при помощи кросс-валидации",
   "metadata": {}
  },
  {
   "cell_type": "code",
   "source": "accuracies = cross_val_score(estimator = classifier, X = X_train, y = y_train, cv = 10)\n\nalgo_summary.loc['Random Forest', 'accuracy'] = accuracies.mean()\nalgo_summary.loc['Random Forest', 'stdev'] = accuracies.std()\n\nprint(\"Accuracy: {:.2f} %\".format(accuracies.mean()*100))\nprint(\"Standard Deviation: {:.2f} %\".format(accuracies.std()*100))",
   "metadata": {
    "execution": {
     "iopub.status.busy": "2022-12-22T08:41:40.913970Z",
     "iopub.execute_input": "2022-12-22T08:41:40.914285Z",
     "iopub.status.idle": "2022-12-22T08:41:42.059478Z",
     "shell.execute_reply.started": "2022-12-22T08:41:40.914256Z",
     "shell.execute_reply": "2022-12-22T08:41:42.058017Z"
    },
    "trusted": true
   },
   "execution_count": 94,
   "outputs": [
    {
     "name": "stdout",
     "text": "Accuracy: 66.26 %\nStandard Deviation: 1.11 %\n",
     "output_type": "stream"
    }
   ]
  },
  {
   "cell_type": "markdown",
   "source": "## XGBoost",
   "metadata": {}
  },
  {
   "cell_type": "markdown",
   "source": "### Обучение",
   "metadata": {}
  },
  {
   "cell_type": "code",
   "source": "from xgboost import XGBClassifier\nclassifier = XGBClassifier()\nclassifier.fit(X_train, y_train)",
   "metadata": {
    "execution": {
     "iopub.status.busy": "2022-12-22T08:41:42.061144Z",
     "iopub.execute_input": "2022-12-22T08:41:42.061614Z",
     "iopub.status.idle": "2022-12-22T08:41:42.796246Z",
     "shell.execute_reply.started": "2022-12-22T08:41:42.061554Z",
     "shell.execute_reply": "2022-12-22T08:41:42.795287Z"
    },
    "trusted": true
   },
   "execution_count": 95,
   "outputs": [
    {
     "execution_count": 95,
     "output_type": "execute_result",
     "data": {
      "text/plain": "XGBClassifier(base_score=0.5, booster='gbtree', callbacks=None,\n              colsample_bylevel=1, colsample_bynode=1, colsample_bytree=1,\n              early_stopping_rounds=None, enable_categorical=False,\n              eval_metric=None, gamma=0, gpu_id=-1, grow_policy='depthwise',\n              importance_type=None, interaction_constraints='',\n              learning_rate=0.300000012, max_bin=256, max_cat_to_onehot=4,\n              max_delta_step=0, max_depth=6, max_leaves=0, min_child_weight=1,\n              missing=nan, monotone_constraints='()', n_estimators=100,\n              n_jobs=0, num_parallel_tree=1, predictor='auto', random_state=0,\n              reg_alpha=0, reg_lambda=1, ...)"
     },
     "metadata": {}
    }
   ]
  },
  {
   "cell_type": "markdown",
   "source": "### Создадим матрицы ошибок",
   "metadata": {}
  },
  {
   "cell_type": "code",
   "source": "y_pred = classifier.predict(X_test)\ncm = confusion_matrix(y_test, y_pred)\n\nconf_matrixes.loc['XGBoost'] = cm\n\nprint(cm)\naccuracy_score(y_test, y_pred)",
   "metadata": {
    "execution": {
     "iopub.status.busy": "2022-12-22T08:41:42.797560Z",
     "iopub.execute_input": "2022-12-22T08:41:42.798560Z",
     "iopub.status.idle": "2022-12-22T08:41:42.817193Z",
     "shell.execute_reply.started": "2022-12-22T08:41:42.798508Z",
     "shell.execute_reply": "2022-12-22T08:41:42.816463Z"
    },
    "trusted": true
   },
   "execution_count": 96,
   "outputs": [
    {
     "name": "stdout",
     "text": "[[574 334]\n [446 846]]\n",
     "output_type": "stream"
    },
    {
     "execution_count": 96,
     "output_type": "execute_result",
     "data": {
      "text/plain": "0.6454545454545455"
     },
     "metadata": {}
    }
   ]
  },
  {
   "cell_type": "markdown",
   "source": "### Оценим модель при помощи кросс-валидации",
   "metadata": {}
  },
  {
   "cell_type": "code",
   "source": "accuracies = cross_val_score(estimator = classifier, X = X_train, y = y_train, cv = 10)\n\nalgo_summary.loc['XGBoost', 'accuracy'] = accuracies.mean()\nalgo_summary.loc['XGBoost', 'stdev'] = accuracies.std()\n\nprint(\"Accuracy: {:.2f} %\".format(accuracies.mean()*100))\nprint(\"Standard Deviation: {:.2f} %\".format(accuracies.std()*100))",
   "metadata": {
    "execution": {
     "iopub.status.busy": "2022-12-22T08:41:42.818581Z",
     "iopub.execute_input": "2022-12-22T08:41:42.819124Z",
     "iopub.status.idle": "2022-12-22T08:41:50.180432Z",
     "shell.execute_reply.started": "2022-12-22T08:41:42.819089Z",
     "shell.execute_reply": "2022-12-22T08:41:50.179637Z"
    },
    "trusted": true
   },
   "execution_count": 97,
   "outputs": [
    {
     "name": "stdout",
     "text": "Accuracy: 65.39 %\nStandard Deviation: 1.39 %\n",
     "output_type": "stream"
    }
   ]
  },
  {
   "cell_type": "markdown",
   "source": "## CatBoost",
   "metadata": {}
  },
  {
   "cell_type": "markdown",
   "source": "### Оценим модель при помощи кросс-валидации",
   "metadata": {}
  },
  {
   "cell_type": "code",
   "source": "from catboost import CatBoostClassifier\nclassifier = CatBoostClassifier(silent=True)\nclassifier.fit(X_train, y_train)",
   "metadata": {
    "execution": {
     "iopub.status.busy": "2022-12-22T08:41:50.181833Z",
     "iopub.execute_input": "2022-12-22T08:41:50.182338Z",
     "iopub.status.idle": "2022-12-22T08:41:53.492451Z",
     "shell.execute_reply.started": "2022-12-22T08:41:50.182303Z",
     "shell.execute_reply": "2022-12-22T08:41:53.491461Z"
    },
    "trusted": true
   },
   "execution_count": 98,
   "outputs": [
    {
     "execution_count": 98,
     "output_type": "execute_result",
     "data": {
      "text/plain": "<catboost.core.CatBoostClassifier at 0x7fe03c7acd90>"
     },
     "metadata": {}
    }
   ]
  },
  {
   "cell_type": "markdown",
   "source": "### Создадим матрицы ошибок",
   "metadata": {}
  },
  {
   "cell_type": "code",
   "source": "y_pred = classifier.predict(X_test)\ncm = confusion_matrix(y_test, y_pred)\n\nconf_matrixes.loc['CatBoost'] = cm\n\nprint(cm)\naccuracy_score(y_test, y_pred)",
   "metadata": {
    "execution": {
     "iopub.status.busy": "2022-12-22T08:41:53.494635Z",
     "iopub.execute_input": "2022-12-22T08:41:53.495018Z",
     "iopub.status.idle": "2022-12-22T08:41:53.525277Z",
     "shell.execute_reply.started": "2022-12-22T08:41:53.494984Z",
     "shell.execute_reply": "2022-12-22T08:41:53.523972Z"
    },
    "trusted": true
   },
   "execution_count": 99,
   "outputs": [
    {
     "name": "stdout",
     "text": "[[644 264]\n [506 786]]\n",
     "output_type": "stream"
    },
    {
     "execution_count": 99,
     "output_type": "execute_result",
     "data": {
      "text/plain": "0.65"
     },
     "metadata": {}
    }
   ]
  },
  {
   "cell_type": "code",
   "source": "accuracies = cross_val_score(estimator = classifier, X = X_train, y = y_train, cv = 10)\n\nalgo_summary.loc['CatBoost', 'accuracy'] = accuracies.mean()\nalgo_summary.loc['CatBoost', 'stdev'] = accuracies.std()\n\nprint(\"Accuracy: {:.2f} %\".format(accuracies.mean()*100))\nprint(\"Standard Deviation: {:.2f} %\".format(accuracies.std()*100))",
   "metadata": {
    "execution": {
     "iopub.status.busy": "2022-12-22T08:41:53.528018Z",
     "iopub.execute_input": "2022-12-22T08:41:53.529345Z"
    },
    "trusted": true
   },
   "execution_count": null,
   "outputs": []
  },
  {
   "cell_type": "markdown",
   "source": "## Результат алгоритмов",
   "metadata": {}
  },
  {
   "cell_type": "markdown",
   "source": "### Создадим map с результатами каждого алгоритма, чтобы сравнить их между собой",
   "metadata": {}
  },
  {
   "cell_type": "code",
   "source": "cmap = sns.light_palette(\"blue\", as_cmap=True)\n\n(algo_summary.style\n    .background_gradient(subset='accuracy', cmap=cmap)\n    .format('{:,.1%}')\n)",
   "metadata": {
    "trusted": true
   },
   "execution_count": null,
   "outputs": []
  }
 ]
}

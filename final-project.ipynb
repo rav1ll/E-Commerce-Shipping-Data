{
 "metadata": {
  "kernelspec": {
   "language": "python",
   "display_name": "Python 3",
   "name": "python3"
  },
  "language_info": {
   "name": "python",
   "version": "3.7.12",
   "mimetype": "text/x-python",
   "codemirror_mode": {
    "name": "ipython",
    "version": 3
   },
   "pygments_lexer": "ipython3",
   "nbconvert_exporter": "python",
   "file_extension": ".py"
  }
 },
 "nbformat_minor": 4,
 "nbformat": 4,
 "cells": [
  {
   "cell_type": "code",
   "source": [
    "import pandas as pd\n",
    "import numpy as np\n",
    "import seaborn as sns\n",
    "sns.set_style(\"whitegrid\")\n",
    "from sklearn.metrics import f1_score, precision_score, recall_score, accuracy_score"
   ],
   "metadata": {
    "_uuid": "99be7b3e-d436-451f-bb26-3f90407c4ef3",
    "_cell_guid": "ad13e1af-a5bc-47a1-8071-44da1a287f12",
    "collapsed": false,
    "jupyter": {
     "outputs_hidden": false
    },
    "execution": {
     "iopub.status.busy": "2022-12-22T13:50:51.917027Z",
     "iopub.execute_input": "2022-12-22T13:50:51.917456Z",
     "iopub.status.idle": "2022-12-22T13:50:51.923123Z",
     "shell.execute_reply.started": "2022-12-22T13:50:51.917418Z",
     "shell.execute_reply": "2022-12-22T13:50:51.922103Z"
    },
    "trusted": true
   },
   "execution_count": 115,
   "outputs": []
  },
  {
   "cell_type": "markdown",
   "source": [
    "## Загрузим датасет"
   ],
   "metadata": {
    "_uuid": "bacd869d-bfc8-4ba3-8d8d-6a89d59fec87",
    "_cell_guid": "ccff86c4-0b47-404a-9b49-492cec86a646",
    "trusted": true
   }
  },
  {
   "cell_type": "code",
   "source": [
    "dataset = pd.read_csv(r\"../input/customer-analytics/Train.csv\")"
   ],
   "metadata": {
    "_uuid": "e247ae65-8137-4b72-b563-2cd2acd4efa0",
    "_cell_guid": "a246a67c-c93d-43e6-ad96-c19d84d8e88b",
    "collapsed": false,
    "jupyter": {
     "outputs_hidden": false
    },
    "execution": {
     "iopub.status.busy": "2022-12-22T13:50:51.928221Z",
     "iopub.execute_input": "2022-12-22T13:50:51.928798Z",
     "iopub.status.idle": "2022-12-22T13:50:51.953288Z",
     "shell.execute_reply.started": "2022-12-22T13:50:51.928762Z",
     "shell.execute_reply": "2022-12-22T13:50:51.952336Z"
    },
    "trusted": true
   },
   "execution_count": 116,
   "outputs": []
  },
  {
   "cell_type": "code",
   "source": [
    "dataset.head()"
   ],
   "metadata": {
    "_uuid": "b3b37900-0aa0-4c53-a815-2f8a83cb0322",
    "_cell_guid": "e69365d9-6107-4143-949d-8f96022e5c75",
    "collapsed": false,
    "jupyter": {
     "outputs_hidden": false
    },
    "execution": {
     "iopub.status.busy": "2022-12-22T13:50:51.954832Z",
     "iopub.execute_input": "2022-12-22T13:50:51.955330Z",
     "iopub.status.idle": "2022-12-22T13:50:51.969587Z",
     "shell.execute_reply.started": "2022-12-22T13:50:51.955297Z",
     "shell.execute_reply": "2022-12-22T13:50:51.968533Z"
    },
    "trusted": true
   },
   "execution_count": 117,
   "outputs": [
    {
     "execution_count": 117,
     "output_type": "execute_result",
     "data": {
      "text/plain": "   ID Warehouse_block Mode_of_Shipment  Customer_care_calls  Customer_rating  \\\n0   1               D           Flight                    4                2   \n1   2               F           Flight                    4                5   \n2   3               A           Flight                    2                2   \n3   4               B           Flight                    3                3   \n4   5               C           Flight                    2                2   \n\n   Cost_of_the_Product  Prior_purchases Product_importance Gender  \\\n0                  177                3                low      F   \n1                  216                2                low      M   \n2                  183                4                low      M   \n3                  176                4             medium      M   \n4                  184                3             medium      F   \n\n   Discount_offered  Weight_in_gms  Reached.on.Time_Y.N  \n0                44           1233                    1  \n1                59           3088                    1  \n2                48           3374                    1  \n3                10           1177                    1  \n4                46           2484                    1  ",
      "text/html": "<div>\n<style scoped>\n    .dataframe tbody tr th:only-of-type {\n        vertical-align: middle;\n    }\n\n    .dataframe tbody tr th {\n        vertical-align: top;\n    }\n\n    .dataframe thead th {\n        text-align: right;\n    }\n</style>\n<table border=\"1\" class=\"dataframe\">\n  <thead>\n    <tr style=\"text-align: right;\">\n      <th></th>\n      <th>ID</th>\n      <th>Warehouse_block</th>\n      <th>Mode_of_Shipment</th>\n      <th>Customer_care_calls</th>\n      <th>Customer_rating</th>\n      <th>Cost_of_the_Product</th>\n      <th>Prior_purchases</th>\n      <th>Product_importance</th>\n      <th>Gender</th>\n      <th>Discount_offered</th>\n      <th>Weight_in_gms</th>\n      <th>Reached.on.Time_Y.N</th>\n    </tr>\n  </thead>\n  <tbody>\n    <tr>\n      <th>0</th>\n      <td>1</td>\n      <td>D</td>\n      <td>Flight</td>\n      <td>4</td>\n      <td>2</td>\n      <td>177</td>\n      <td>3</td>\n      <td>low</td>\n      <td>F</td>\n      <td>44</td>\n      <td>1233</td>\n      <td>1</td>\n    </tr>\n    <tr>\n      <th>1</th>\n      <td>2</td>\n      <td>F</td>\n      <td>Flight</td>\n      <td>4</td>\n      <td>5</td>\n      <td>216</td>\n      <td>2</td>\n      <td>low</td>\n      <td>M</td>\n      <td>59</td>\n      <td>3088</td>\n      <td>1</td>\n    </tr>\n    <tr>\n      <th>2</th>\n      <td>3</td>\n      <td>A</td>\n      <td>Flight</td>\n      <td>2</td>\n      <td>2</td>\n      <td>183</td>\n      <td>4</td>\n      <td>low</td>\n      <td>M</td>\n      <td>48</td>\n      <td>3374</td>\n      <td>1</td>\n    </tr>\n    <tr>\n      <th>3</th>\n      <td>4</td>\n      <td>B</td>\n      <td>Flight</td>\n      <td>3</td>\n      <td>3</td>\n      <td>176</td>\n      <td>4</td>\n      <td>medium</td>\n      <td>M</td>\n      <td>10</td>\n      <td>1177</td>\n      <td>1</td>\n    </tr>\n    <tr>\n      <th>4</th>\n      <td>5</td>\n      <td>C</td>\n      <td>Flight</td>\n      <td>2</td>\n      <td>2</td>\n      <td>184</td>\n      <td>3</td>\n      <td>medium</td>\n      <td>F</td>\n      <td>46</td>\n      <td>2484</td>\n      <td>1</td>\n    </tr>\n  </tbody>\n</table>\n</div>"
     },
     "metadata": {}
    }
   ]
  },
  {
   "cell_type": "code",
   "source": [
    "dataset.describe()"
   ],
   "metadata": {
    "_uuid": "1913a94f-910e-4a1d-b787-21148aacde50",
    "_cell_guid": "20cecb9c-1d07-4d73-83a3-fdd384b3c6b1",
    "collapsed": false,
    "jupyter": {
     "outputs_hidden": false
    },
    "execution": {
     "iopub.status.busy": "2022-12-22T13:50:51.971796Z",
     "iopub.execute_input": "2022-12-22T13:50:51.972328Z",
     "iopub.status.idle": "2022-12-22T13:50:52.010808Z",
     "shell.execute_reply.started": "2022-12-22T13:50:51.972272Z",
     "shell.execute_reply": "2022-12-22T13:50:52.009745Z"
    },
    "trusted": true
   },
   "execution_count": 118,
   "outputs": [
    {
     "execution_count": 118,
     "output_type": "execute_result",
     "data": {
      "text/plain": "                ID  Customer_care_calls  Customer_rating  Cost_of_the_Product  \\\ncount  10999.00000         10999.000000     10999.000000         10999.000000   \nmean    5500.00000             4.054459         2.990545           210.196836   \nstd     3175.28214             1.141490         1.413603            48.063272   \nmin        1.00000             2.000000         1.000000            96.000000   \n25%     2750.50000             3.000000         2.000000           169.000000   \n50%     5500.00000             4.000000         3.000000           214.000000   \n75%     8249.50000             5.000000         4.000000           251.000000   \nmax    10999.00000             7.000000         5.000000           310.000000   \n\n       Prior_purchases  Discount_offered  Weight_in_gms  Reached.on.Time_Y.N  \ncount     10999.000000      10999.000000   10999.000000         10999.000000  \nmean          3.567597         13.373216    3634.016729             0.596691  \nstd           1.522860         16.205527    1635.377251             0.490584  \nmin           2.000000          1.000000    1001.000000             0.000000  \n25%           3.000000          4.000000    1839.500000             0.000000  \n50%           3.000000          7.000000    4149.000000             1.000000  \n75%           4.000000         10.000000    5050.000000             1.000000  \nmax          10.000000         65.000000    7846.000000             1.000000  ",
      "text/html": "<div>\n<style scoped>\n    .dataframe tbody tr th:only-of-type {\n        vertical-align: middle;\n    }\n\n    .dataframe tbody tr th {\n        vertical-align: top;\n    }\n\n    .dataframe thead th {\n        text-align: right;\n    }\n</style>\n<table border=\"1\" class=\"dataframe\">\n  <thead>\n    <tr style=\"text-align: right;\">\n      <th></th>\n      <th>ID</th>\n      <th>Customer_care_calls</th>\n      <th>Customer_rating</th>\n      <th>Cost_of_the_Product</th>\n      <th>Prior_purchases</th>\n      <th>Discount_offered</th>\n      <th>Weight_in_gms</th>\n      <th>Reached.on.Time_Y.N</th>\n    </tr>\n  </thead>\n  <tbody>\n    <tr>\n      <th>count</th>\n      <td>10999.00000</td>\n      <td>10999.000000</td>\n      <td>10999.000000</td>\n      <td>10999.000000</td>\n      <td>10999.000000</td>\n      <td>10999.000000</td>\n      <td>10999.000000</td>\n      <td>10999.000000</td>\n    </tr>\n    <tr>\n      <th>mean</th>\n      <td>5500.00000</td>\n      <td>4.054459</td>\n      <td>2.990545</td>\n      <td>210.196836</td>\n      <td>3.567597</td>\n      <td>13.373216</td>\n      <td>3634.016729</td>\n      <td>0.596691</td>\n    </tr>\n    <tr>\n      <th>std</th>\n      <td>3175.28214</td>\n      <td>1.141490</td>\n      <td>1.413603</td>\n      <td>48.063272</td>\n      <td>1.522860</td>\n      <td>16.205527</td>\n      <td>1635.377251</td>\n      <td>0.490584</td>\n    </tr>\n    <tr>\n      <th>min</th>\n      <td>1.00000</td>\n      <td>2.000000</td>\n      <td>1.000000</td>\n      <td>96.000000</td>\n      <td>2.000000</td>\n      <td>1.000000</td>\n      <td>1001.000000</td>\n      <td>0.000000</td>\n    </tr>\n    <tr>\n      <th>25%</th>\n      <td>2750.50000</td>\n      <td>3.000000</td>\n      <td>2.000000</td>\n      <td>169.000000</td>\n      <td>3.000000</td>\n      <td>4.000000</td>\n      <td>1839.500000</td>\n      <td>0.000000</td>\n    </tr>\n    <tr>\n      <th>50%</th>\n      <td>5500.00000</td>\n      <td>4.000000</td>\n      <td>3.000000</td>\n      <td>214.000000</td>\n      <td>3.000000</td>\n      <td>7.000000</td>\n      <td>4149.000000</td>\n      <td>1.000000</td>\n    </tr>\n    <tr>\n      <th>75%</th>\n      <td>8249.50000</td>\n      <td>5.000000</td>\n      <td>4.000000</td>\n      <td>251.000000</td>\n      <td>4.000000</td>\n      <td>10.000000</td>\n      <td>5050.000000</td>\n      <td>1.000000</td>\n    </tr>\n    <tr>\n      <th>max</th>\n      <td>10999.00000</td>\n      <td>7.000000</td>\n      <td>5.000000</td>\n      <td>310.000000</td>\n      <td>10.000000</td>\n      <td>65.000000</td>\n      <td>7846.000000</td>\n      <td>1.000000</td>\n    </tr>\n  </tbody>\n</table>\n</div>"
     },
     "metadata": {}
    }
   ]
  },
  {
   "cell_type": "markdown",
   "source": [
    "## Уберем столбец с ID, он нам не нужен"
   ],
   "metadata": {
    "_uuid": "ff06bf8c-09c3-48c0-abff-83814aa54fe6",
    "_cell_guid": "f6e05ce6-16b1-43ca-a9ba-a29a3cb8c36e",
    "trusted": true
   }
  },
  {
   "cell_type": "code",
   "source": [
    "dataset.drop(columns=['ID'], inplace=True)"
   ],
   "metadata": {
    "_uuid": "3e46c104-deac-4b06-ab96-7c7d8ad562fa",
    "_cell_guid": "967ac3cc-7a13-40f2-8faa-e11e73a7104f",
    "collapsed": false,
    "jupyter": {
     "outputs_hidden": false
    },
    "execution": {
     "iopub.status.busy": "2022-12-22T13:50:52.012532Z",
     "iopub.execute_input": "2022-12-22T13:50:52.013656Z",
     "iopub.status.idle": "2022-12-22T13:50:52.020740Z",
     "shell.execute_reply.started": "2022-12-22T13:50:52.013591Z",
     "shell.execute_reply": "2022-12-22T13:50:52.019868Z"
    },
    "trusted": true
   },
   "execution_count": 119,
   "outputs": []
  },
  {
   "cell_type": "code",
   "source": [
    "dataset.info()"
   ],
   "metadata": {
    "_uuid": "2e12b15a-b7c1-4196-a0f8-60204387953a",
    "_cell_guid": "3580c739-999b-45e3-8781-2c789efbb44f",
    "collapsed": false,
    "jupyter": {
     "outputs_hidden": false
    },
    "execution": {
     "iopub.status.busy": "2022-12-22T13:50:52.022543Z",
     "iopub.execute_input": "2022-12-22T13:50:52.022862Z",
     "iopub.status.idle": "2022-12-22T13:50:52.042511Z",
     "shell.execute_reply.started": "2022-12-22T13:50:52.022831Z",
     "shell.execute_reply": "2022-12-22T13:50:52.041429Z"
    },
    "trusted": true
   },
   "execution_count": 120,
   "outputs": [
    {
     "name": "stdout",
     "text": "<class 'pandas.core.frame.DataFrame'>\nRangeIndex: 10999 entries, 0 to 10998\nData columns (total 11 columns):\n #   Column               Non-Null Count  Dtype \n---  ------               --------------  ----- \n 0   Warehouse_block      10999 non-null  object\n 1   Mode_of_Shipment     10999 non-null  object\n 2   Customer_care_calls  10999 non-null  int64 \n 3   Customer_rating      10999 non-null  int64 \n 4   Cost_of_the_Product  10999 non-null  int64 \n 5   Prior_purchases      10999 non-null  int64 \n 6   Product_importance   10999 non-null  object\n 7   Gender               10999 non-null  object\n 8   Discount_offered     10999 non-null  int64 \n 9   Weight_in_gms        10999 non-null  int64 \n 10  Reached.on.Time_Y.N  10999 non-null  int64 \ndtypes: int64(7), object(4)\nmemory usage: 945.4+ KB\n",
     "output_type": "stream"
    }
   ]
  },
  {
   "cell_type": "markdown",
   "source": [
    "## Посмотрим доставки, которые выполнены без задержек\n",
    "\n",
    "## Столбец reached on time дает 0 если доставка осуществлена вовремя"
   ],
   "metadata": {
    "_uuid": "c154dffc-1f55-4cd1-9158-121cd7707dc0",
    "_cell_guid": "97cd286f-11cf-4cd5-b74f-d9e4103c9239",
    "trusted": true
   }
  },
  {
   "cell_type": "code",
   "source": [
    "dataset[dataset['Reached.on.Time_Y.N'] == 0].describe().T"
   ],
   "metadata": {
    "_uuid": "57e20879-32f0-476b-b394-a7e0344e64c0",
    "_cell_guid": "0b46846f-7805-4cdf-90e5-76831c9aeed3",
    "collapsed": false,
    "jupyter": {
     "outputs_hidden": false
    },
    "execution": {
     "iopub.status.busy": "2022-12-22T13:50:52.043786Z",
     "iopub.execute_input": "2022-12-22T13:50:52.044174Z",
     "iopub.status.idle": "2022-12-22T13:50:52.081783Z",
     "shell.execute_reply.started": "2022-12-22T13:50:52.044142Z",
     "shell.execute_reply": "2022-12-22T13:50:52.080866Z"
    },
    "trusted": true
   },
   "execution_count": 121,
   "outputs": [
    {
     "execution_count": 121,
     "output_type": "execute_result",
     "data": {
      "text/plain": "                      count         mean          std     min     25%     50%  \\\nCustomer_care_calls  4436.0     4.147656     1.162771     2.0     3.0     4.0   \nCustomer_rating      4436.0     2.967989     1.414808     1.0     2.0     3.0   \nCost_of_the_Product  4436.0   214.498647    47.757432    97.0   174.0   222.0   \nPrior_purchases      4436.0     3.670424     1.525444     2.0     3.0     3.0   \nDiscount_offered     4436.0     5.545987     2.877727     1.0     3.0     6.0   \nWeight_in_gms        4436.0  4168.668395  1573.954178  1001.0  4043.5  4674.0   \nReached.on.Time_Y.N  4436.0     0.000000     0.000000     0.0     0.0     0.0   \n\n                        75%     max  \nCustomer_care_calls     5.0     7.0  \nCustomer_rating         4.0     5.0  \nCost_of_the_Product   254.0   310.0  \nPrior_purchases         4.0    10.0  \nDiscount_offered        8.0    10.0  \nWeight_in_gms        5337.0  6000.0  \nReached.on.Time_Y.N     0.0     0.0  ",
      "text/html": "<div>\n<style scoped>\n    .dataframe tbody tr th:only-of-type {\n        vertical-align: middle;\n    }\n\n    .dataframe tbody tr th {\n        vertical-align: top;\n    }\n\n    .dataframe thead th {\n        text-align: right;\n    }\n</style>\n<table border=\"1\" class=\"dataframe\">\n  <thead>\n    <tr style=\"text-align: right;\">\n      <th></th>\n      <th>count</th>\n      <th>mean</th>\n      <th>std</th>\n      <th>min</th>\n      <th>25%</th>\n      <th>50%</th>\n      <th>75%</th>\n      <th>max</th>\n    </tr>\n  </thead>\n  <tbody>\n    <tr>\n      <th>Customer_care_calls</th>\n      <td>4436.0</td>\n      <td>4.147656</td>\n      <td>1.162771</td>\n      <td>2.0</td>\n      <td>3.0</td>\n      <td>4.0</td>\n      <td>5.0</td>\n      <td>7.0</td>\n    </tr>\n    <tr>\n      <th>Customer_rating</th>\n      <td>4436.0</td>\n      <td>2.967989</td>\n      <td>1.414808</td>\n      <td>1.0</td>\n      <td>2.0</td>\n      <td>3.0</td>\n      <td>4.0</td>\n      <td>5.0</td>\n    </tr>\n    <tr>\n      <th>Cost_of_the_Product</th>\n      <td>4436.0</td>\n      <td>214.498647</td>\n      <td>47.757432</td>\n      <td>97.0</td>\n      <td>174.0</td>\n      <td>222.0</td>\n      <td>254.0</td>\n      <td>310.0</td>\n    </tr>\n    <tr>\n      <th>Prior_purchases</th>\n      <td>4436.0</td>\n      <td>3.670424</td>\n      <td>1.525444</td>\n      <td>2.0</td>\n      <td>3.0</td>\n      <td>3.0</td>\n      <td>4.0</td>\n      <td>10.0</td>\n    </tr>\n    <tr>\n      <th>Discount_offered</th>\n      <td>4436.0</td>\n      <td>5.545987</td>\n      <td>2.877727</td>\n      <td>1.0</td>\n      <td>3.0</td>\n      <td>6.0</td>\n      <td>8.0</td>\n      <td>10.0</td>\n    </tr>\n    <tr>\n      <th>Weight_in_gms</th>\n      <td>4436.0</td>\n      <td>4168.668395</td>\n      <td>1573.954178</td>\n      <td>1001.0</td>\n      <td>4043.5</td>\n      <td>4674.0</td>\n      <td>5337.0</td>\n      <td>6000.0</td>\n    </tr>\n    <tr>\n      <th>Reached.on.Time_Y.N</th>\n      <td>4436.0</td>\n      <td>0.000000</td>\n      <td>0.000000</td>\n      <td>0.0</td>\n      <td>0.0</td>\n      <td>0.0</td>\n      <td>0.0</td>\n      <td>0.0</td>\n    </tr>\n  </tbody>\n</table>\n</div>"
     },
     "metadata": {}
    }
   ]
  },
  {
   "cell_type": "markdown",
   "source": [
    "## А теперь те, что с задержкой"
   ],
   "metadata": {
    "_uuid": "41437f48-4c67-4ea3-a4ce-8db25edf197d",
    "_cell_guid": "a3ad3adf-3f57-4568-93db-2e8d87307d2b",
    "trusted": true
   }
  },
  {
   "cell_type": "code",
   "source": [
    "dataset[dataset['Reached.on.Time_Y.N'] == 1].describe().T"
   ],
   "metadata": {
    "_uuid": "5a3f136e-a650-40f2-a8b1-533ea5310454",
    "_cell_guid": "496affcc-20e4-4093-8146-0aa9eda076bc",
    "collapsed": false,
    "jupyter": {
     "outputs_hidden": false
    },
    "execution": {
     "iopub.status.busy": "2022-12-22T13:50:52.083607Z",
     "iopub.execute_input": "2022-12-22T13:50:52.084480Z",
     "iopub.status.idle": "2022-12-22T13:50:52.126034Z",
     "shell.execute_reply.started": "2022-12-22T13:50:52.084432Z",
     "shell.execute_reply": "2022-12-22T13:50:52.124676Z"
    },
    "trusted": true
   },
   "execution_count": 122,
   "outputs": [
    {
     "execution_count": 122,
     "output_type": "execute_result",
     "data": {
      "text/plain": "                      count         mean          std     min     25%     50%  \\\nCustomer_care_calls  6563.0     3.991467     1.122592     2.0     3.0     4.0   \nCustomer_rating      6563.0     3.005790     1.412692     1.0     2.0     3.0   \nCost_of_the_Product  6563.0   207.289197    48.054876    96.0   167.0   209.0   \nPrior_purchases      6563.0     3.498095     1.517285     2.0     3.0     3.0   \nDiscount_offered     6563.0    18.663721    19.108797     1.0     5.0     9.0   \nWeight_in_gms        6563.0  3272.640104  1576.148391  1001.0  1735.5  3231.0   \nReached.on.Time_Y.N  6563.0     1.000000     0.000000     1.0     1.0     1.0   \n\n                        75%     max  \nCustomer_care_calls     5.0     7.0  \nCustomer_rating         4.0     5.0  \nCost_of_the_Product   249.0   310.0  \nPrior_purchases         4.0    10.0  \nDiscount_offered       32.0    65.0  \nWeight_in_gms        4696.5  7846.0  \nReached.on.Time_Y.N     1.0     1.0  ",
      "text/html": "<div>\n<style scoped>\n    .dataframe tbody tr th:only-of-type {\n        vertical-align: middle;\n    }\n\n    .dataframe tbody tr th {\n        vertical-align: top;\n    }\n\n    .dataframe thead th {\n        text-align: right;\n    }\n</style>\n<table border=\"1\" class=\"dataframe\">\n  <thead>\n    <tr style=\"text-align: right;\">\n      <th></th>\n      <th>count</th>\n      <th>mean</th>\n      <th>std</th>\n      <th>min</th>\n      <th>25%</th>\n      <th>50%</th>\n      <th>75%</th>\n      <th>max</th>\n    </tr>\n  </thead>\n  <tbody>\n    <tr>\n      <th>Customer_care_calls</th>\n      <td>6563.0</td>\n      <td>3.991467</td>\n      <td>1.122592</td>\n      <td>2.0</td>\n      <td>3.0</td>\n      <td>4.0</td>\n      <td>5.0</td>\n      <td>7.0</td>\n    </tr>\n    <tr>\n      <th>Customer_rating</th>\n      <td>6563.0</td>\n      <td>3.005790</td>\n      <td>1.412692</td>\n      <td>1.0</td>\n      <td>2.0</td>\n      <td>3.0</td>\n      <td>4.0</td>\n      <td>5.0</td>\n    </tr>\n    <tr>\n      <th>Cost_of_the_Product</th>\n      <td>6563.0</td>\n      <td>207.289197</td>\n      <td>48.054876</td>\n      <td>96.0</td>\n      <td>167.0</td>\n      <td>209.0</td>\n      <td>249.0</td>\n      <td>310.0</td>\n    </tr>\n    <tr>\n      <th>Prior_purchases</th>\n      <td>6563.0</td>\n      <td>3.498095</td>\n      <td>1.517285</td>\n      <td>2.0</td>\n      <td>3.0</td>\n      <td>3.0</td>\n      <td>4.0</td>\n      <td>10.0</td>\n    </tr>\n    <tr>\n      <th>Discount_offered</th>\n      <td>6563.0</td>\n      <td>18.663721</td>\n      <td>19.108797</td>\n      <td>1.0</td>\n      <td>5.0</td>\n      <td>9.0</td>\n      <td>32.0</td>\n      <td>65.0</td>\n    </tr>\n    <tr>\n      <th>Weight_in_gms</th>\n      <td>6563.0</td>\n      <td>3272.640104</td>\n      <td>1576.148391</td>\n      <td>1001.0</td>\n      <td>1735.5</td>\n      <td>3231.0</td>\n      <td>4696.5</td>\n      <td>7846.0</td>\n    </tr>\n    <tr>\n      <th>Reached.on.Time_Y.N</th>\n      <td>6563.0</td>\n      <td>1.000000</td>\n      <td>0.000000</td>\n      <td>1.0</td>\n      <td>1.0</td>\n      <td>1.0</td>\n      <td>1.0</td>\n      <td>1.0</td>\n    </tr>\n  </tbody>\n</table>\n</div>"
     },
     "metadata": {}
    }
   ]
  },
  {
   "cell_type": "markdown",
   "source": [
    "### Общий процент просроченных доставок"
   ],
   "metadata": {
    "_uuid": "8c076bb2-5a21-4412-a349-da394f063e61",
    "_cell_guid": "dc811c4d-1f71-49ee-80de-31b5a94357db",
    "trusted": true
   }
  },
  {
   "cell_type": "code",
   "source": [
    "dataset['Reached.on.Time_Y.N'].mean()"
   ],
   "metadata": {
    "_uuid": "619ffb60-7a30-484b-8723-dfda4a123637",
    "_cell_guid": "a655404d-5352-4a74-8ab5-57a119efbb92",
    "collapsed": false,
    "jupyter": {
     "outputs_hidden": false
    },
    "execution": {
     "iopub.status.busy": "2022-12-22T13:50:52.131103Z",
     "iopub.execute_input": "2022-12-22T13:50:52.131476Z",
     "iopub.status.idle": "2022-12-22T13:50:52.138764Z",
     "shell.execute_reply.started": "2022-12-22T13:50:52.131441Z",
     "shell.execute_reply": "2022-12-22T13:50:52.137592Z"
    },
    "trusted": true
   },
   "execution_count": 123,
   "outputs": [
    {
     "execution_count": 123,
     "output_type": "execute_result",
     "data": {
      "text/plain": "0.5966906082371125"
     },
     "metadata": {}
    }
   ]
  },
  {
   "cell_type": "code",
   "source": [
    "dataset.nunique()"
   ],
   "metadata": {
    "_uuid": "55968fa7-8693-42bd-a39b-961b756380c9",
    "_cell_guid": "c9dcba54-6a9e-4b3f-b5bb-39fca71098b1",
    "collapsed": false,
    "jupyter": {
     "outputs_hidden": false
    },
    "execution": {
     "iopub.status.busy": "2022-12-22T13:50:52.140553Z",
     "iopub.execute_input": "2022-12-22T13:50:52.141806Z",
     "iopub.status.idle": "2022-12-22T13:50:52.160865Z",
     "shell.execute_reply.started": "2022-12-22T13:50:52.141769Z",
     "shell.execute_reply": "2022-12-22T13:50:52.159733Z"
    },
    "trusted": true
   },
   "execution_count": 124,
   "outputs": [
    {
     "execution_count": 124,
     "output_type": "execute_result",
     "data": {
      "text/plain": "Warehouse_block           5\nMode_of_Shipment          3\nCustomer_care_calls       6\nCustomer_rating           5\nCost_of_the_Product     215\nPrior_purchases           8\nProduct_importance        3\nGender                    2\nDiscount_offered         65\nWeight_in_gms          4034\nReached.on.Time_Y.N       2\ndtype: int64"
     },
     "metadata": {}
    }
   ]
  },
  {
   "cell_type": "code",
   "source": [
    "\n",
    "import matplotlib.pyplot as plt\n",
    "corrmat = dataset.corr(method='kendall')\n",
    "plt.subplots(figsize=(12,9))\n",
    "\n",
    "sns.heatmap(corrmat, vmax=0.9, square=True)"
   ],
   "metadata": {
    "_uuid": "10b0e403-2c29-460b-8ab7-a10324c9e670",
    "_cell_guid": "ff6d9876-50c1-4070-9084-bdcd33a0a743",
    "collapsed": false,
    "jupyter": {
     "outputs_hidden": false
    },
    "execution": {
     "iopub.status.busy": "2022-12-22T13:50:52.162267Z",
     "iopub.execute_input": "2022-12-22T13:50:52.162689Z",
     "iopub.status.idle": "2022-12-22T13:50:52.605914Z",
     "shell.execute_reply.started": "2022-12-22T13:50:52.162654Z",
     "shell.execute_reply": "2022-12-22T13:50:52.604848Z"
    },
    "trusted": true
   },
   "execution_count": 125,
   "outputs": [
    {
     "execution_count": 125,
     "output_type": "execute_result",
     "data": {
      "text/plain": "<AxesSubplot:>"
     },
     "metadata": {}
    },
    {
     "output_type": "display_data",
     "data": {
      "text/plain": "<Figure size 864x648 with 2 Axes>",
      "image/png": "[encoded data removed]"
     },
     "metadata": {}
    }
   ]
  },
  {
   "cell_type": "markdown",
   "source": [
    "### Видим, что: \n",
    "### есть корреляция скидки на товар и того, вовремя ли пришла посылка\n",
    "### чуть меньше коррелируют цена продукта и обращения в поддержку, а также предыдущие покупки и стоимость продукта"
   ],
   "metadata": {
    "_uuid": "bac1955d-4045-4e9f-a34f-70aef37e7c7b",
    "_cell_guid": "58f0c576-5ace-4cc6-91d2-3364d3219786",
    "trusted": true
   }
  },
  {
   "cell_type": "markdown",
   "source": [
    "## EDA"
   ],
   "metadata": {
    "_uuid": "45d4952a-da62-4efe-9a9a-11934fdd774c",
    "_cell_guid": "d4b0f6b4-af19-445f-a1d6-73b4d3911d1f",
    "trusted": true
   }
  },
  {
   "cell_type": "markdown",
   "source": [
    "## теперь покажем, что корреляции действительно имеют место\n",
    "## подготовим датафрейм для визуализации"
   ],
   "metadata": {
    "_uuid": "e0e9abeb-3504-4bcf-b4d1-9664a3dc8808",
    "_cell_guid": "c6783ccf-3715-47f6-9a83-de871648397a",
    "trusted": true
   }
  },
  {
   "cell_type": "code",
   "source": [
    "cols = dataset.columns.drop(['Cost_of_the_Product', \n",
    "                             'Discount_offered', \n",
    "                             'Weight_in_gms', \n",
    "                             'Reached.on.Time_Y.N'])\n",
    "\n",
    "cols2 = ['Cost_of_the_Product', \n",
    "         'Discount_offered', \n",
    "         'Weight_in_gms']\n",
    "\n",
    "\n",
    "target_col = dataset.columns[-1]\n",
    "target_col\n",
    "dfs = []\n",
    "\n",
    "for i in cols:\n",
    "\n",
    "    df = pd.DataFrame(dataset.groupby(i)[target_col].mean())\n",
    "    df['value_count'] = dataset.groupby(i)[target_col].count()\n",
    "    df['value_count_%_of_total'] = (dataset.groupby(i)[target_col].count()/len(dataset))\n",
    "    \n",
    "    df.rename(columns={'Reached.on.Time_Y.N' : '%_of_shipments_delayed'}, inplace=True)\n",
    "\n",
    "    df = (df.style\n",
    "        .bar(subset=[df.columns[0]], color='#e87d8f')\n",
    "        .bar(subset=['value_count'], color='#a4dba8')\n",
    "        .bar(subset=['value_count_%_of_total'], color='#9ad7e3')\n",
    "        .format(formatter={(df.columns[0]): '{:,.1%}',\n",
    "                           ('value_count_%_of_total'): '{:,.1%}'\n",
    "                              }))\n",
    "    \n",
    "    dfs.append(df)\n",
    "\n",
    "for i in cols2:\n",
    "\n",
    "    bins = pd.cut(dataset[i], 10)\n",
    "\n",
    "    df = pd.DataFrame(dataset.groupby(bins)[target_col].mean())\n",
    "    df['value_count'] = dataset.groupby(bins)[target_col].count()\n",
    "    df['value_count_%_of_total'] = (dataset.groupby(bins)[target_col].count()/len(dataset))\n",
    "    \n",
    "    df.rename(columns={'Reached.on.Time_Y.N' : '%_of_shipments_delayed'}, inplace=True)\n",
    "    \n",
    "    df = (df.style\n",
    "        .bar(subset=[df.columns[0]], color='#e87d8f')\n",
    "        .bar(subset=['value_count'], color='#a4dba8')\n",
    "        .bar(subset=['value_count_%_of_total'], color='#9ad7e3')\n",
    "        .format(formatter={(df.columns[0]): '{:,.1%}',\n",
    "                           ('value_count_%_of_total'): '{:,.1%}'\n",
    "                              }))\n",
    "\n",
    "    dfs.append(df)"
   ],
   "metadata": {
    "_uuid": "69e18fd2-75d9-43e7-b1db-e40dc43f7764",
    "_cell_guid": "63406444-c4bf-4fa7-bd24-8d0d7bf9e08b",
    "collapsed": false,
    "jupyter": {
     "outputs_hidden": false
    },
    "execution": {
     "iopub.status.busy": "2022-12-22T13:50:52.607489Z",
     "iopub.execute_input": "2022-12-22T13:50:52.608064Z",
     "iopub.status.idle": "2022-12-22T13:50:52.703181Z",
     "shell.execute_reply.started": "2022-12-22T13:50:52.608019Z",
     "shell.execute_reply": "2022-12-22T13:50:52.702103Z"
    },
    "trusted": true
   },
   "execution_count": 126,
   "outputs": []
  },
  {
   "cell_type": "markdown",
   "source": [
    "## Видим, что большая часть доставок осуществлена кораблями"
   ],
   "metadata": {
    "_uuid": "545a2ea3-e52e-4d00-885c-cc4fcf0b3bd7",
    "_cell_guid": "85c0868d-8f3a-44f0-9f62-5e0e360850da",
    "trusted": true
   }
  },
  {
   "cell_type": "code",
   "source": [
    "dfs[1]"
   ],
   "metadata": {
    "_uuid": "82db1f23-89c1-407c-9403-4e2be21dd7f4",
    "_cell_guid": "1ed89ff4-7c12-4384-b516-e1b53c8c83d6",
    "collapsed": false,
    "jupyter": {
     "outputs_hidden": false
    },
    "execution": {
     "iopub.status.busy": "2022-12-22T13:50:52.704510Z",
     "iopub.execute_input": "2022-12-22T13:50:52.704966Z",
     "iopub.status.idle": "2022-12-22T13:50:52.719922Z",
     "shell.execute_reply.started": "2022-12-22T13:50:52.704932Z",
     "shell.execute_reply": "2022-12-22T13:50:52.719193Z"
    },
    "trusted": true
   },
   "execution_count": 127,
   "outputs": [
    {
     "execution_count": 127,
     "output_type": "execute_result",
     "data": {
      "text/plain": "<pandas.io.formats.style.Styler at 0x7fbe15c657d0>",
      "text/html": "<style type=\"text/css\">\n#T_78edb_row0_col0 {\n  width: 10em;\n  height: 80%;\n  background: linear-gradient(90deg,#e87d8f 100.0%, transparent 100.0%);\n}\n#T_78edb_row0_col1 {\n  width: 10em;\n  height: 80%;\n  background: linear-gradient(90deg,#a4dba8 0.3%, transparent 0.3%);\n}\n#T_78edb_row0_col2 {\n  width: 10em;\n  height: 80%;\n  background: linear-gradient(90deg,#9ad7e3 0.3%, transparent 0.3%);\n}\n#T_78edb_row1_col0, #T_78edb_row1_col1, #T_78edb_row1_col2 {\n  width: 10em;\n  height: 80%;\n}\n#T_78edb_row2_col0 {\n  width: 10em;\n  height: 80%;\n  background: linear-gradient(90deg,#e87d8f 70.3%, transparent 70.3%);\n}\n#T_78edb_row2_col1 {\n  width: 10em;\n  height: 80%;\n  background: linear-gradient(90deg,#a4dba8 100.0%, transparent 100.0%);\n}\n#T_78edb_row2_col2 {\n  width: 10em;\n  height: 80%;\n  background: linear-gradient(90deg,#9ad7e3 100.0%, transparent 100.0%);\n}\n</style>\n<table id=\"T_78edb_\">\n  <thead>\n    <tr>\n      <th class=\"blank level0\" >&nbsp;</th>\n      <th class=\"col_heading level0 col0\" >%_of_shipments_delayed</th>\n      <th class=\"col_heading level0 col1\" >value_count</th>\n      <th class=\"col_heading level0 col2\" >value_count_%_of_total</th>\n    </tr>\n    <tr>\n      <th class=\"index_name level0\" >Mode_of_Shipment</th>\n      <th class=\"blank col0\" >&nbsp;</th>\n      <th class=\"blank col1\" >&nbsp;</th>\n      <th class=\"blank col2\" >&nbsp;</th>\n    </tr>\n  </thead>\n  <tbody>\n    <tr>\n      <th id=\"T_78edb_level0_row0\" class=\"row_heading level0 row0\" >Flight</th>\n      <td id=\"T_78edb_row0_col0\" class=\"data row0 col0\" >60.2%</td>\n      <td id=\"T_78edb_row0_col1\" class=\"data row0 col1\" >1777</td>\n      <td id=\"T_78edb_row0_col2\" class=\"data row0 col2\" >16.2%</td>\n    </tr>\n    <tr>\n      <th id=\"T_78edb_level0_row1\" class=\"row_heading level0 row1\" >Road</th>\n      <td id=\"T_78edb_row1_col0\" class=\"data row1 col0\" >58.8%</td>\n      <td id=\"T_78edb_row1_col1\" class=\"data row1 col1\" >1760</td>\n      <td id=\"T_78edb_row1_col2\" class=\"data row1 col2\" >16.0%</td>\n    </tr>\n    <tr>\n      <th id=\"T_78edb_level0_row2\" class=\"row_heading level0 row2\" >Ship</th>\n      <td id=\"T_78edb_row2_col0\" class=\"data row2 col0\" >59.8%</td>\n      <td id=\"T_78edb_row2_col1\" class=\"data row2 col1\" >7462</td>\n      <td id=\"T_78edb_row2_col2\" class=\"data row2 col2\" >67.8%</td>\n    </tr>\n  </tbody>\n</table>\n"
     },
     "metadata": {}
    }
   ]
  },
  {
   "cell_type": "markdown",
   "source": [
    "## С ростом стоимости продукта процент задержки доставки снижается"
   ],
   "metadata": {
    "_uuid": "98b039e2-3fe2-40ec-8751-b81476e8d3b0",
    "_cell_guid": "acf37688-2657-4893-825a-d93f440c4c2f",
    "trusted": true
   }
  },
  {
   "cell_type": "code",
   "source": [
    "dfs[7]"
   ],
   "metadata": {
    "_uuid": "45f3ff69-f442-4b72-9843-7dcfdcb348eb",
    "_cell_guid": "f1bbde07-4ed8-4492-8d6f-d1fd8a08c177",
    "collapsed": false,
    "jupyter": {
     "outputs_hidden": false
    },
    "execution": {
     "iopub.status.busy": "2022-12-22T13:50:52.721024Z",
     "iopub.execute_input": "2022-12-22T13:50:52.721465Z",
     "iopub.status.idle": "2022-12-22T13:50:52.747949Z",
     "shell.execute_reply.started": "2022-12-22T13:50:52.721434Z",
     "shell.execute_reply": "2022-12-22T13:50:52.746790Z"
    },
    "trusted": true
   },
   "execution_count": 128,
   "outputs": [
    {
     "execution_count": 128,
     "output_type": "execute_result",
     "data": {
      "text/plain": "<pandas.io.formats.style.Styler at 0x7fbe15b86850>",
      "text/html": "<style type=\"text/css\">\n#T_ee3dc_row0_col0 {\n  width: 10em;\n  height: 80%;\n  background: linear-gradient(90deg,#e87d8f 99.3%, transparent 99.3%);\n}\n#T_ee3dc_row0_col1, #T_ee3dc_row0_col2, #T_ee3dc_row9_col0 {\n  width: 10em;\n  height: 80%;\n}\n#T_ee3dc_row1_col0 {\n  width: 10em;\n  height: 80%;\n  background: linear-gradient(90deg,#e87d8f 100.0%, transparent 100.0%);\n}\n#T_ee3dc_row1_col1 {\n  width: 10em;\n  height: 80%;\n  background: linear-gradient(90deg,#a4dba8 18.2%, transparent 18.2%);\n}\n#T_ee3dc_row1_col2 {\n  width: 10em;\n  height: 80%;\n  background: linear-gradient(90deg,#9ad7e3 18.2%, transparent 18.2%);\n}\n#T_ee3dc_row2_col0 {\n  width: 10em;\n  height: 80%;\n  background: linear-gradient(90deg,#e87d8f 83.6%, transparent 83.6%);\n}\n#T_ee3dc_row2_col1 {\n  width: 10em;\n  height: 80%;\n  background: linear-gradient(90deg,#a4dba8 70.1%, transparent 70.1%);\n}\n#T_ee3dc_row2_col2 {\n  width: 10em;\n  height: 80%;\n  background: linear-gradient(90deg,#9ad7e3 70.1%, transparent 70.1%);\n}\n#T_ee3dc_row3_col0 {\n  width: 10em;\n  height: 80%;\n  background: linear-gradient(90deg,#e87d8f 82.6%, transparent 82.6%);\n}\n#T_ee3dc_row3_col1 {\n  width: 10em;\n  height: 80%;\n  background: linear-gradient(90deg,#a4dba8 65.0%, transparent 65.0%);\n}\n#T_ee3dc_row3_col2 {\n  width: 10em;\n  height: 80%;\n  background: linear-gradient(90deg,#9ad7e3 65.0%, transparent 65.0%);\n}\n#T_ee3dc_row4_col0 {\n  width: 10em;\n  height: 80%;\n  background: linear-gradient(90deg,#e87d8f 78.7%, transparent 78.7%);\n}\n#T_ee3dc_row4_col1 {\n  width: 10em;\n  height: 80%;\n  background: linear-gradient(90deg,#a4dba8 67.0%, transparent 67.0%);\n}\n#T_ee3dc_row4_col2 {\n  width: 10em;\n  height: 80%;\n  background: linear-gradient(90deg,#9ad7e3 67.0%, transparent 67.0%);\n}\n#T_ee3dc_row5_col0 {\n  width: 10em;\n  height: 80%;\n  background: linear-gradient(90deg,#e87d8f 61.7%, transparent 61.7%);\n}\n#T_ee3dc_row5_col1 {\n  width: 10em;\n  height: 80%;\n  background: linear-gradient(90deg,#a4dba8 63.6%, transparent 63.6%);\n}\n#T_ee3dc_row5_col2 {\n  width: 10em;\n  height: 80%;\n  background: linear-gradient(90deg,#9ad7e3 63.6%, transparent 63.6%);\n}\n#T_ee3dc_row6_col0 {\n  width: 10em;\n  height: 80%;\n  background: linear-gradient(90deg,#e87d8f 54.9%, transparent 54.9%);\n}\n#T_ee3dc_row6_col1 {\n  width: 10em;\n  height: 80%;\n  background: linear-gradient(90deg,#a4dba8 82.6%, transparent 82.6%);\n}\n#T_ee3dc_row6_col2 {\n  width: 10em;\n  height: 80%;\n  background: linear-gradient(90deg,#9ad7e3 82.6%, transparent 82.6%);\n}\n#T_ee3dc_row7_col0 {\n  width: 10em;\n  height: 80%;\n  background: linear-gradient(90deg,#e87d8f 47.5%, transparent 47.5%);\n}\n#T_ee3dc_row7_col1 {\n  width: 10em;\n  height: 80%;\n  background: linear-gradient(90deg,#a4dba8 100.0%, transparent 100.0%);\n}\n#T_ee3dc_row7_col2 {\n  width: 10em;\n  height: 80%;\n  background: linear-gradient(90deg,#9ad7e3 100.0%, transparent 100.0%);\n}\n#T_ee3dc_row8_col0 {\n  width: 10em;\n  height: 80%;\n  background: linear-gradient(90deg,#e87d8f 53.0%, transparent 53.0%);\n}\n#T_ee3dc_row8_col1 {\n  width: 10em;\n  height: 80%;\n  background: linear-gradient(90deg,#a4dba8 42.9%, transparent 42.9%);\n}\n#T_ee3dc_row8_col2 {\n  width: 10em;\n  height: 80%;\n  background: linear-gradient(90deg,#9ad7e3 42.9%, transparent 42.9%);\n}\n#T_ee3dc_row9_col1 {\n  width: 10em;\n  height: 80%;\n  background: linear-gradient(90deg,#a4dba8 5.5%, transparent 5.5%);\n}\n#T_ee3dc_row9_col2 {\n  width: 10em;\n  height: 80%;\n  background: linear-gradient(90deg,#9ad7e3 5.5%, transparent 5.5%);\n}\n</style>\n<table id=\"T_ee3dc_\">\n  <thead>\n    <tr>\n      <th class=\"blank level0\" >&nbsp;</th>\n      <th class=\"col_heading level0 col0\" >%_of_shipments_delayed</th>\n      <th class=\"col_heading level0 col1\" >value_count</th>\n      <th class=\"col_heading level0 col2\" >value_count_%_of_total</th>\n    </tr>\n    <tr>\n      <th class=\"index_name level0\" >Cost_of_the_Product</th>\n      <th class=\"blank col0\" >&nbsp;</th>\n      <th class=\"blank col1\" >&nbsp;</th>\n      <th class=\"blank col2\" >&nbsp;</th>\n    </tr>\n  </thead>\n  <tbody>\n    <tr>\n      <th id=\"T_ee3dc_level0_row0\" class=\"row_heading level0 row0\" >(95.786, 117.4]</th>\n      <td id=\"T_ee3dc_row0_col0\" class=\"data row0 col0\" >66.2%</td>\n      <td id=\"T_ee3dc_row0_col1\" class=\"data row0 col1\" >222</td>\n      <td id=\"T_ee3dc_row0_col2\" class=\"data row0 col2\" >2.0%</td>\n    </tr>\n    <tr>\n      <th id=\"T_ee3dc_level0_row1\" class=\"row_heading level0 row1\" >(117.4, 138.8]</th>\n      <td id=\"T_ee3dc_row1_col0\" class=\"data row1 col0\" >66.4%</td>\n      <td id=\"T_ee3dc_row1_col1\" class=\"data row1 col1\" >532</td>\n      <td id=\"T_ee3dc_row1_col2\" class=\"data row1 col2\" >4.8%</td>\n    </tr>\n    <tr>\n      <th id=\"T_ee3dc_level0_row2\" class=\"row_heading level0 row2\" >(138.8, 160.2]</th>\n      <td id=\"T_ee3dc_row2_col0\" class=\"data row2 col0\" >63.2%</td>\n      <td id=\"T_ee3dc_row2_col1\" class=\"data row2 col1\" >1417</td>\n      <td id=\"T_ee3dc_row2_col2\" class=\"data row2 col2\" >12.9%</td>\n    </tr>\n    <tr>\n      <th id=\"T_ee3dc_level0_row3\" class=\"row_heading level0 row3\" >(160.2, 181.6]</th>\n      <td id=\"T_ee3dc_row3_col0\" class=\"data row3 col0\" >63.0%</td>\n      <td id=\"T_ee3dc_row3_col1\" class=\"data row3 col1\" >1331</td>\n      <td id=\"T_ee3dc_row3_col2\" class=\"data row3 col2\" >12.1%</td>\n    </tr>\n    <tr>\n      <th id=\"T_ee3dc_level0_row4\" class=\"row_heading level0 row4\" >(181.6, 203.0]</th>\n      <td id=\"T_ee3dc_row4_col0\" class=\"data row4 col0\" >62.2%</td>\n      <td id=\"T_ee3dc_row4_col1\" class=\"data row4 col1\" >1365</td>\n      <td id=\"T_ee3dc_row4_col2\" class=\"data row4 col2\" >12.4%</td>\n    </tr>\n    <tr>\n      <th id=\"T_ee3dc_level0_row5\" class=\"row_heading level0 row5\" >(203.0, 224.4]</th>\n      <td id=\"T_ee3dc_row5_col0\" class=\"data row5 col0\" >58.9%</td>\n      <td id=\"T_ee3dc_row5_col1\" class=\"data row5 col1\" >1306</td>\n      <td id=\"T_ee3dc_row5_col2\" class=\"data row5 col2\" >11.9%</td>\n    </tr>\n    <tr>\n      <th id=\"T_ee3dc_level0_row6\" class=\"row_heading level0 row6\" >(224.4, 245.8]</th>\n      <td id=\"T_ee3dc_row6_col0\" class=\"data row6 col0\" >57.5%</td>\n      <td id=\"T_ee3dc_row6_col1\" class=\"data row6 col1\" >1630</td>\n      <td id=\"T_ee3dc_row6_col2\" class=\"data row6 col2\" >14.8%</td>\n    </tr>\n    <tr>\n      <th id=\"T_ee3dc_level0_row7\" class=\"row_heading level0 row7\" >(245.8, 267.2]</th>\n      <td id=\"T_ee3dc_row7_col0\" class=\"data row7 col0\" >56.1%</td>\n      <td id=\"T_ee3dc_row7_col1\" class=\"data row7 col1\" >1927</td>\n      <td id=\"T_ee3dc_row7_col2\" class=\"data row7 col2\" >17.5%</td>\n    </tr>\n    <tr>\n      <th id=\"T_ee3dc_level0_row8\" class=\"row_heading level0 row8\" >(267.2, 288.6]</th>\n      <td id=\"T_ee3dc_row8_col0\" class=\"data row8 col0\" >57.2%</td>\n      <td id=\"T_ee3dc_row8_col1\" class=\"data row8 col1\" >953</td>\n      <td id=\"T_ee3dc_row8_col2\" class=\"data row8 col2\" >8.7%</td>\n    </tr>\n    <tr>\n      <th id=\"T_ee3dc_level0_row9\" class=\"row_heading level0 row9\" >(288.6, 310.0]</th>\n      <td id=\"T_ee3dc_row9_col0\" class=\"data row9 col0\" >46.8%</td>\n      <td id=\"T_ee3dc_row9_col1\" class=\"data row9 col1\" >316</td>\n      <td id=\"T_ee3dc_row9_col2\" class=\"data row9 col2\" >2.9%</td>\n    </tr>\n  </tbody>\n</table>\n"
     },
     "metadata": {}
    }
   ]
  },
  {
   "cell_type": "markdown",
   "source": [
    "## При наличии скидки на товар растет вероятность задержки доставки, причем при скидке от 14 процентов доставки всегда задерживаются"
   ],
   "metadata": {
    "_uuid": "f6490dc0-bd1f-47c4-b53c-fde1e1b42c9f",
    "_cell_guid": "acded562-1d16-4531-baed-64a3e30de7cc",
    "trusted": true
   }
  },
  {
   "cell_type": "code",
   "source": [
    "dfs[8]"
   ],
   "metadata": {
    "_uuid": "b2048c70-6c29-45c7-9575-f3b2558a2cc1",
    "_cell_guid": "9f93e15b-e5a4-4c52-b2f6-d85e26a8065e",
    "collapsed": false,
    "jupyter": {
     "outputs_hidden": false
    },
    "execution": {
     "iopub.status.busy": "2022-12-22T13:50:52.749538Z",
     "iopub.execute_input": "2022-12-22T13:50:52.749892Z",
     "iopub.status.idle": "2022-12-22T13:50:52.778232Z",
     "shell.execute_reply.started": "2022-12-22T13:50:52.749852Z",
     "shell.execute_reply": "2022-12-22T13:50:52.776654Z"
    },
    "trusted": true
   },
   "execution_count": 129,
   "outputs": [
    {
     "execution_count": 129,
     "output_type": "execute_result",
     "data": {
      "text/plain": "<pandas.io.formats.style.Styler at 0x7fbdfc758a10>",
      "text/html": "<style type=\"text/css\">\n#T_26b0a_row0_col0, #T_26b0a_row3_col1, #T_26b0a_row3_col2 {\n  width: 10em;\n  height: 80%;\n}\n#T_26b0a_row0_col1 {\n  width: 10em;\n  height: 80%;\n  background: linear-gradient(90deg,#a4dba8 100.0%, transparent 100.0%);\n}\n#T_26b0a_row0_col2 {\n  width: 10em;\n  height: 80%;\n  background: linear-gradient(90deg,#9ad7e3 100.0%, transparent 100.0%);\n}\n#T_26b0a_row1_col0 {\n  width: 10em;\n  height: 80%;\n  background: linear-gradient(90deg,#e87d8f 3.6%, transparent 3.6%);\n}\n#T_26b0a_row1_col1 {\n  width: 10em;\n  height: 80%;\n  background: linear-gradient(90deg,#a4dba8 43.0%, transparent 43.0%);\n}\n#T_26b0a_row1_col2 {\n  width: 10em;\n  height: 80%;\n  background: linear-gradient(90deg,#9ad7e3 43.0%, transparent 43.0%);\n}\n#T_26b0a_row2_col0, #T_26b0a_row3_col0, #T_26b0a_row4_col0, #T_26b0a_row5_col0, #T_26b0a_row6_col0, #T_26b0a_row7_col0, #T_26b0a_row8_col0, #T_26b0a_row9_col0 {\n  width: 10em;\n  height: 80%;\n  background: linear-gradient(90deg,#e87d8f 100.0%, transparent 100.0%);\n}\n#T_26b0a_row2_col1 {\n  width: 10em;\n  height: 80%;\n  background: linear-gradient(90deg,#a4dba8 1.2%, transparent 1.2%);\n}\n#T_26b0a_row2_col2 {\n  width: 10em;\n  height: 80%;\n  background: linear-gradient(90deg,#9ad7e3 1.2%, transparent 1.2%);\n}\n#T_26b0a_row4_col1 {\n  width: 10em;\n  height: 80%;\n  background: linear-gradient(90deg,#a4dba8 0.8%, transparent 0.8%);\n}\n#T_26b0a_row4_col2 {\n  width: 10em;\n  height: 80%;\n  background: linear-gradient(90deg,#9ad7e3 0.8%, transparent 0.8%);\n}\n#T_26b0a_row5_col1 {\n  width: 10em;\n  height: 80%;\n  background: linear-gradient(90deg,#a4dba8 0.5%, transparent 0.5%);\n}\n#T_26b0a_row5_col2 {\n  width: 10em;\n  height: 80%;\n  background: linear-gradient(90deg,#9ad7e3 0.5%, transparent 0.5%);\n}\n#T_26b0a_row6_col1 {\n  width: 10em;\n  height: 80%;\n  background: linear-gradient(90deg,#a4dba8 0.3%, transparent 0.3%);\n}\n#T_26b0a_row6_col2 {\n  width: 10em;\n  height: 80%;\n  background: linear-gradient(90deg,#9ad7e3 0.3%, transparent 0.3%);\n}\n#T_26b0a_row7_col1 {\n  width: 10em;\n  height: 80%;\n  background: linear-gradient(90deg,#a4dba8 1.9%, transparent 1.9%);\n}\n#T_26b0a_row7_col2 {\n  width: 10em;\n  height: 80%;\n  background: linear-gradient(90deg,#9ad7e3 1.9%, transparent 1.9%);\n}\n#T_26b0a_row8_col1 {\n  width: 10em;\n  height: 80%;\n  background: linear-gradient(90deg,#a4dba8 0.4%, transparent 0.4%);\n}\n#T_26b0a_row8_col2 {\n  width: 10em;\n  height: 80%;\n  background: linear-gradient(90deg,#9ad7e3 0.4%, transparent 0.4%);\n}\n#T_26b0a_row9_col1 {\n  width: 10em;\n  height: 80%;\n  background: linear-gradient(90deg,#a4dba8 1.3%, transparent 1.3%);\n}\n#T_26b0a_row9_col2 {\n  width: 10em;\n  height: 80%;\n  background: linear-gradient(90deg,#9ad7e3 1.3%, transparent 1.3%);\n}\n</style>\n<table id=\"T_26b0a_\">\n  <thead>\n    <tr>\n      <th class=\"blank level0\" >&nbsp;</th>\n      <th class=\"col_heading level0 col0\" >%_of_shipments_delayed</th>\n      <th class=\"col_heading level0 col1\" >value_count</th>\n      <th class=\"col_heading level0 col2\" >value_count_%_of_total</th>\n    </tr>\n    <tr>\n      <th class=\"index_name level0\" >Discount_offered</th>\n      <th class=\"blank col0\" >&nbsp;</th>\n      <th class=\"blank col1\" >&nbsp;</th>\n      <th class=\"blank col2\" >&nbsp;</th>\n    </tr>\n  </thead>\n  <tbody>\n    <tr>\n      <th id=\"T_26b0a_level0_row0\" class=\"row_heading level0 row0\" >(0.936, 7.4]</th>\n      <td id=\"T_26b0a_row0_col0\" class=\"data row0 col0\" >47.3%</td>\n      <td id=\"T_26b0a_row0_col1\" class=\"data row0 col1\" >5846</td>\n      <td id=\"T_26b0a_row0_col2\" class=\"data row0 col2\" >53.2%</td>\n    </tr>\n    <tr>\n      <th id=\"T_26b0a_level0_row1\" class=\"row_heading level0 row1\" >(7.4, 13.8]</th>\n      <td id=\"T_26b0a_row1_col0\" class=\"data row1 col0\" >49.2%</td>\n      <td id=\"T_26b0a_row1_col1\" class=\"data row1 col1\" >2668</td>\n      <td id=\"T_26b0a_row1_col2\" class=\"data row1 col2\" >24.3%</td>\n    </tr>\n    <tr>\n      <th id=\"T_26b0a_level0_row2\" class=\"row_heading level0 row2\" >(13.8, 20.2]</th>\n      <td id=\"T_26b0a_row2_col0\" class=\"data row2 col0\" >100.0%</td>\n      <td id=\"T_26b0a_row2_col1\" class=\"data row2 col1\" >334</td>\n      <td id=\"T_26b0a_row2_col2\" class=\"data row2 col2\" >3.0%</td>\n    </tr>\n    <tr>\n      <th id=\"T_26b0a_level0_row3\" class=\"row_heading level0 row3\" >(20.2, 26.6]</th>\n      <td id=\"T_26b0a_row3_col0\" class=\"data row3 col0\" >100.0%</td>\n      <td id=\"T_26b0a_row3_col1\" class=\"data row3 col1\" >266</td>\n      <td id=\"T_26b0a_row3_col2\" class=\"data row3 col2\" >2.4%</td>\n    </tr>\n    <tr>\n      <th id=\"T_26b0a_level0_row4\" class=\"row_heading level0 row4\" >(26.6, 33.0]</th>\n      <td id=\"T_26b0a_row4_col0\" class=\"data row4 col0\" >100.0%</td>\n      <td id=\"T_26b0a_row4_col1\" class=\"data row4 col1\" >310</td>\n      <td id=\"T_26b0a_row4_col2\" class=\"data row4 col2\" >2.8%</td>\n    </tr>\n    <tr>\n      <th id=\"T_26b0a_level0_row5\" class=\"row_heading level0 row5\" >(33.0, 39.4]</th>\n      <td id=\"T_26b0a_row5_col0\" class=\"data row5 col0\" >100.0%</td>\n      <td id=\"T_26b0a_row5_col1\" class=\"data row5 col1\" >295</td>\n      <td id=\"T_26b0a_row5_col2\" class=\"data row5 col2\" >2.7%</td>\n    </tr>\n    <tr>\n      <th id=\"T_26b0a_level0_row6\" class=\"row_heading level0 row6\" >(39.4, 45.8]</th>\n      <td id=\"T_26b0a_row6_col0\" class=\"data row6 col0\" >100.0%</td>\n      <td id=\"T_26b0a_row6_col1\" class=\"data row6 col1\" >281</td>\n      <td id=\"T_26b0a_row6_col2\" class=\"data row6 col2\" >2.6%</td>\n    </tr>\n    <tr>\n      <th id=\"T_26b0a_level0_row7\" class=\"row_heading level0 row7\" >(45.8, 52.2]</th>\n      <td id=\"T_26b0a_row7_col0\" class=\"data row7 col0\" >100.0%</td>\n      <td id=\"T_26b0a_row7_col1\" class=\"data row7 col1\" >373</td>\n      <td id=\"T_26b0a_row7_col2\" class=\"data row7 col2\" >3.4%</td>\n    </tr>\n    <tr>\n      <th id=\"T_26b0a_level0_row8\" class=\"row_heading level0 row8\" >(52.2, 58.6]</th>\n      <td id=\"T_26b0a_row8_col0\" class=\"data row8 col0\" >100.0%</td>\n      <td id=\"T_26b0a_row8_col1\" class=\"data row8 col1\" >289</td>\n      <td id=\"T_26b0a_row8_col2\" class=\"data row8 col2\" >2.6%</td>\n    </tr>\n    <tr>\n      <th id=\"T_26b0a_level0_row9\" class=\"row_heading level0 row9\" >(58.6, 65.0]</th>\n      <td id=\"T_26b0a_row9_col0\" class=\"data row9 col0\" >100.0%</td>\n      <td id=\"T_26b0a_row9_col1\" class=\"data row9 col1\" >337</td>\n      <td id=\"T_26b0a_row9_col2\" class=\"data row9 col2\" >3.1%</td>\n    </tr>\n  </tbody>\n</table>\n"
     },
     "metadata": {}
    }
   ]
  },
  {
   "cell_type": "markdown",
   "source": [
    "## Можно увидеть, что доставки с определенным весом имеют 100% шанс задержаться"
   ],
   "metadata": {
    "_uuid": "621c7f69-f6e7-4ff4-b953-482d8211e60e",
    "_cell_guid": "f86f68ff-f2b0-4498-9112-3b49b5fd8b51",
    "trusted": true
   }
  },
  {
   "cell_type": "code",
   "source": [
    "dfs[9]"
   ],
   "metadata": {
    "_uuid": "97e449b9-aed7-4ac4-b044-5a3d7d99586f",
    "_cell_guid": "252cf32c-2119-4f1b-b811-3cc5b2dc3963",
    "collapsed": false,
    "jupyter": {
     "outputs_hidden": false
    },
    "execution": {
     "iopub.status.busy": "2022-12-22T13:50:52.784565Z",
     "iopub.execute_input": "2022-12-22T13:50:52.785363Z",
     "iopub.status.idle": "2022-12-22T13:50:52.811518Z",
     "shell.execute_reply.started": "2022-12-22T13:50:52.785323Z",
     "shell.execute_reply": "2022-12-22T13:50:52.810271Z"
    },
    "trusted": true
   },
   "execution_count": 130,
   "outputs": [
    {
     "execution_count": 130,
     "output_type": "execute_result",
     "data": {
      "text/plain": "<pandas.io.formats.style.Styler at 0x7fbdfc7582d0>",
      "text/html": "<style type=\"text/css\">\n#T_8a565_row0_col0 {\n  width: 10em;\n  height: 80%;\n  background: linear-gradient(90deg,#e87d8f 45.0%, transparent 45.0%);\n}\n#T_8a565_row0_col1 {\n  width: 10em;\n  height: 80%;\n  background: linear-gradient(90deg,#a4dba8 100.0%, transparent 100.0%);\n}\n#T_8a565_row0_col2 {\n  width: 10em;\n  height: 80%;\n  background: linear-gradient(90deg,#9ad7e3 100.0%, transparent 100.0%);\n}\n#T_8a565_row1_col0 {\n  width: 10em;\n  height: 80%;\n  background: linear-gradient(90deg,#e87d8f 59.2%, transparent 59.2%);\n}\n#T_8a565_row1_col1 {\n  width: 10em;\n  height: 80%;\n  background: linear-gradient(90deg,#a4dba8 60.8%, transparent 60.8%);\n}\n#T_8a565_row1_col2 {\n  width: 10em;\n  height: 80%;\n  background: linear-gradient(90deg,#9ad7e3 60.8%, transparent 60.8%);\n}\n#T_8a565_row2_col0, #T_8a565_row3_col0, #T_8a565_row8_col0, #T_8a565_row9_col0 {\n  width: 10em;\n  height: 80%;\n  background: linear-gradient(90deg,#e87d8f 100.0%, transparent 100.0%);\n}\n#T_8a565_row2_col1 {\n  width: 10em;\n  height: 80%;\n  background: linear-gradient(90deg,#a4dba8 27.0%, transparent 27.0%);\n}\n#T_8a565_row2_col2 {\n  width: 10em;\n  height: 80%;\n  background: linear-gradient(90deg,#9ad7e3 27.0%, transparent 27.0%);\n}\n#T_8a565_row3_col1 {\n  width: 10em;\n  height: 80%;\n  background: linear-gradient(90deg,#a4dba8 28.0%, transparent 28.0%);\n}\n#T_8a565_row3_col2 {\n  width: 10em;\n  height: 80%;\n  background: linear-gradient(90deg,#9ad7e3 28.0%, transparent 28.0%);\n}\n#T_8a565_row4_col0 {\n  width: 10em;\n  height: 80%;\n  background: linear-gradient(90deg,#e87d8f 21.5%, transparent 21.5%);\n}\n#T_8a565_row4_col1 {\n  width: 10em;\n  height: 80%;\n  background: linear-gradient(90deg,#a4dba8 69.0%, transparent 69.0%);\n}\n#T_8a565_row4_col2 {\n  width: 10em;\n  height: 80%;\n  background: linear-gradient(90deg,#9ad7e3 69.0%, transparent 69.0%);\n}\n#T_8a565_row5_col0 {\n  width: 10em;\n  height: 80%;\n  background: linear-gradient(90deg,#e87d8f 1.8%, transparent 1.8%);\n}\n#T_8a565_row5_col1 {\n  width: 10em;\n  height: 80%;\n  background: linear-gradient(90deg,#a4dba8 93.0%, transparent 93.0%);\n}\n#T_8a565_row5_col2 {\n  width: 10em;\n  height: 80%;\n  background: linear-gradient(90deg,#9ad7e3 93.0%, transparent 93.0%);\n}\n#T_8a565_row6_col0 {\n  width: 10em;\n  height: 80%;\n  background: linear-gradient(90deg,#e87d8f 3.3%, transparent 3.3%);\n}\n#T_8a565_row6_col1 {\n  width: 10em;\n  height: 80%;\n  background: linear-gradient(90deg,#a4dba8 89.9%, transparent 89.9%);\n}\n#T_8a565_row6_col2 {\n  width: 10em;\n  height: 80%;\n  background: linear-gradient(90deg,#9ad7e3 89.9%, transparent 89.9%);\n}\n#T_8a565_row7_col0, #T_8a565_row8_col1, #T_8a565_row8_col2 {\n  width: 10em;\n  height: 80%;\n}\n#T_8a565_row7_col1 {\n  width: 10em;\n  height: 80%;\n  background: linear-gradient(90deg,#a4dba8 26.0%, transparent 26.0%);\n}\n#T_8a565_row7_col2 {\n  width: 10em;\n  height: 80%;\n  background: linear-gradient(90deg,#9ad7e3 26.0%, transparent 26.0%);\n}\n#T_8a565_row9_col1 {\n  width: 10em;\n  height: 80%;\n  background: linear-gradient(90deg,#a4dba8 0.2%, transparent 0.2%);\n}\n#T_8a565_row9_col2 {\n  width: 10em;\n  height: 80%;\n  background: linear-gradient(90deg,#9ad7e3 0.2%, transparent 0.2%);\n}\n</style>\n<table id=\"T_8a565_\">\n  <thead>\n    <tr>\n      <th class=\"blank level0\" >&nbsp;</th>\n      <th class=\"col_heading level0 col0\" >%_of_shipments_delayed</th>\n      <th class=\"col_heading level0 col1\" >value_count</th>\n      <th class=\"col_heading level0 col2\" >value_count_%_of_total</th>\n    </tr>\n    <tr>\n      <th class=\"index_name level0\" >Weight_in_gms</th>\n      <th class=\"blank col0\" >&nbsp;</th>\n      <th class=\"blank col1\" >&nbsp;</th>\n      <th class=\"blank col2\" >&nbsp;</th>\n    </tr>\n  </thead>\n  <tbody>\n    <tr>\n      <th id=\"T_8a565_level0_row0\" class=\"row_heading level0 row0\" >(994.155, 1685.5]</th>\n      <td id=\"T_8a565_row0_col0\" class=\"data row0 col0\" >67.6%</td>\n      <td id=\"T_8a565_row0_col1\" class=\"data row0 col1\" >2226</td>\n      <td id=\"T_8a565_row0_col2\" class=\"data row0 col2\" >20.2%</td>\n    </tr>\n    <tr>\n      <th id=\"T_8a565_level0_row1\" class=\"row_heading level0 row1\" >(1685.5, 2370.0]</th>\n      <td id=\"T_8a565_row1_col0\" class=\"data row1 col0\" >76.0%</td>\n      <td id=\"T_8a565_row1_col1\" class=\"data row1 col1\" >1353</td>\n      <td id=\"T_8a565_row1_col2\" class=\"data row1 col2\" >12.3%</td>\n    </tr>\n    <tr>\n      <th id=\"T_8a565_level0_row2\" class=\"row_heading level0 row2\" >(2370.0, 3054.5]</th>\n      <td id=\"T_8a565_row2_col0\" class=\"data row2 col0\" >100.0%</td>\n      <td id=\"T_8a565_row2_col1\" class=\"data row2 col1\" >602</td>\n      <td id=\"T_8a565_row2_col2\" class=\"data row2 col2\" >5.5%</td>\n    </tr>\n    <tr>\n      <th id=\"T_8a565_level0_row3\" class=\"row_heading level0 row3\" >(3054.5, 3739.0]</th>\n      <td id=\"T_8a565_row3_col0\" class=\"data row3 col0\" >100.0%</td>\n      <td id=\"T_8a565_row3_col1\" class=\"data row3 col1\" >624</td>\n      <td id=\"T_8a565_row3_col2\" class=\"data row3 col2\" >5.7%</td>\n    </tr>\n    <tr>\n      <th id=\"T_8a565_level0_row4\" class=\"row_heading level0 row4\" >(3739.0, 4423.5]</th>\n      <td id=\"T_8a565_row4_col0\" class=\"data row4 col0\" >53.7%</td>\n      <td id=\"T_8a565_row4_col1\" class=\"data row4 col1\" >1537</td>\n      <td id=\"T_8a565_row4_col2\" class=\"data row4 col2\" >14.0%</td>\n    </tr>\n    <tr>\n      <th id=\"T_8a565_level0_row5\" class=\"row_heading level0 row5\" >(4423.5, 5108.0]</th>\n      <td id=\"T_8a565_row5_col0\" class=\"data row5 col0\" >42.2%</td>\n      <td id=\"T_8a565_row5_col1\" class=\"data row5 col1\" >2071</td>\n      <td id=\"T_8a565_row5_col2\" class=\"data row5 col2\" >18.8%</td>\n    </tr>\n    <tr>\n      <th id=\"T_8a565_level0_row6\" class=\"row_heading level0 row6\" >(5108.0, 5792.5]</th>\n      <td id=\"T_8a565_row6_col0\" class=\"data row6 col0\" >43.0%</td>\n      <td id=\"T_8a565_row6_col1\" class=\"data row6 col1\" >2001</td>\n      <td id=\"T_8a565_row6_col2\" class=\"data row6 col2\" >18.2%</td>\n    </tr>\n    <tr>\n      <th id=\"T_8a565_level0_row7\" class=\"row_heading level0 row7\" >(5792.5, 6477.0]</th>\n      <td id=\"T_8a565_row7_col0\" class=\"data row7 col0\" >41.1%</td>\n      <td id=\"T_8a565_row7_col1\" class=\"data row7 col1\" >579</td>\n      <td id=\"T_8a565_row7_col2\" class=\"data row7 col2\" >5.3%</td>\n    </tr>\n    <tr>\n      <th id=\"T_8a565_level0_row8\" class=\"row_heading level0 row8\" >(6477.0, 7161.5]</th>\n      <td id=\"T_8a565_row8_col0\" class=\"data row8 col0\" >100.0%</td>\n      <td id=\"T_8a565_row8_col1\" class=\"data row8 col1\" >1</td>\n      <td id=\"T_8a565_row8_col2\" class=\"data row8 col2\" >0.0%</td>\n    </tr>\n    <tr>\n      <th id=\"T_8a565_level0_row9\" class=\"row_heading level0 row9\" >(7161.5, 7846.0]</th>\n      <td id=\"T_8a565_row9_col0\" class=\"data row9 col0\" >100.0%</td>\n      <td id=\"T_8a565_row9_col1\" class=\"data row9 col1\" >5</td>\n      <td id=\"T_8a565_row9_col2\" class=\"data row9 col2\" >0.0%</td>\n    </tr>\n  </tbody>\n</table>\n"
     },
     "metadata": {}
    }
   ]
  },
  {
   "cell_type": "markdown",
   "source": [
    "## Важные товары с большей вероятностью задерживаются"
   ],
   "metadata": {
    "_uuid": "a8adb131-98ad-46be-aa9f-211c4030d522",
    "_cell_guid": "52eaf626-bb35-435c-8c66-ba94469481d6",
    "trusted": true
   }
  },
  {
   "cell_type": "code",
   "source": [
    "dfs[5]"
   ],
   "metadata": {
    "_uuid": "e414b8fb-235d-4a8d-a0a1-ff81a43f9875",
    "_cell_guid": "0fea1c36-185c-48f3-a7b6-398b22ed7858",
    "collapsed": false,
    "jupyter": {
     "outputs_hidden": false
    },
    "execution": {
     "iopub.status.busy": "2022-12-22T13:50:52.812999Z",
     "iopub.execute_input": "2022-12-22T13:50:52.813418Z",
     "iopub.status.idle": "2022-12-22T13:50:52.828793Z",
     "shell.execute_reply.started": "2022-12-22T13:50:52.813373Z",
     "shell.execute_reply": "2022-12-22T13:50:52.827923Z"
    },
    "trusted": true
   },
   "execution_count": 131,
   "outputs": [
    {
     "execution_count": 131,
     "output_type": "execute_result",
     "data": {
      "text/plain": "<pandas.io.formats.style.Styler at 0x7fbdfc7b7950>",
      "text/html": "<style type=\"text/css\">\n#T_d0559_row0_col0 {\n  width: 10em;\n  height: 80%;\n  background: linear-gradient(90deg,#e87d8f 100.0%, transparent 100.0%);\n}\n#T_d0559_row0_col1, #T_d0559_row0_col2, #T_d0559_row2_col0 {\n  width: 10em;\n  height: 80%;\n}\n#T_d0559_row1_col0 {\n  width: 10em;\n  height: 80%;\n  background: linear-gradient(90deg,#e87d8f 3.9%, transparent 3.9%);\n}\n#T_d0559_row1_col1 {\n  width: 10em;\n  height: 80%;\n  background: linear-gradient(90deg,#a4dba8 100.0%, transparent 100.0%);\n}\n#T_d0559_row1_col2 {\n  width: 10em;\n  height: 80%;\n  background: linear-gradient(90deg,#9ad7e3 100.0%, transparent 100.0%);\n}\n#T_d0559_row2_col1 {\n  width: 10em;\n  height: 80%;\n  background: linear-gradient(90deg,#a4dba8 87.5%, transparent 87.5%);\n}\n#T_d0559_row2_col2 {\n  width: 10em;\n  height: 80%;\n  background: linear-gradient(90deg,#9ad7e3 87.5%, transparent 87.5%);\n}\n</style>\n<table id=\"T_d0559_\">\n  <thead>\n    <tr>\n      <th class=\"blank level0\" >&nbsp;</th>\n      <th class=\"col_heading level0 col0\" >%_of_shipments_delayed</th>\n      <th class=\"col_heading level0 col1\" >value_count</th>\n      <th class=\"col_heading level0 col2\" >value_count_%_of_total</th>\n    </tr>\n    <tr>\n      <th class=\"index_name level0\" >Product_importance</th>\n      <th class=\"blank col0\" >&nbsp;</th>\n      <th class=\"blank col1\" >&nbsp;</th>\n      <th class=\"blank col2\" >&nbsp;</th>\n    </tr>\n  </thead>\n  <tbody>\n    <tr>\n      <th id=\"T_d0559_level0_row0\" class=\"row_heading level0 row0\" >high</th>\n      <td id=\"T_d0559_row0_col0\" class=\"data row0 col0\" >65.0%</td>\n      <td id=\"T_d0559_row0_col1\" class=\"data row0 col1\" >948</td>\n      <td id=\"T_d0559_row0_col2\" class=\"data row0 col2\" >8.6%</td>\n    </tr>\n    <tr>\n      <th id=\"T_d0559_level0_row1\" class=\"row_heading level0 row1\" >low</th>\n      <td id=\"T_d0559_row1_col0\" class=\"data row1 col0\" >59.3%</td>\n      <td id=\"T_d0559_row1_col1\" class=\"data row1 col1\" >5297</td>\n      <td id=\"T_d0559_row1_col2\" class=\"data row1 col2\" >48.2%</td>\n    </tr>\n    <tr>\n      <th id=\"T_d0559_level0_row2\" class=\"row_heading level0 row2\" >medium</th>\n      <td id=\"T_d0559_row2_col0\" class=\"data row2 col0\" >59.0%</td>\n      <td id=\"T_d0559_row2_col1\" class=\"data row2 col1\" >4754</td>\n      <td id=\"T_d0559_row2_col2\" class=\"data row2 col2\" >43.2%</td>\n    </tr>\n  </tbody>\n</table>\n"
     },
     "metadata": {}
    }
   ]
  },
  {
   "cell_type": "markdown",
   "source": [
    "# Применение алгоритмов ML"
   ],
   "metadata": {
    "_uuid": "a02020c7-c36c-4d71-895a-202d0026ea94",
    "_cell_guid": "89beb214-8fa4-4905-824b-ee2415936850",
    "trusted": true
   }
  },
  {
   "cell_type": "code",
   "source": [
    "from sklearn.model_selection import train_test_split\n",
    "from sklearn.preprocessing import StandardScaler\n",
    "\n",
    "from sklearn.metrics import confusion_matrix, accuracy_score\n",
    "from sklearn.model_selection import cross_val_score"
   ],
   "metadata": {
    "_uuid": "4be94fff-f41f-4716-a6a5-38b2d9f752ea",
    "_cell_guid": "b8939dbc-2205-4c0d-9110-ebd10a73e27a",
    "collapsed": false,
    "jupyter": {
     "outputs_hidden": false
    },
    "execution": {
     "iopub.status.busy": "2022-12-22T13:50:52.830001Z",
     "iopub.execute_input": "2022-12-22T13:50:52.831261Z",
     "iopub.status.idle": "2022-12-22T13:50:52.838052Z",
     "shell.execute_reply.started": "2022-12-22T13:50:52.831224Z",
     "shell.execute_reply": "2022-12-22T13:50:52.837030Z"
    },
    "trusted": true
   },
   "execution_count": 132,
   "outputs": []
  },
  {
   "cell_type": "markdown",
   "source": [
    "## Сделаем так, чтобы сначала отображались фиктивные переменные ( числовые переменные, используемые для представления категориальных данных)"
   ],
   "metadata": {
    "_uuid": "e6363560-c742-44d9-8008-fec77de2bdd8",
    "_cell_guid": "b8bc812f-9b4f-4197-9de9-d204807d9868",
    "trusted": true
   }
  },
  {
   "cell_type": "code",
   "source": [
    "dataset = pd.get_dummies(dataset)"
   ],
   "metadata": {
    "_uuid": "5e630dfa-4169-4940-87a8-ee52e7ab696a",
    "_cell_guid": "e2d179bb-f0de-4412-a82e-457563dbbc14",
    "collapsed": false,
    "jupyter": {
     "outputs_hidden": false
    },
    "execution": {
     "iopub.status.busy": "2022-12-22T13:50:52.839382Z",
     "iopub.execute_input": "2022-12-22T13:50:52.839726Z",
     "iopub.status.idle": "2022-12-22T13:50:52.860996Z",
     "shell.execute_reply.started": "2022-12-22T13:50:52.839694Z",
     "shell.execute_reply": "2022-12-22T13:50:52.859671Z"
    },
    "trusted": true
   },
   "execution_count": 133,
   "outputs": []
  },
  {
   "cell_type": "code",
   "source": [
    "dataset.head()"
   ],
   "metadata": {
    "_uuid": "b7da1227-9d28-434f-9b42-31fadd3085fa",
    "_cell_guid": "35c8ae08-448c-476f-8bdb-9e5e33e7c3c8",
    "collapsed": false,
    "jupyter": {
     "outputs_hidden": false
    },
    "execution": {
     "iopub.status.busy": "2022-12-22T13:50:52.862367Z",
     "iopub.execute_input": "2022-12-22T13:50:52.862795Z",
     "iopub.status.idle": "2022-12-22T13:50:52.879088Z",
     "shell.execute_reply.started": "2022-12-22T13:50:52.862750Z",
     "shell.execute_reply": "2022-12-22T13:50:52.878387Z"
    },
    "trusted": true
   },
   "execution_count": 134,
   "outputs": [
    {
     "execution_count": 134,
     "output_type": "execute_result",
     "data": {
      "text/plain": "   Customer_care_calls  Customer_rating  Cost_of_the_Product  Prior_purchases  \\\n0                    4                2                  177                3   \n1                    4                5                  216                2   \n2                    2                2                  183                4   \n3                    3                3                  176                4   \n4                    2                2                  184                3   \n\n   Discount_offered  Weight_in_gms  Reached.on.Time_Y.N  Warehouse_block_A  \\\n0                44           1233                    1                  0   \n1                59           3088                    1                  0   \n2                48           3374                    1                  1   \n3                10           1177                    1                  0   \n4                46           2484                    1                  0   \n\n   Warehouse_block_B  Warehouse_block_C  Warehouse_block_D  Warehouse_block_F  \\\n0                  0                  0                  1                  0   \n1                  0                  0                  0                  1   \n2                  0                  0                  0                  0   \n3                  1                  0                  0                  0   \n4                  0                  1                  0                  0   \n\n   Mode_of_Shipment_Flight  Mode_of_Shipment_Road  Mode_of_Shipment_Ship  \\\n0                        1                      0                      0   \n1                        1                      0                      0   \n2                        1                      0                      0   \n3                        1                      0                      0   \n4                        1                      0                      0   \n\n   Product_importance_high  Product_importance_low  Product_importance_medium  \\\n0                        0                       1                          0   \n1                        0                       1                          0   \n2                        0                       1                          0   \n3                        0                       0                          1   \n4                        0                       0                          1   \n\n   Gender_F  Gender_M  \n0         1         0  \n1         0         1  \n2         0         1  \n3         0         1  \n4         1         0  ",
      "text/html": "<div>\n<style scoped>\n    .dataframe tbody tr th:only-of-type {\n        vertical-align: middle;\n    }\n\n    .dataframe tbody tr th {\n        vertical-align: top;\n    }\n\n    .dataframe thead th {\n        text-align: right;\n    }\n</style>\n<table border=\"1\" class=\"dataframe\">\n  <thead>\n    <tr style=\"text-align: right;\">\n      <th></th>\n      <th>Customer_care_calls</th>\n      <th>Customer_rating</th>\n      <th>Cost_of_the_Product</th>\n      <th>Prior_purchases</th>\n      <th>Discount_offered</th>\n      <th>Weight_in_gms</th>\n      <th>Reached.on.Time_Y.N</th>\n      <th>Warehouse_block_A</th>\n      <th>Warehouse_block_B</th>\n      <th>Warehouse_block_C</th>\n      <th>Warehouse_block_D</th>\n      <th>Warehouse_block_F</th>\n      <th>Mode_of_Shipment_Flight</th>\n      <th>Mode_of_Shipment_Road</th>\n      <th>Mode_of_Shipment_Ship</th>\n      <th>Product_importance_high</th>\n      <th>Product_importance_low</th>\n      <th>Product_importance_medium</th>\n      <th>Gender_F</th>\n      <th>Gender_M</th>\n    </tr>\n  </thead>\n  <tbody>\n    <tr>\n      <th>0</th>\n      <td>4</td>\n      <td>2</td>\n      <td>177</td>\n      <td>3</td>\n      <td>44</td>\n      <td>1233</td>\n      <td>1</td>\n      <td>0</td>\n      <td>0</td>\n      <td>0</td>\n      <td>1</td>\n      <td>0</td>\n      <td>1</td>\n      <td>0</td>\n      <td>0</td>\n      <td>0</td>\n      <td>1</td>\n      <td>0</td>\n      <td>1</td>\n      <td>0</td>\n    </tr>\n    <tr>\n      <th>1</th>\n      <td>4</td>\n      <td>5</td>\n      <td>216</td>\n      <td>2</td>\n      <td>59</td>\n      <td>3088</td>\n      <td>1</td>\n      <td>0</td>\n      <td>0</td>\n      <td>0</td>\n      <td>0</td>\n      <td>1</td>\n      <td>1</td>\n      <td>0</td>\n      <td>0</td>\n      <td>0</td>\n      <td>1</td>\n      <td>0</td>\n      <td>0</td>\n      <td>1</td>\n    </tr>\n    <tr>\n      <th>2</th>\n      <td>2</td>\n      <td>2</td>\n      <td>183</td>\n      <td>4</td>\n      <td>48</td>\n      <td>3374</td>\n      <td>1</td>\n      <td>1</td>\n      <td>0</td>\n      <td>0</td>\n      <td>0</td>\n      <td>0</td>\n      <td>1</td>\n      <td>0</td>\n      <td>0</td>\n      <td>0</td>\n      <td>1</td>\n      <td>0</td>\n      <td>0</td>\n      <td>1</td>\n    </tr>\n    <tr>\n      <th>3</th>\n      <td>3</td>\n      <td>3</td>\n      <td>176</td>\n      <td>4</td>\n      <td>10</td>\n      <td>1177</td>\n      <td>1</td>\n      <td>0</td>\n      <td>1</td>\n      <td>0</td>\n      <td>0</td>\n      <td>0</td>\n      <td>1</td>\n      <td>0</td>\n      <td>0</td>\n      <td>0</td>\n      <td>0</td>\n      <td>1</td>\n      <td>0</td>\n      <td>1</td>\n    </tr>\n    <tr>\n      <th>4</th>\n      <td>2</td>\n      <td>2</td>\n      <td>184</td>\n      <td>3</td>\n      <td>46</td>\n      <td>2484</td>\n      <td>1</td>\n      <td>0</td>\n      <td>0</td>\n      <td>1</td>\n      <td>0</td>\n      <td>0</td>\n      <td>1</td>\n      <td>0</td>\n      <td>0</td>\n      <td>0</td>\n      <td>0</td>\n      <td>1</td>\n      <td>1</td>\n      <td>0</td>\n    </tr>\n  </tbody>\n</table>\n</div>"
     },
     "metadata": {}
    }
   ]
  },
  {
   "cell_type": "markdown",
   "source": [
    "### Поместим столбец \"reached on time\" в конец"
   ],
   "metadata": {
    "_uuid": "f9e75f78-4990-402a-8fa4-bf76287531b0",
    "_cell_guid": "56b3ac3d-7d2a-488b-b5b4-2e3e6bdf7cf1",
    "trusted": true
   }
  },
  {
   "cell_type": "code",
   "source": [
    "\n",
    "cols = list(dataset.columns.values)\n",
    "cols.pop(cols.index('Reached.on.Time_Y.N'))\n",
    "dataset = dataset[cols+['Reached.on.Time_Y.N']]\n",
    "X = dataset.iloc[:, :-1].values\n",
    "y = dataset.iloc[:, -1].values"
   ],
   "metadata": {
    "_uuid": "5e50a7dd-c93d-405c-bd92-e35ba7f0d81d",
    "_cell_guid": "e363dd52-2ebc-48dc-bc59-edc8ce95aa3e",
    "collapsed": false,
    "jupyter": {
     "outputs_hidden": false
    },
    "execution": {
     "iopub.status.busy": "2022-12-22T13:50:52.880172Z",
     "iopub.execute_input": "2022-12-22T13:50:52.881101Z",
     "iopub.status.idle": "2022-12-22T13:50:52.889901Z",
     "shell.execute_reply.started": "2022-12-22T13:50:52.881053Z",
     "shell.execute_reply": "2022-12-22T13:50:52.888892Z"
    },
    "trusted": true
   },
   "execution_count": 135,
   "outputs": []
  },
  {
   "cell_type": "markdown",
   "source": [
    "## Разделим датасет на тестовую и тренировочную выборки"
   ],
   "metadata": {
    "_uuid": "2724e747-545c-4ab4-966f-f19a6d620f55",
    "_cell_guid": "8eb57793-c253-4602-8aeb-6394ae71b63b",
    "trusted": true
   }
  },
  {
   "cell_type": "code",
   "source": [
    "X_train, X_test, y_train, y_test = train_test_split(X, y, test_size = 0.2, random_state = 0)"
   ],
   "metadata": {
    "_uuid": "d3426a79-2683-4db1-9832-9aac01ed773d",
    "_cell_guid": "8b202869-0c1d-48f1-bdb2-64523268635e",
    "collapsed": false,
    "jupyter": {
     "outputs_hidden": false
    },
    "execution": {
     "iopub.status.busy": "2022-12-22T13:50:52.891551Z",
     "iopub.execute_input": "2022-12-22T13:50:52.892329Z",
     "iopub.status.idle": "2022-12-22T13:50:52.901789Z",
     "shell.execute_reply.started": "2022-12-22T13:50:52.892283Z",
     "shell.execute_reply": "2022-12-22T13:50:52.900783Z"
    },
    "trusted": true
   },
   "execution_count": 136,
   "outputs": []
  },
  {
   "cell_type": "markdown",
   "source": [
    "### Проведем стандартизацию входящих значений"
   ],
   "metadata": {
    "_uuid": "c8c7b476-148b-421d-bf2b-03530bb2ed4a",
    "_cell_guid": "36923b22-94a5-4928-b406-d73d64106771",
    "trusted": true
   }
  },
  {
   "cell_type": "code",
   "source": [
    "sc = StandardScaler()\n",
    "X_train = sc.fit_transform(X_train)\n",
    "X_test = sc.transform(X_test)"
   ],
   "metadata": {
    "_uuid": "7a087e1b-6253-48f6-8a36-8d2a7d2f6b6b",
    "_cell_guid": "8f918c74-3fed-4902-a8d3-44874c71a4f2",
    "collapsed": false,
    "jupyter": {
     "outputs_hidden": false
    },
    "execution": {
     "iopub.status.busy": "2022-12-22T13:50:52.903520Z",
     "iopub.execute_input": "2022-12-22T13:50:52.903980Z",
     "iopub.status.idle": "2022-12-22T13:50:52.915096Z",
     "shell.execute_reply.started": "2022-12-22T13:50:52.903937Z",
     "shell.execute_reply": "2022-12-22T13:50:52.914109Z"
    },
    "trusted": true
   },
   "execution_count": 137,
   "outputs": []
  },
  {
   "cell_type": "code",
   "source": [
    "algo_summary = pd.DataFrame()\n",
    "\n",
    "\n",
    "algos = ['Logistic Regression', 'K-NN', 'Naive Bayes', 'SVM', 'Kernel SVM', 'Decision Tree', 'Random Forest', 'XGBoost', 'CatBoost']\n",
    "conf_matrixes = pd.DataFrame(\n",
    "    index=pd.MultiIndex.from_product([algos, ['1', '0']], names=['Model:', 'Actual:']),\n",
    "    columns=pd.Index(['1', '0'], name='Predicted:')\n",
    ")"
   ],
   "metadata": {
    "execution": {
     "iopub.status.busy": "2022-12-22T13:50:52.916810Z",
     "iopub.execute_input": "2022-12-22T13:50:52.917480Z",
     "iopub.status.idle": "2022-12-22T13:50:52.927337Z",
     "shell.execute_reply.started": "2022-12-22T13:50:52.917434Z",
     "shell.execute_reply": "2022-12-22T13:50:52.926169Z"
    },
    "trusted": true
   },
   "execution_count": 138,
   "outputs": []
  },
  {
   "cell_type": "markdown",
   "source": [
    "# Применение Decision tree\n"
   ],
   "metadata": {
    "_uuid": "e85eef99-cb37-4346-97cb-cced434722bd",
    "_cell_guid": "b7da42c8-83f4-4e7c-b899-723e5b8106bc",
    "trusted": true
   }
  },
  {
   "cell_type": "code",
   "source": [
    "from sklearn.tree import DecisionTreeClassifier\n",
    "classifier = DecisionTreeClassifier(criterion = 'entropy', random_state = 0)\n",
    "classifier.fit(X_train, y_train)"
   ],
   "metadata": {
    "_uuid": "e9ccaf80-7898-41d8-a563-6ca135096212",
    "_cell_guid": "9ef27a07-9131-4d28-8d3c-a1e2f049b873",
    "collapsed": false,
    "jupyter": {
     "outputs_hidden": false
    },
    "execution": {
     "iopub.status.busy": "2022-12-22T13:50:52.928871Z",
     "iopub.execute_input": "2022-12-22T13:50:52.930350Z",
     "iopub.status.idle": "2022-12-22T13:50:53.005778Z",
     "shell.execute_reply.started": "2022-12-22T13:50:52.930245Z",
     "shell.execute_reply": "2022-12-22T13:50:53.004998Z"
    },
    "trusted": true
   },
   "execution_count": 139,
   "outputs": [
    {
     "execution_count": 139,
     "output_type": "execute_result",
     "data": {
      "text/plain": "DecisionTreeClassifier(criterion='entropy', random_state=0)"
     },
     "metadata": {}
    }
   ]
  },
  {
   "cell_type": "markdown",
   "source": [
    "### Создадим матрицы ошибок - таблицу с 4 различными комбинациями сочетаний прогнозируемых и фактических значений ( false negative, false positive, true positive, true negative)"
   ],
   "metadata": {
    "_uuid": "418b4197-bb9e-40bf-abc5-33074ef3dda8",
    "_cell_guid": "a57c10d5-79b9-409d-a4dd-79277bc8e182",
    "trusted": true
   }
  },
  {
   "cell_type": "code",
   "source": [
    "y_pred = classifier.predict(X_test)\n",
    "cm = confusion_matrix(y_test, y_pred)\n",
    "\n",
    "conf_matrixes.loc['Decision Tree'] = cm\n",
    "\n",
    "print(cm)"
   ],
   "metadata": {
    "_uuid": "8963c690-2c12-44db-8fc5-71a54969a7a5",
    "_cell_guid": "0868f987-6155-46f4-b14b-5e3a5b6a469f",
    "collapsed": false,
    "jupyter": {
     "outputs_hidden": false
    },
    "execution": {
     "iopub.status.busy": "2022-12-22T13:50:53.007277Z",
     "iopub.execute_input": "2022-12-22T13:50:53.007578Z",
     "iopub.status.idle": "2022-12-22T13:50:53.015565Z",
     "shell.execute_reply.started": "2022-12-22T13:50:53.007548Z",
     "shell.execute_reply": "2022-12-22T13:50:53.014553Z"
    },
    "trusted": true
   },
   "execution_count": 140,
   "outputs": [
    {
     "name": "stdout",
     "text": "[[522 386]\n [398 894]]\n",
     "output_type": "stream"
    }
   ]
  },
  {
   "cell_type": "markdown",
   "source": [
    "## Оценка работы алгоритма\n"
   ],
   "metadata": {}
  },
  {
   "cell_type": "code",
   "source": [
    "DecisionTree_f1score = f1_score(y_test, y_pred, average='weighted') \n",
    "DecisionTree_precisionscore = precision_score(y_test, y_pred, average='weighted')\n",
    "DecisionTree_recallscore = recall_score(y_test, y_pred, average='weighted')\n",
    "DecisionTree_accuracyscore = accuracy_score(y_test, y_pred)"
   ],
   "metadata": {
    "execution": {
     "iopub.status.busy": "2022-12-22T13:50:53.017070Z",
     "iopub.execute_input": "2022-12-22T13:50:53.017353Z",
     "iopub.status.idle": "2022-12-22T13:50:53.028513Z",
     "shell.execute_reply.started": "2022-12-22T13:50:53.017325Z",
     "shell.execute_reply": "2022-12-22T13:50:53.027645Z"
    },
    "trusted": true
   },
   "execution_count": 141,
   "outputs": []
  },
  {
   "cell_type": "markdown",
   "source": [
    "## Random Forest Classification"
   ],
   "metadata": {
    "_uuid": "5aac5ac4-1633-4a00-b88b-3d6ca18bb35e",
    "_cell_guid": "97e2d57e-f9dd-44ce-affe-57fff9df6a9c",
    "trusted": true
   }
  },
  {
   "cell_type": "markdown",
   "source": [
    "### Обучение модели Random Forest"
   ],
   "metadata": {
    "_uuid": "0c761cd4-8442-48b3-ad97-7605e31a8807",
    "_cell_guid": "34ab77df-519d-4b6c-a6f9-eb7a392b4368",
    "trusted": true
   }
  },
  {
   "cell_type": "code",
   "source": [
    "from sklearn.ensemble import RandomForestClassifier\n",
    "classifier = RandomForestClassifier(n_estimators = 10, criterion = 'entropy', random_state = 0)\n",
    "classifier.fit(X_train, y_train)"
   ],
   "metadata": {
    "_uuid": "4befc111-0e6b-4090-a6b4-19ab3776dbea",
    "_cell_guid": "729ac9d9-42d4-4458-9078-0502c2c90454",
    "collapsed": false,
    "jupyter": {
     "outputs_hidden": false
    },
    "execution": {
     "iopub.status.busy": "2022-12-22T13:50:53.030402Z",
     "iopub.execute_input": "2022-12-22T13:50:53.030692Z",
     "iopub.status.idle": "2022-12-22T13:50:53.166173Z",
     "shell.execute_reply.started": "2022-12-22T13:50:53.030663Z",
     "shell.execute_reply": "2022-12-22T13:50:53.165091Z"
    },
    "trusted": true
   },
   "execution_count": 142,
   "outputs": [
    {
     "execution_count": 142,
     "output_type": "execute_result",
     "data": {
      "text/plain": "RandomForestClassifier(criterion='entropy', n_estimators=10, random_state=0)"
     },
     "metadata": {}
    }
   ]
  },
  {
   "cell_type": "markdown",
   "source": [
    "### Создадим матрицы ошибок"
   ],
   "metadata": {
    "_uuid": "df821bff-b1cc-4d48-a502-f14bbcd975bb",
    "_cell_guid": "8b3f15f2-cb26-4f47-b765-537b13648f5c",
    "trusted": true
   }
  },
  {
   "cell_type": "code",
   "source": [
    "y_pred = classifier.predict(X_test)\n",
    "cm = confusion_matrix(y_test, y_pred)\n",
    "\n",
    "conf_matrixes.loc['Random Forest'] = cm\n",
    "\n",
    "print(cm)"
   ],
   "metadata": {
    "_uuid": "c0f5b1e6-add6-45ed-b0c8-df1bd26d7160",
    "_cell_guid": "6ef3733f-a3d9-49af-8517-f4ddfa1b6af2",
    "collapsed": false,
    "jupyter": {
     "outputs_hidden": false
    },
    "execution": {
     "iopub.status.busy": "2022-12-22T13:50:53.167730Z",
     "iopub.execute_input": "2022-12-22T13:50:53.168061Z",
     "iopub.status.idle": "2022-12-22T13:50:53.183547Z",
     "shell.execute_reply.started": "2022-12-22T13:50:53.168020Z",
     "shell.execute_reply": "2022-12-22T13:50:53.182560Z"
    },
    "trusted": true
   },
   "execution_count": 143,
   "outputs": [
    {
     "name": "stdout",
     "text": "[[650 258]\n [492 800]]\n",
     "output_type": "stream"
    }
   ]
  },
  {
   "cell_type": "markdown",
   "source": [
    "## Оценка работы алгоритма"
   ],
   "metadata": {}
  },
  {
   "cell_type": "code",
   "source": [
    "RandomForest_f1score = f1_score(y_test, y_pred, average='weighted') \n",
    "RandomForest_precisionscore = precision_score(y_test, y_pred, average='weighted')\n",
    "RandomForest_recallscore = recall_score(y_test, y_pred, average='weighted')\n",
    "RandomForest_accuracyscore = accuracy_score(y_test, y_pred)"
   ],
   "metadata": {
    "execution": {
     "iopub.status.busy": "2022-12-22T13:50:53.184975Z",
     "iopub.execute_input": "2022-12-22T13:50:53.185695Z",
     "iopub.status.idle": "2022-12-22T13:50:53.199122Z",
     "shell.execute_reply.started": "2022-12-22T13:50:53.185650Z",
     "shell.execute_reply": "2022-12-22T13:50:53.198177Z"
    },
    "trusted": true
   },
   "execution_count": 144,
   "outputs": []
  },
  {
   "cell_type": "markdown",
   "source": [
    "## XGBoost"
   ],
   "metadata": {
    "_uuid": "1fce233a-503a-4541-8c51-67eb85c82637",
    "_cell_guid": "5dd44dbf-fa15-489a-bb86-e02ad8edf8e3",
    "trusted": true
   }
  },
  {
   "cell_type": "markdown",
   "source": [
    "### Обучение"
   ],
   "metadata": {
    "_uuid": "544c6aa9-486b-44d3-a919-63611ddef47a",
    "_cell_guid": "16e37a13-74ce-4e9a-9ffb-b2a9fb4ad9dd",
    "trusted": true
   }
  },
  {
   "cell_type": "code",
   "source": [
    "from xgboost import XGBClassifier\n",
    "classifier = XGBClassifier()\n",
    "classifier.fit(X_train, y_train)"
   ],
   "metadata": {
    "_uuid": "6fe2f5e4-7326-4103-b0dc-3be74fd1d407",
    "_cell_guid": "83291aac-d146-478a-b836-fed30ddf78f1",
    "collapsed": false,
    "jupyter": {
     "outputs_hidden": false
    },
    "execution": {
     "iopub.status.busy": "2022-12-22T13:50:53.200493Z",
     "iopub.execute_input": "2022-12-22T13:50:53.200961Z",
     "iopub.status.idle": "2022-12-22T13:50:54.140526Z",
     "shell.execute_reply.started": "2022-12-22T13:50:53.200916Z",
     "shell.execute_reply": "2022-12-22T13:50:54.139560Z"
    },
    "trusted": true
   },
   "execution_count": 145,
   "outputs": [
    {
     "execution_count": 145,
     "output_type": "execute_result",
     "data": {
      "text/plain": "XGBClassifier(base_score=0.5, booster='gbtree', callbacks=None,\n              colsample_bylevel=1, colsample_bynode=1, colsample_bytree=1,\n              early_stopping_rounds=None, enable_categorical=False,\n              eval_metric=None, gamma=0, gpu_id=-1, grow_policy='depthwise',\n              importance_type=None, interaction_constraints='',\n              learning_rate=0.300000012, max_bin=256, max_cat_to_onehot=4,\n              max_delta_step=0, max_depth=6, max_leaves=0, min_child_weight=1,\n              missing=nan, monotone_constraints='()', n_estimators=100,\n              n_jobs=0, num_parallel_tree=1, predictor='auto', random_state=0,\n              reg_alpha=0, reg_lambda=1, ...)"
     },
     "metadata": {}
    }
   ]
  },
  {
   "cell_type": "markdown",
   "source": [
    "### Создадим матрицы ошибок"
   ],
   "metadata": {
    "_uuid": "24e636c4-a7d8-4d46-801d-543f86e98c30",
    "_cell_guid": "c5a3042a-ec89-4d6f-8d09-d9d673aad6dd",
    "trusted": true
   }
  },
  {
   "cell_type": "code",
   "source": [
    "y_pred = classifier.predict(X_test)\n",
    "cm = confusion_matrix(y_test, y_pred)\n",
    "\n",
    "conf_matrixes.loc['XGBoost'] = cm\n",
    "\n",
    "print(cm)"
   ],
   "metadata": {
    "_uuid": "2c92ef98-83f8-4c57-80f5-d0d412984c7f",
    "_cell_guid": "d4033255-6f6b-45a3-bb85-3bd3a8b02d75",
    "collapsed": false,
    "jupyter": {
     "outputs_hidden": false
    },
    "execution": {
     "iopub.status.busy": "2022-12-22T13:50:54.144434Z",
     "iopub.execute_input": "2022-12-22T13:50:54.145135Z",
     "iopub.status.idle": "2022-12-22T13:50:54.158183Z",
     "shell.execute_reply.started": "2022-12-22T13:50:54.145096Z",
     "shell.execute_reply": "2022-12-22T13:50:54.157367Z"
    },
    "trusted": true
   },
   "execution_count": 146,
   "outputs": [
    {
     "name": "stdout",
     "text": "[[574 334]\n [446 846]]\n",
     "output_type": "stream"
    }
   ]
  },
  {
   "cell_type": "markdown",
   "source": [
    "## Оценка работы алгоритма"
   ],
   "metadata": {}
  },
  {
   "cell_type": "code",
   "source": [
    "XGBoost_f1score = f1_score(y_test, y_pred, average='weighted') \n",
    "XGBoost_precisionscore = precision_score(y_test, y_pred, average='weighted')\n",
    "XGBoost_recallscore = recall_score(y_test, y_pred, average='weighted')\n",
    "XGBoost_accuracyscore = accuracy_score(y_test, y_pred)"
   ],
   "metadata": {
    "execution": {
     "iopub.status.busy": "2022-12-22T13:50:54.159322Z",
     "iopub.execute_input": "2022-12-22T13:50:54.159948Z",
     "iopub.status.idle": "2022-12-22T13:50:54.173397Z",
     "shell.execute_reply.started": "2022-12-22T13:50:54.159913Z",
     "shell.execute_reply": "2022-12-22T13:50:54.172105Z"
    },
    "trusted": true
   },
   "execution_count": 147,
   "outputs": []
  },
  {
   "cell_type": "markdown",
   "source": [
    "## CatBoost"
   ],
   "metadata": {
    "_uuid": "b8918657-cf10-47d3-8572-8dfe4ce837f9",
    "_cell_guid": "c21802b0-41ef-45a5-a849-acd850cb4f81",
    "trusted": true
   }
  },
  {
   "cell_type": "markdown",
   "source": [
    "### Обучение"
   ],
   "metadata": {
    "_uuid": "f83e1122-27c1-4c3d-bb93-26b2eaa1b761",
    "_cell_guid": "db7b714a-94d4-4098-ba24-63bd272238a5",
    "trusted": true
   }
  },
  {
   "cell_type": "code",
   "source": [
    "from catboost import CatBoostClassifier\n",
    "classifier = CatBoostClassifier(silent=True)\n",
    "classifier.fit(X_train, y_train)"
   ],
   "metadata": {
    "_uuid": "f959b738-e7dd-4333-b4be-3fbc4b1dbad7",
    "_cell_guid": "21c0f3dd-80b5-41b3-87bb-613405fef759",
    "collapsed": false,
    "jupyter": {
     "outputs_hidden": false
    },
    "execution": {
     "iopub.status.busy": "2022-12-22T13:50:54.174737Z",
     "iopub.execute_input": "2022-12-22T13:50:54.175081Z",
     "iopub.status.idle": "2022-12-22T13:50:58.124307Z",
     "shell.execute_reply.started": "2022-12-22T13:50:54.175048Z",
     "shell.execute_reply": "2022-12-22T13:50:58.122944Z"
    },
    "trusted": true
   },
   "execution_count": 148,
   "outputs": [
    {
     "execution_count": 148,
     "output_type": "execute_result",
     "data": {
      "text/plain": "<catboost.core.CatBoostClassifier at 0x7fbdfc70c650>"
     },
     "metadata": {}
    }
   ]
  },
  {
   "cell_type": "markdown",
   "source": [
    "### Создадим матрицы ошибок"
   ],
   "metadata": {
    "_uuid": "d8d2b1f9-d4ff-45b9-a159-4e413e14c288",
    "_cell_guid": "3e4a772f-e296-429c-882d-7153b09b5778",
    "trusted": true
   }
  },
  {
   "cell_type": "code",
   "source": [
    "y_pred = classifier.predict(X_test)\n",
    "cm = confusion_matrix(y_test, y_pred)\n",
    "\n",
    "conf_matrixes.loc['CatBoost'] = cm\n",
    "\n",
    "print(cm)"
   ],
   "metadata": {
    "_uuid": "ebdcc886-10e6-494c-93e4-fe3fdc0fc7ac",
    "_cell_guid": "86008df1-02e5-41ea-abf5-776ef1af2683",
    "collapsed": false,
    "jupyter": {
     "outputs_hidden": false
    },
    "execution": {
     "iopub.status.busy": "2022-12-22T13:50:58.130900Z",
     "iopub.execute_input": "2022-12-22T13:50:58.131722Z",
     "iopub.status.idle": "2022-12-22T13:50:58.168099Z",
     "shell.execute_reply.started": "2022-12-22T13:50:58.131671Z",
     "shell.execute_reply": "2022-12-22T13:50:58.166180Z"
    },
    "trusted": true
   },
   "execution_count": 149,
   "outputs": [
    {
     "name": "stdout",
     "text": "[[644 264]\n [506 786]]\n",
     "output_type": "stream"
    }
   ]
  },
  {
   "cell_type": "markdown",
   "source": [
    "## Оценка работы алгоритма"
   ],
   "metadata": {}
  },
  {
   "cell_type": "code",
   "source": [
    "CatBoost_f1score = f1_score(y_test, y_pred, average='weighted') \n",
    "CatBoost_precisionscore = precision_score(y_test, y_pred, average='weighted')\n",
    "CatBoost_recallscore = recall_score(y_test, y_pred, average='weighted')\n",
    "CatBoost_accuracyscore = accuracy_score(y_test, y_pred)"
   ],
   "metadata": {
    "execution": {
     "iopub.status.busy": "2022-12-22T13:50:58.169897Z",
     "iopub.execute_input": "2022-12-22T13:50:58.170340Z",
     "iopub.status.idle": "2022-12-22T13:50:58.186467Z",
     "shell.execute_reply.started": "2022-12-22T13:50:58.170297Z",
     "shell.execute_reply": "2022-12-22T13:50:58.185436Z"
    },
    "trusted": true
   },
   "execution_count": 150,
   "outputs": []
  },
  {
   "cell_type": "markdown",
   "source": [
    "# Графики с оценками алгоритмов"
   ],
   "metadata": {}
  },
  {
   "cell_type": "markdown",
   "source": [
    "## F1 score"
   ],
   "metadata": {}
  },
  {
   "cell_type": "code",
   "source": [
    "names = ['DecisionTree', 'RandomForest', 'XGBoost', 'CatBoost']\n",
    "results = [DecisionTree_f1score, RandomForest_f1score, XGBoost_f1score, CatBoost_f1score]\n",
    "plt.figure(figsize=(8,6))\n",
    "plt.bar(names,results, color='green')\n",
    "plt.xlabel(\"Модель\")\n",
    "plt.ylim((0.6,0.7))\n",
    "plt.ylabel(\"Результат\")\n",
    "plt.title(\"F1 Score\", fontsize=22)\n",
    "plt.legend()\n",
    "plt.show()"
   ],
   "metadata": {
    "execution": {
     "iopub.status.busy": "2022-12-22T13:50:58.187996Z",
     "iopub.execute_input": "2022-12-22T13:50:58.188691Z",
     "iopub.status.idle": "2022-12-22T13:50:58.414640Z",
     "shell.execute_reply.started": "2022-12-22T13:50:58.188657Z",
     "shell.execute_reply": "2022-12-22T13:50:58.413681Z"
    },
    "trusted": true
   },
   "execution_count": 151,
   "outputs": [
    {
     "output_type": "display_data",
     "data": {
      "text/plain": "<Figure size 576x432 with 1 Axes>",
      "image/png": "[encoded data removed]"
     },
     "metadata": {}
    }
   ]
  },
  {
   "cell_type": "markdown",
   "source": [
    "## Precision score"
   ],
   "metadata": {}
  },
  {
   "cell_type": "code",
   "source": [
    "names = ['DecisionTree', 'RandomForest', 'XGBoost', 'CatBoost']\n",
    "results = [DecisionTree_precisionscore, RandomForest_precisionscore, XGBoost_precisionscore, CatBoost_precisionscore]\n",
    "plt.figure(figsize=(8,6))\n",
    "plt.bar(names,results)\n",
    "plt.xlabel(\"Модель\")\n",
    "plt.ylim((0.6,0.7))\n",
    "plt.ylabel(\"Результат\")\n",
    "plt.title(\"Precision\", fontsize=22)\n",
    "plt.legend()\n",
    "plt.show()"
   ],
   "metadata": {
    "execution": {
     "iopub.status.busy": "2022-12-22T13:50:58.415990Z",
     "iopub.execute_input": "2022-12-22T13:50:58.416291Z",
     "iopub.status.idle": "2022-12-22T13:50:58.636607Z",
     "shell.execute_reply.started": "2022-12-22T13:50:58.416261Z",
     "shell.execute_reply": "2022-12-22T13:50:58.635711Z"
    },
    "trusted": true
   },
   "execution_count": 152,
   "outputs": [
    {
     "output_type": "display_data",
     "data": {
      "text/plain": "<Figure size 576x432 with 1 Axes>",
      "image/png": "[encoded data removed]"
     },
     "metadata": {}
    }
   ]
  },
  {
   "cell_type": "markdown",
   "source": [
    "## Accuracy"
   ],
   "metadata": {}
  },
  {
   "cell_type": "code",
   "source": [
    "names = ['DecisionTree', 'RandomForest', 'XGBoost', 'CatBoost']\n",
    "results = [DecisionTree_accuracyscore, RandomForest_accuracyscore, XGBoost_accuracyscore, CatBoost_accuracyscore]\n",
    "plt.figure(figsize=(8,6))\n",
    "plt.bar(names,results, color='lightblue')\n",
    "plt.xlabel(\"Модель\")\n",
    "plt.ylim((0.6,0.7))\n",
    "plt.ylabel(\"Результат\")\n",
    "plt.title(\"Accuracy\", fontsize=22)\n",
    "plt.legend()\n",
    "plt.show()"
   ],
   "metadata": {
    "execution": {
     "iopub.status.busy": "2022-12-22T13:50:58.638043Z",
     "iopub.execute_input": "2022-12-22T13:50:58.638364Z",
     "iopub.status.idle": "2022-12-22T13:50:58.854805Z",
     "shell.execute_reply.started": "2022-12-22T13:50:58.638333Z",
     "shell.execute_reply": "2022-12-22T13:50:58.853812Z"
    },
    "trusted": true
   },
   "execution_count": 153,
   "outputs": [
    {
     "output_type": "display_data",
     "data": {
      "text/plain": "<Figure size 576x432 with 1 Axes>",
      "image/png": "[encoded data removed]"
     },
     "metadata": {}
    }
   ]
  },
  {
   "cell_type": "markdown",
   "source": [
    "## Recall"
   ],
   "metadata": {}
  },
  {
   "cell_type": "code",
   "source": [
    "names = ['DecisionTree', 'RandomForest', 'XGBoost', 'CatBoost']\n",
    "results = [DecisionTree_recallscore, RandomForest_recallscore, XGBoost_recallscore, CatBoost_recallscore]\n",
    "plt.figure(figsize=(8,6))\n",
    "plt.bar(names,results, color='orange')\n",
    "plt.xlabel(\"Модель\")\n",
    "plt.ylim((0.6,0.7))\n",
    "plt.ylabel(\"Результат\")\n",
    "plt.title(\"Recall\", fontsize=22)\n",
    "plt.legend()\n",
    "plt.show()"
   ],
   "metadata": {
    "execution": {
     "iopub.status.busy": "2022-12-22T13:50:58.856380Z",
     "iopub.execute_input": "2022-12-22T13:50:58.856829Z",
     "iopub.status.idle": "2022-12-22T13:50:59.074693Z",
     "shell.execute_reply.started": "2022-12-22T13:50:58.856784Z",
     "shell.execute_reply": "2022-12-22T13:50:59.073565Z"
    },
    "trusted": true
   },
   "execution_count": 154,
   "outputs": [
    {
     "output_type": "display_data",
     "data": {
      "text/plain": "<Figure size 576x432 with 1 Axes>",
      "image/png": "[encoded data removed]"
     },
     "metadata": {}
    }
   ]
  }
 ]
}
